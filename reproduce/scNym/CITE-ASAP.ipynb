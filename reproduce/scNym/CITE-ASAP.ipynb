{
 "cells": [
  {
   "cell_type": "code",
   "execution_count": 1,
   "metadata": {},
   "outputs": [],
   "source": [
    "import numpy as np\n",
    "import pandas as pd\n",
    "import scanpy as sc\n",
    "import anndata\n",
    "import scnym\n",
    "import time\n",
    "import os\n",
    "from os.path import join\n",
    "import scipy.sparse as sps"
   ]
  },
  {
   "cell_type": "code",
   "execution_count": 2,
   "metadata": {},
   "outputs": [],
   "source": [
    "exp_id = 'CITE-ASAP'\n",
    "binz = False\n",
    "new_ident = 'new_identity_discovery'  # no_new_identity"
   ]
  },
  {
   "cell_type": "code",
   "execution_count": 3,
   "metadata": {},
   "outputs": [],
   "source": [
    "\n",
    "data_root = '/home/yxh/gitrepo/multi-omics/scJoint-main/data'\n",
    "\n",
    "train_adata = sc.read_h5ad(join(data_root, 'CITE-ASAP/adata_rna_cache.h5ad'))\n",
    "test_adata = sc.read_h5ad(join(data_root, 'CITE-ASAP/adata_atac_cache.h5ad'))\n",
    "test_adata.obs['cell_type_bkp'] = test_adata.obs.cell_type.values\n",
    "\n",
    "if binz:\n",
    "    train_adata.X = (train_adata.X>0).astype('float32')\n",
    "    test_adata.X  = (test_adata.X>0).astype('float32')\n",
    "    \n",
    "# preprocess datasets\n",
    "sc.pp.normalize_total(train_adata, target_sum=1e6)\n",
    "sc.pp.log1p(train_adata)\n",
    "\n",
    "sc.pp.normalize_total(test_adata, target_sum=1e6)\n",
    "sc.pp.log1p(test_adata)\n",
    "\n",
    "cite_adt = sc.AnnData(sps.load_npz(join(data_root, 'CITE-ASAP/citeseq_control_adt.npz')))\n",
    "asap_adt = sc.AnnData(sps.load_npz(join(data_root, 'CITE-ASAP/asapseq_control_adt.npz')))\n",
    "sc.pp.normalize_total(cite_adt, target_sum=1e6) # for some reason, need to be renormalized\n",
    "sc.pp.log1p(cite_adt)\n",
    "sc.pp.normalize_total(asap_adt, target_sum=1e6)\n",
    "sc.pp.log1p(asap_adt)\n",
    "\n",
    "# concat protein features\n",
    "train_adata = sc.AnnData(sps.csr_matrix(sps.hstack([train_adata.X, cite_adt.X])), obs=train_adata.obs)\n",
    "test_adata  = sc.AnnData(sps.csr_matrix(sps.hstack([test_adata.X,  asap_adt.X])), obs=test_adata.obs)"
   ]
  },
  {
   "cell_type": "code",
   "execution_count": 4,
   "metadata": {},
   "outputs": [
    {
     "name": "stdout",
     "output_type": "stream",
     "text": [
      "4644 cells, 17668 genes in the training set.\n",
      "4502 cells, 17668 genes in the target set.\n"
     ]
    }
   ],
   "source": [
    "print('%d cells, %d genes in the training set.' % train_adata.shape)\n",
    "print('%d cells, %d genes in the target set.' % test_adata.shape)"
   ]
  },
  {
   "cell_type": "code",
   "execution_count": 5,
   "metadata": {},
   "outputs": [],
   "source": [
    "meta_rna = train_adata.obs\n",
    "meta_atac = test_adata.obs\n",
    "\n",
    "meta = pd.concat([meta_rna, meta_atac], axis=0)"
   ]
  },
  {
   "cell_type": "code",
   "execution_count": 6,
   "metadata": {},
   "outputs": [
    {
     "name": "stdout",
     "output_type": "stream",
     "text": [
      "CUDA compute device found.\n",
      "4502 unlabeled observations found.\n",
      "Using unlabeled data as a target set for semi-supervised, adversarial training.\n",
      "\n",
      "training examples:  (4644, 17668)\n",
      "target   examples:  (4502, 17668)\n",
      "X:  (4644, 17668)\n",
      "y:  (4644,)\n",
      "Not weighting classes and not balancing classes.\n",
      "Found 2 unique domains.\n",
      "Using MixMatch for semi-supervised learning\n",
      "Scaling ICL over 100 epochs, 0 epochs for burn in.\n",
      "Scaling ICL over 20 epochs, 0 epochs for burn in.\n",
      "Using a Domain Adaptation Loss.\n",
      "Training...\n",
      "Saving best model weights...\n",
      "Saved best weights.\n",
      "Trainer has a `dan_criterion`.\n",
      "Saving DAN weights...\n",
      "Saving best model weights...\n",
      "Saved best weights.\n",
      "Trainer has a `dan_criterion`.\n",
      "Saving DAN weights...\n",
      "Saving best model weights...\n",
      "Saved best weights.\n",
      "Trainer has a `dan_criterion`.\n",
      "Saving DAN weights...\n",
      ">>>>>\n",
      "Early stopping at epoch 67\n",
      ">>>>>\n",
      "Training complete.\n",
      "\n",
      "Evaluating model.\n",
      "EVAL LOSS:  0.326552614569664\n",
      "EVAL ACC :  0.9010752688172043\n",
      "Predictions | Labels\n",
      "[[5 1]\n",
      " [6 6]\n",
      " [5 5]\n",
      " [1 1]\n",
      " [6 6]\n",
      " [1 1]\n",
      " [1 1]\n",
      " [4 4]\n",
      " [5 5]\n",
      " [4 4]\n",
      " [5 5]\n",
      " [1 1]\n",
      " [6 5]\n",
      " [6 6]\n",
      " [5 5]]\n"
     ]
    }
   ],
   "source": [
    "# set test data cells to the target data token `\"Unlabeled\"`\n",
    "test_adata.obs[\"cell_type\"] = \"Unlabeled\"\n",
    "# concatenate training and test data into a single object\n",
    "# for scNym\n",
    "adata = train_adata.concatenate(test_adata)\n",
    "\n",
    "scnym.api.scnym_api(\n",
    "    adata=adata,\n",
    "    task=\"train\",\n",
    "    groupby=\"cell_type\",\n",
    "    config=new_ident,\n",
    "    out_path=f\"./scnym_outputs/{exp_id}_binz={binz}_{new_ident}\",\n",
    ")"
   ]
  },
  {
   "cell_type": "code",
   "execution_count": 7,
   "metadata": {},
   "outputs": [
    {
     "name": "stdout",
     "output_type": "stream",
     "text": [
      "CUDA compute device found.\n"
     ]
    },
    {
     "name": "stderr",
     "output_type": "stream",
     "text": [
      "Finding cell types:  11%|█████████                                                                        | 1/9 [00:00<00:01,  5.90it/s]"
     ]
    },
    {
     "name": "stdout",
     "output_type": "stream",
     "text": [
      "Loaded model predicting 7 classes from 17668 features\n",
      "['B' 'Effector CD4+ T' 'Effector CD8+ T' 'Monocytes' 'NK' 'Naive CD4+ T'\n",
      " 'Naive CD8+ T']\n",
      "Building a classification matrix...\n",
      "Gene names match exactly, returning input.\n",
      "Predicting cell types...\n"
     ]
    },
    {
     "name": "stderr",
     "output_type": "stream",
     "text": [
      "Finding cell types: 100%|█████████████████████████████████████████████████████████████████████████████████| 9/9 [00:01<00:00,  5.31it/s]\n"
     ]
    },
    {
     "name": "stdout",
     "output_type": "stream",
     "text": [
      "Extracting model embeddings...\n"
     ]
    }
   ],
   "source": [
    "scnym.api.scnym_api(\n",
    "    adata=adata,\n",
    "    task='predict',\n",
    "    trained_model=f\"./scnym_outputs/{exp_id}_binz={binz}_{new_ident}\",\n",
    ")"
   ]
  },
  {
   "cell_type": "code",
   "execution_count": 8,
   "metadata": {},
   "outputs": [],
   "source": [
    "# copy scNym predictions to the original test data embedding\n",
    "test_adata.obs['scNym'] = np.array(adata.obs.loc[[x + '-1' for x in test_adata.obs_names], 'scNym'])  \n",
    "train_adata.obs['scNym'] = np.array(adata.obs.loc[[x + '-0' for x in train_adata.obs_names], 'scNym'])\n",
    "\n",
    "test_adata.obs['max_prob'] = np.array(adata.obs.loc[[x + '-1' for x in test_adata.obs_names], 'scNym_confidence'])\n",
    "train_adata.obs['max_prob'] = np.array(adata.obs.loc[[x + '-0' for x in train_adata.obs_names], 'scNym_confidence'])"
   ]
  },
  {
   "cell_type": "code",
   "execution_count": 9,
   "metadata": {},
   "outputs": [
    {
     "name": "stdout",
     "output_type": "stream",
     "text": [
      "close_acc= 0.6906\n",
      "AUROC= 0.6454\n",
      "AUPR= 0.1564\n",
      "OSCR= 0.4785\n"
     ]
    },
    {
     "data": {
      "text/plain": [
       "(0.6906422901130623, 0.645433056865842, 0.1563533099832937, 0.4784812068346388)"
      ]
     },
     "execution_count": 9,
     "metadata": {},
     "output_type": "execute_result"
    }
   ],
   "source": [
    "from metrics import osr_evaluator\n",
    "\n",
    "shr_mask = np.in1d(test_adata.obs.cell_type_bkp, train_adata.obs.cell_type.unique())\n",
    "\n",
    "# test_acc = (test_adata.obs.scNym[shr_mask] == test_adata.obs.cell_type_bkp[shr_mask]).mean()\n",
    "# train_acc = (train_adata.obs.scNym == train_adata.obs.cell_type).mean()\n",
    "\n",
    "open_score = 1 - test_adata.obs['max_prob']\n",
    "\n",
    "kn_data_pr = np.array(test_adata.obs['scNym'])[shr_mask]\n",
    "kn_data_gt = np.array(test_adata.obs['cell_type_bkp'])[shr_mask]\n",
    "kn_data_open_score = open_score[shr_mask]\n",
    "\n",
    "unk_data_open_score = open_score[np.logical_not(shr_mask)]\n",
    "\n",
    "closed_acc, os_auroc, os_aupr, oscr = osr_evaluator(kn_data_pr, kn_data_gt, kn_data_open_score, unk_data_open_score)\n",
    "closed_acc, os_auroc, os_aupr, oscr"
   ]
  },
  {
   "cell_type": "markdown",
   "metadata": {},
   "source": [
    "### We found that scnym's performance was unstable, overall acc distributed in [0.65, 0.75]"
   ]
  }
 ],
 "metadata": {
  "kernelspec": {
   "display_name": "scnym",
   "language": "python",
   "name": "scnym"
  },
  "language_info": {
   "codemirror_mode": {
    "name": "ipython",
    "version": 3
   },
   "file_extension": ".py",
   "mimetype": "text/x-python",
   "name": "python",
   "nbconvert_exporter": "python",
   "pygments_lexer": "ipython3",
   "version": "3.8.13"
  }
 },
 "nbformat": 4,
 "nbformat_minor": 2
}
