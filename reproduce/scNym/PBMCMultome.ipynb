{
 "cells": [
  {
   "cell_type": "code",
   "execution_count": 15,
   "metadata": {},
   "outputs": [],
   "source": [
    "import numpy as np\n",
    "import pandas as pd\n",
    "import scanpy as sc\n",
    "import anndata\n",
    "import scnym\n",
    "import time\n",
    "import os\n",
    "from os.path import join\n",
    "import scipy.sparse as sps"
   ]
  },
  {
   "cell_type": "code",
   "execution_count": 16,
   "metadata": {},
   "outputs": [],
   "source": [
    "exp_id = 'PBMCMultome'\n",
    "binz = False\n",
    "new_ident = 'no_new_identity'  # no_new_identity"
   ]
  },
  {
   "cell_type": "code",
   "execution_count": 24,
   "metadata": {},
   "outputs": [
    {
     "name": "stderr",
     "output_type": "stream",
     "text": [
      "Trying to set attribute `.obs` of view, copying.\n",
      "Trying to set attribute `.obs` of view, copying.\n"
     ]
    }
   ],
   "source": [
    "data_root = '/home/yxh/gitrepo/multi-omics/scJoint-main/data/pbmc_10x'\n",
    "\n",
    "adata_atac = sc.read_h5ad(join(data_root, 'ATAC/adata_atac.h5ad'))\n",
    "adata_rna = sc.read_h5ad(join(data_root, 'RNA/adata_rna.h5ad'))\n",
    "adata_atac_gam = sc.read_h5ad(join(data_root, 'ATAC_GAM/adata_atac_gam.h5ad'))\n",
    "\n",
    "gene_share = adata_atac_gam.var_names.intersection(adata_rna.var_names)\n",
    "test_adata = adata_atac_gam[:, gene_share]\n",
    "train_adata = adata_rna[:, gene_share]\n",
    "test_adata.obs['cell_type_bkp'] = test_adata.obs.cell_type.values\n",
    "train_adata.obs['cell_type_bkp'] = train_adata.obs.cell_type.values\n",
    "\n",
    "if binz:\n",
    "    train_adata.X = (train_adata.X>0).astype('float32')\n",
    "    test_adata.X  = (test_adata.X>0).astype('float32')"
   ]
  },
  {
   "cell_type": "code",
   "execution_count": 25,
   "metadata": {},
   "outputs": [
    {
     "name": "stdout",
     "output_type": "stream",
     "text": [
      "10412 cells, 18353 genes in the training set.\n",
      "10412 cells, 18353 genes in the target set.\n"
     ]
    }
   ],
   "source": [
    "print('%d cells, %d genes in the training set.' % train_adata.shape)\n",
    "print('%d cells, %d genes in the target set.' % test_adata.shape)"
   ]
  },
  {
   "cell_type": "code",
   "execution_count": 26,
   "metadata": {},
   "outputs": [],
   "source": [
    "# preprocess datasets\n",
    "sc.pp.normalize_total(train_adata, target_sum=1e6)\n",
    "sc.pp.log1p(train_adata)\n",
    "\n",
    "sc.pp.normalize_total(test_adata, target_sum=1e6)\n",
    "sc.pp.log1p(test_adata)"
   ]
  },
  {
   "cell_type": "code",
   "execution_count": 27,
   "metadata": {},
   "outputs": [],
   "source": [
    "# set test data cells to the target data token `\"Unlabeled\"`\n",
    "test_adata.obs[\"cell_type\"] = \"Unlabeled\"\n",
    "# concatenate training and test data into a single object\n",
    "# for scNym\n",
    "adata = train_adata.concatenate(test_adata)\n",
    "\n",
    "scnym.api.scnym_api(\n",
    "    adata=adata,\n",
    "    task=\"train\",\n",
    "    groupby=\"cell_type\",\n",
    "    config=new_ident,\n",
    "    out_path=f\"./scnym_outputs/{exp_id}_binz={binz}_{new_ident}\",\n",
    ")"
   ]
  },
  {
   "cell_type": "code",
   "execution_count": 28,
   "metadata": {},
   "outputs": [
    {
     "name": "stdout",
     "output_type": "stream",
     "text": [
      "CUDA compute device found.\n"
     ]
    },
    {
     "name": "stderr",
     "output_type": "stream",
     "text": [
      "Finding cell types:   0%|                                                                                        | 0/21 [00:00<?, ?it/s]"
     ]
    },
    {
     "name": "stdout",
     "output_type": "stream",
     "text": [
      "Loaded model predicting 19 classes from 18353 features\n",
      "['CD14 Mono' 'CD16 Mono' 'CD4 Naive' 'CD4 TCM' 'CD4 TEM' 'CD8 Naive'\n",
      " 'CD8 TEM_1' 'CD8 TEM_2' 'HSPC' 'Intermediate B' 'MAIT' 'Memory B' 'NK'\n",
      " 'Naive B' 'Plasma' 'Treg' 'cDC' 'gdT' 'pDC']\n",
      "Building a classification matrix...\n",
      "Gene names match exactly, returning input.\n",
      "Predicting cell types...\n"
     ]
    },
    {
     "name": "stderr",
     "output_type": "stream",
     "text": [
      "Finding cell types: 100%|███████████████████████████████████████████████████████████████████████████████| 21/21 [00:04<00:00,  4.87it/s]\n"
     ]
    },
    {
     "name": "stdout",
     "output_type": "stream",
     "text": [
      "Extracting model embeddings...\n"
     ]
    }
   ],
   "source": [
    "scnym.api.scnym_api(\n",
    "    adata=adata,\n",
    "    task='predict',\n",
    "    trained_model=f\"./scnym_outputs/{exp_id}_binz={binz}_{new_ident}\",\n",
    ")"
   ]
  },
  {
   "cell_type": "code",
   "execution_count": 29,
   "metadata": {},
   "outputs": [],
   "source": [
    "# copy scNym predictions to the original test data embedding\n",
    "test_adata.obs['scNym'] = np.array(adata.obs.loc[[x + '-1' for x in test_adata.obs_names], 'scNym'])  \n",
    "train_adata.obs['scNym'] = np.array(adata.obs.loc[[x + '-0' for x in train_adata.obs_names], 'scNym'])\n",
    "\n",
    "test_adata.obs['max_prob'] = np.array(adata.obs.loc[[x + '-1' for x in test_adata.obs_names], 'scNym_confidence'])\n",
    "train_adata.obs['max_prob'] = np.array(adata.obs.loc[[x + '-0' for x in train_adata.obs_names], 'scNym_confidence'])"
   ]
  },
  {
   "cell_type": "code",
   "execution_count": 30,
   "metadata": {},
   "outputs": [
    {
     "name": "stdout",
     "output_type": "stream",
     "text": [
      "close_acc= 0.7425\n"
     ]
    },
    {
     "data": {
      "text/plain": [
       "(0.7425086438724549, -1, -1, -1)"
      ]
     },
     "execution_count": 30,
     "metadata": {},
     "output_type": "execute_result"
    }
   ],
   "source": [
    "from metrics import osr_evaluator\n",
    "\n",
    "shr_mask = np.in1d(test_adata.obs.cell_type_bkp, train_adata.obs.cell_type.unique())\n",
    "\n",
    "# test_acc = (test_adata.obs.scNym[shr_mask] == test_adata.obs.cell_type_bkp[shr_mask]).mean()\n",
    "# train_acc = (train_adata.obs.scNym == train_adata.obs.cell_type).mean()\n",
    "\n",
    "open_score = 1 - test_adata.obs['max_prob']\n",
    "\n",
    "kn_data_pr = np.array(test_adata.obs['scNym'])[shr_mask]\n",
    "kn_data_gt = np.array(test_adata.obs['cell_type_bkp'])[shr_mask]\n",
    "kn_data_open_score = open_score[shr_mask]\n",
    "\n",
    "unk_data_open_score = open_score[np.logical_not(shr_mask)]\n",
    "\n",
    "closed_acc, os_auroc, os_aupr, oscr = osr_evaluator(kn_data_pr, kn_data_gt, kn_data_open_score, unk_data_open_score)\n",
    "closed_acc, os_auroc, os_aupr, oscr"
   ]
  }
 ],
 "metadata": {
  "kernelspec": {
   "display_name": "scnym",
   "language": "python",
   "name": "scnym"
  },
  "language_info": {
   "codemirror_mode": {
    "name": "ipython",
    "version": 3
   },
   "file_extension": ".py",
   "mimetype": "text/x-python",
   "name": "python",
   "nbconvert_exporter": "python",
   "pygments_lexer": "ipython3",
   "version": "3.8.13"
  }
 },
 "nbformat": 4,
 "nbformat_minor": 2
}
