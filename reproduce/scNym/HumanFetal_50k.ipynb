{
 "cells": [
  {
   "cell_type": "code",
   "execution_count": 1,
   "metadata": {},
   "outputs": [],
   "source": [
    "import numpy as np\n",
    "import pandas as pd\n",
    "import scanpy as sc\n",
    "import anndata\n",
    "import scnym\n",
    "import time\n",
    "import datetime\n",
    "import os\n",
    "from os.path import join\n",
    "import scipy.sparse as sps"
   ]
  },
  {
   "cell_type": "code",
   "execution_count": 5,
   "metadata": {},
   "outputs": [],
   "source": [
    "exp_id = 'HumanFetal_50k'\n",
    "binz = False\n",
    "new_ident = 'no_new_identity'  # no_new_identity"
   ]
  },
  {
   "cell_type": "code",
   "execution_count": 6,
   "metadata": {},
   "outputs": [],
   "source": [
    "data_root = '/home/yxh/data/HumanFetal_50k'\n",
    "\n",
    "adata_atac = sc.read_h5ad(join(data_root, 'ATAC/adata_atac.h5ad'))\n",
    "adata_rna = sc.read_h5ad(join(data_root, 'RNA/adata_rna_sampled.h5ad'))\n",
    "adata_rna.obs['cell_type'] = adata_rna.obs.Main_cluster_name.values\n",
    "\n",
    "test_adata = adata_atac.copy()\n",
    "train_adata = adata_rna.copy()\n",
    "test_adata.obs['cell_type_bkp'] = test_adata.obs.cell_type.values\n",
    "train_adata.obs['cell_type_bkp'] = train_adata.obs.cell_type.values\n",
    "\n",
    "if binz:\n",
    "    train_adata.X = (train_adata.X>0).astype('float32')\n",
    "    test_adata.X  = (test_adata.X>0).astype('float32')"
   ]
  },
  {
   "cell_type": "code",
   "execution_count": 6,
   "metadata": {},
   "outputs": [
    {
     "name": "stdout",
     "output_type": "stream",
     "text": [
      "20000 cells, 22121 genes in the training set.\n",
      "30000 cells, 22121 genes in the target set.\n"
     ]
    }
   ],
   "source": [
    "print('%d cells, %d genes in the training set.' % train_adata.shape)\n",
    "print('%d cells, %d genes in the target set.' % test_adata.shape)"
   ]
  },
  {
   "cell_type": "code",
   "execution_count": 7,
   "metadata": {},
   "outputs": [],
   "source": [
    "# preprocess datasets\n",
    "sc.pp.normalize_total(train_adata, target_sum=1e6)\n",
    "sc.pp.log1p(train_adata)\n",
    "\n",
    "sc.pp.normalize_total(test_adata, target_sum=1e6)\n",
    "sc.pp.log1p(test_adata)"
   ]
  },
  {
   "cell_type": "code",
   "execution_count": 13,
   "metadata": {},
   "outputs": [
    {
     "name": "stdout",
     "output_type": "stream",
     "text": [
      "CUDA compute device found.\n",
      "30000 unlabeled observations found.\n",
      "Using unlabeled data as a target set for semi-supervised, adversarial training.\n",
      "\n",
      "training examples:  (20000, 22121)\n",
      "target   examples:  (30000, 22121)\n",
      "X:  (20000, 22121)\n",
      "y:  (20000,)\n",
      "Not weighting classes and not balancing classes.\n",
      "Found 2 unique domains.\n",
      "Using MixMatch for semi-supervised learning\n",
      "Scaling ICL over 100 epochs, 0 epochs for burn in.\n",
      "Scaling ICL over 20 epochs, 0 epochs for burn in.\n",
      "Using a Domain Adaptation Loss.\n",
      "Training...\n",
      "Saving best model weights...\n",
      "Saved best weights.\n",
      "Trainer has a `dan_criterion`.\n",
      "Saving DAN weights...\n",
      "Saving best model weights...\n",
      "Saved best weights.\n",
      "Trainer has a `dan_criterion`.\n",
      "Saving DAN weights...\n",
      "Saving best model weights...\n",
      "Saved best weights.\n",
      "Trainer has a `dan_criterion`.\n",
      "Saving DAN weights...\n",
      "Saving best model weights...\n",
      "Saved best weights.\n",
      "Trainer has a `dan_criterion`.\n",
      "Saving DAN weights...\n",
      ">>>>>\n",
      "Early stopping at epoch 67\n",
      ">>>>>\n",
      "Training complete.\n",
      "\n",
      "Evaluating model.\n",
      "EVAL LOSS:  0.20237650349736214\n",
      "EVAL ACC :  0.9635\n",
      "Predictions | Labels\n",
      "[[37 37]\n",
      " [40 37]\n",
      " [25 25]\n",
      " [ 4  4]\n",
      " [28 28]\n",
      " [14 14]\n",
      " [ 6 10]\n",
      " [20 20]\n",
      " [53 53]\n",
      " [48 48]\n",
      " [50 50]\n",
      " [14 14]\n",
      " [ 3  3]\n",
      " [36 36]\n",
      " [ 5  5]]\n"
     ]
    }
   ],
   "source": [
    "# set test data cells to the target data token `\"Unlabeled\"`\n",
    "test_adata.obs[\"cell_type\"] = \"Unlabeled\"\n",
    "# concatenate training and test data into a single object\n",
    "# for scNym\n",
    "adata = train_adata.concatenate(test_adata)\n",
    "\n",
    "start_time = datetime.datetime.now()\n",
    "scnym.api.scnym_api(\n",
    "    adata=adata,\n",
    "    task=\"train\",\n",
    "    groupby=\"cell_type\",\n",
    "    config=new_ident,\n",
    "    out_path=f\"./scnym_outputs/{exp_id}_binz={binz}_{new_ident}\",\n",
    ")"
   ]
  },
  {
   "cell_type": "code",
   "execution_count": 14,
   "metadata": {},
   "outputs": [
    {
     "name": "stdout",
     "output_type": "stream",
     "text": [
      "CUDA compute device found.\n"
     ]
    },
    {
     "name": "stderr",
     "output_type": "stream",
     "text": [
      "Finding cell types:   0%|                                                                                        | 0/49 [00:00<?, ?it/s]"
     ]
    },
    {
     "name": "stdout",
     "output_type": "stream",
     "text": [
      "Loaded model predicting 54 classes from 22121 features\n",
      "['Acinar cells' 'Adrenocortical cells' 'Antigen presenting cells'\n",
      " 'Astrocytes' 'Bronchiolar and alveolar epithelial cells' 'Cardiomyocytes'\n",
      " 'Chromaffin cells' 'Ciliated epithelial cells' 'Ductal cells' 'ENS glia'\n",
      " 'ENS neurons' 'Endocardial cells' 'Epicardial fat cells' 'Erythroblasts'\n",
      " 'Excitatory neurons' 'Extravillous trophoblasts' 'Ganglion cells'\n",
      " 'Goblet cells' 'Granule neurons' 'Hematopoietic stem cells'\n",
      " 'Hepatoblasts' 'IGFBP1_DKK1 positive cells' 'Inhibitory neurons'\n",
      " 'Intestinal epithelial cells' 'Islet endocrine cells'\n",
      " 'Limbic system neurons' 'Lymphatic endothelial cells' 'Lymphoid cells'\n",
      " 'Megakaryocytes' 'Mesangial cells' 'Mesothelial cells'\n",
      " 'Metanephric cells' 'Myeloid cells' 'Neuroendocrine cells'\n",
      " 'PAEP_MECOM positive cells' 'Parietal and chief cells'\n",
      " 'Photoreceptor cells' 'Purkinje neurons' 'Retinal pigment cells'\n",
      " 'Retinal progenitors and Muller glia' 'SKOR2_NPSR1 positive cells'\n",
      " 'Satellite cells' 'Schwann cells' 'Skeletal muscle cells'\n",
      " 'Smooth muscle cells' 'Stellate cells' 'Stromal cells' 'Sympathoblasts'\n",
      " 'Syncytiotrophoblasts and villous cytotrophoblasts'\n",
      " 'Thymic epithelial cells' 'Thymocytes' 'Trophoblast giant cells'\n",
      " 'Ureteric bud cells' 'Vascular endothelial cells']\n",
      "Building a classification matrix...\n",
      "Gene names match exactly, returning input.\n",
      "Predicting cell types...\n"
     ]
    },
    {
     "name": "stderr",
     "output_type": "stream",
     "text": [
      "Finding cell types: 100%|███████████████████████████████████████████████████████████████████████████████| 49/49 [00:09<00:00,  5.06it/s]\n"
     ]
    },
    {
     "name": "stdout",
     "output_type": "stream",
     "text": [
      "Extracting model embeddings...\n"
     ]
    }
   ],
   "source": [
    "scnym.api.scnym_api(\n",
    "    adata=adata,\n",
    "    task='predict',\n",
    "    trained_model=f\"./scnym_outputs/{exp_id}_binz={binz}_{new_ident}\",\n",
    ")"
   ]
  },
  {
   "cell_type": "code",
   "execution_count": 15,
   "metadata": {},
   "outputs": [
    {
     "name": "stdout",
     "output_type": "stream",
     "text": [
      "time cost  479.350727\n"
     ]
    }
   ],
   "source": [
    "end_time = datetime.datetime.now()\n",
    "\n",
    "print('time cost ', (end_time - start_time).total_seconds())"
   ]
  },
  {
   "cell_type": "code",
   "execution_count": 8,
   "metadata": {},
   "outputs": [],
   "source": [
    "# copy scNym predictions to the original test data embedding\n",
    "test_adata.obs['scNym'] = np.array(adata.obs.loc[[x + '-1' for x in test_adata.obs_names], 'scNym'])  \n",
    "train_adata.obs['scNym'] = np.array(adata.obs.loc[[x + '-0' for x in train_adata.obs_names], 'scNym'])\n",
    "\n",
    "test_adata.obs['max_prob'] = np.array(adata.obs.loc[[x + '-1' for x in test_adata.obs_names], 'scNym_confidence'])\n",
    "train_adata.obs['max_prob'] = np.array(adata.obs.loc[[x + '-0' for x in train_adata.obs_names], 'scNym_confidence'])"
   ]
  },
  {
   "cell_type": "code",
   "execution_count": 9,
   "metadata": {},
   "outputs": [
    {
     "name": "stdout",
     "output_type": "stream",
     "text": [
      "close_acc= 0.8057\n"
     ]
    },
    {
     "data": {
      "text/plain": [
       "(0.8056666666666666, -1, -1, -1)"
      ]
     },
     "execution_count": 9,
     "metadata": {},
     "output_type": "execute_result"
    }
   ],
   "source": [
    "from metrics import osr_evaluator\n",
    "\n",
    "shr_mask = np.in1d(test_adata.obs.cell_type_bkp, train_adata.obs.cell_type.unique())\n",
    "\n",
    "# test_acc = (test_adata.obs.scNym[shr_mask] == test_adata.obs.cell_type_bkp[shr_mask]).mean()\n",
    "# train_acc = (train_adata.obs.scNym == train_adata.obs.cell_type).mean()\n",
    "\n",
    "open_score = 1 - test_adata.obs['max_prob']\n",
    "\n",
    "kn_data_pr = np.array(test_adata.obs['scNym'])[shr_mask]\n",
    "kn_data_gt = np.array(test_adata.obs['cell_type_bkp'])[shr_mask]\n",
    "kn_data_open_score = open_score[shr_mask]\n",
    "\n",
    "unk_data_open_score = open_score[np.logical_not(shr_mask)]\n",
    "\n",
    "closed_acc, os_auroc, os_aupr, oscr = osr_evaluator(kn_data_pr, kn_data_gt, kn_data_open_score, unk_data_open_score)\n",
    "closed_acc, os_auroc, os_aupr, oscr"
   ]
  },
  {
   "cell_type": "code",
   "execution_count": null,
   "metadata": {},
   "outputs": [],
   "source": []
  }
 ],
 "metadata": {
  "kernelspec": {
   "display_name": "scnym",
   "language": "python",
   "name": "scnym"
  },
  "language_info": {
   "codemirror_mode": {
    "name": "ipython",
    "version": 3
   },
   "file_extension": ".py",
   "mimetype": "text/x-python",
   "name": "python",
   "nbconvert_exporter": "python",
   "pygments_lexer": "ipython3",
   "version": "3.8.13"
  }
 },
 "nbformat": 4,
 "nbformat_minor": 2
}
