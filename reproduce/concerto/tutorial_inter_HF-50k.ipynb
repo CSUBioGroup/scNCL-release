{
 "cells": [
  {
   "cell_type": "code",
   "execution_count": 1,
   "metadata": {},
   "outputs": [],
   "source": [
    "%load_ext autoreload\n",
    "%autoreload 2\n",
    "\n",
    "import os\n",
    "import sys\n",
    "import datetime\n",
    "sys.path.append(\"../\")\n",
    "from concerto_function5_3 import *\n",
    "from sklearn.metrics import f1_score, accuracy_score\n",
    "import numpy as np\n",
    "import scanpy as sc\n",
    "import scipy.sparse as sps\n",
    "import matplotlib.pyplot as plt\n",
    "from metrics import osr_evaluator\n",
    "\n",
    "from os.path import join"
   ]
  },
  {
   "cell_type": "code",
   "execution_count": 2,
   "metadata": {},
   "outputs": [],
   "source": [
    "#Select an available GPU to run on a multi-GPU computer or you can run it directly on the CPU without executing this cell\n",
    "import tensorflow as tf\n",
    "os.environ[\"CUDA_VISIBLE_DEVICES\"] = '0' \n",
    "gpus = tf.config.experimental.list_physical_devices(device_type='GPU')\n",
    "for gpu in gpus:\n",
    "    tf.config.experimental.set_memory_growth(gpu, True) "
   ]
  },
  {
   "cell_type": "code",
   "execution_count": 3,
   "metadata": {},
   "outputs": [],
   "source": [
    "exp_id = 'HumanFetal_50k'\n",
    "\n",
    "adata_rna  = sc.read_h5ad('/home/yanxh/data/HumanFetal_50k/RNA/adata_rna_sampled.h5ad')\n",
    "adata_atac = sc.read_h5ad('/home/yanxh/data/HumanFetal_50k/ATAC/adata_atac.h5ad')\n",
    "\n",
    "adata_rna.obs['domain'] = 'RNA'\n",
    "adata_atac.obs['domain']= 'ATAC'\n",
    "\n",
    "adata_rna.obs['cell_type'] = adata_rna.obs['Main_cluster_name'].values\n",
    "\n",
    "batch_key = 'domain'\n",
    "type_key = 'cell_type'"
   ]
  },
  {
   "cell_type": "code",
   "execution_count": 4,
   "metadata": {},
   "outputs": [
    {
     "data": {
      "text/plain": [
       "AnnData object with n_obs × n_vars = 50000 × 22121\n",
       "    obs: 'batch', 'domain', 'cell_type'"
      ]
     },
     "execution_count": 4,
     "metadata": {},
     "output_type": "execute_result"
    }
   ],
   "source": [
    "adata_all = sc.concat([adata_rna, adata_atac])\n",
    "adata_all"
   ]
  },
  {
   "cell_type": "markdown",
   "metadata": {},
   "source": [
    "# Preprocess"
   ]
  },
  {
   "cell_type": "code",
   "execution_count": 5,
   "metadata": {},
   "outputs": [],
   "source": [
    "st_time = datetime.datetime.now()"
   ]
  },
  {
   "cell_type": "code",
   "execution_count": 6,
   "metadata": {},
   "outputs": [
    {
     "name": "stdout",
     "output_type": "stream",
     "text": [
      "Processed dataset shape: (50000, 22121)\n"
     ]
    }
   ],
   "source": [
    "# filter cells, normalize_total, hvg(if), no scale\n",
    "adata = preprocessing_rna(adata_all, \n",
    "                          min_features=0, \n",
    "                          n_top_features=None, \n",
    "                          is_hvg=False, \n",
    "                          batch_key=batch_key)\n",
    "\n",
    "adata_ref = adata[adata.obs[batch_key] == 'RNA']\n",
    "adata_query = adata[adata.obs[batch_key] == 'ATAC']\n",
    "\n",
    "shr_mask = np.in1d(adata_query.obs[type_key], adata_ref.obs[type_key].unique())\n",
    "atac_lab = np.array(adata_query.obs[type_key].values)\n",
    "\n",
    "save_path = './'\n",
    "# if not os.path.exists(save_path):\n",
    "#     os.makedirs(save_path)\n",
    "# adata_ref.write_h5ad(save_path + 'adata_ref.h5ad')\n",
    "# adata_query.write_h5ad(save_path + 'adata_query.h5ad')  # .tech=='indrop'"
   ]
  },
  {
   "cell_type": "code",
   "execution_count": 7,
   "metadata": {},
   "outputs": [
    {
     "name": "stdout",
     "output_type": "stream",
     "text": [
      "pp cost  7.655622\n"
     ]
    }
   ],
   "source": [
    "ed_time = datetime.datetime.now()\n",
    "\n",
    "pp_cost = (ed_time-st_time).total_seconds()\n",
    "print('pp cost ', pp_cost)"
   ]
  },
  {
   "cell_type": "code",
   "execution_count": 8,
   "metadata": {},
   "outputs": [],
   "source": [
    "st_time = datetime.datetime.now()"
   ]
  },
  {
   "cell_type": "code",
   "execution_count": 9,
   "metadata": {},
   "outputs": [
    {
     "name": "stdout",
     "output_type": "stream",
     "text": [
      "counter: 10000 shape: (22121,), batch: 0\n",
      "[1.e-05 1.e-05 1.e-05 ... 1.e-05 1.e-05 1.e-05]\n",
      "[9.99999975e-06 9.99999975e-06 9.99999975e-06 ... 9.99999975e-06\n",
      " 9.99999975e-06 9.99999975e-06]\n",
      "batchs:  ['RNA']\n",
      "counter: 20000 shape: (22121,), batch: 0\n",
      "[1.e-05 1.e-05 1.e-05 ... 1.e-05 1.e-05 1.e-05]\n",
      "[9.99999975e-06 9.99999975e-06 9.99999975e-06 ... 9.99999975e-06\n",
      " 9.99999975e-06 9.99999975e-06]\n",
      "batchs:  ['RNA']\n",
      "counter: 10000 shape: (22121,), batch: 0\n",
      "[1.e-05 1.e-05 1.e-05 ... 1.e-05 1.e-05 1.e-05]\n",
      "[9.99999975e-06 9.99999975e-06 9.99999975e-06 ... 9.99999975e-06\n",
      " 9.99999975e-06 9.99999975e-06]\n",
      "batchs:  ['ATAC']\n",
      "counter: 20000 shape: (22121,), batch: 0\n",
      "[1.e-05 1.e-05 1.e-05 ... 1.e-05 1.e-05 1.e-05]\n",
      "[9.99999975e-06 9.99999975e-06 9.99999975e-06 ... 9.99999975e-06\n",
      " 9.99999975e-06 9.99999975e-06]\n",
      "batchs:  ['ATAC']\n",
      "counter: 30000 shape: (22121,), batch: 0\n",
      "[1.000000e-05 1.000000e-05 1.000000e-05 ... 1.000000e-05 7.105235e-01\n",
      " 1.000000e-05]\n",
      "[9.99999975e-06 9.99999975e-06 9.99999975e-06 ... 9.99999975e-06\n",
      " 7.10523486e-01 9.99999975e-06]\n",
      "batchs:  ['ATAC']\n"
     ]
    }
   ],
   "source": [
    "ref_tf_path = concerto_make_tfrecord_supervised(adata_ref, tf_path = save_path + f'tfrecord/{exp_id}/ref_tf/',\n",
    "                                     batch_col_name = batch_key, label_col_name=type_key)\n",
    "query_tf_path = concerto_make_tfrecord_supervised(adata_query, tf_path = save_path + f'tfrecord/{exp_id}/query_tf/',\n",
    "                                     batch_col_name = batch_key, label_col_name=type_key)"
   ]
  },
  {
   "cell_type": "code",
   "execution_count": 10,
   "metadata": {},
   "outputs": [
    {
     "name": "stdout",
     "output_type": "stream",
     "text": [
      "rec cost  592.621344\n"
     ]
    }
   ],
   "source": [
    "ed_time = datetime.datetime.now()\n",
    "\n",
    "rec_cost = (ed_time-st_time).total_seconds()\n",
    "print('rec cost ', rec_cost)"
   ]
  },
  {
   "cell_type": "code",
   "execution_count": 11,
   "metadata": {},
   "outputs": [],
   "source": [
    "st_time = datetime.datetime.now()"
   ]
  },
  {
   "cell_type": "code",
   "execution_count": 12,
   "metadata": {
    "scrolled": true
   },
   "outputs": [
    {
     "name": "stdout",
     "output_type": "stream",
     "text": [
      "./tfrecord/HumanFetal_50k/ref_tf/tf_0.tfrecord\n",
      "Epoch 1, step 5, simclr loss: 10.4744.\n",
      "Epoch 1, step 10, simclr loss: 10.0509.\n",
      "Epoch 1, step 15, simclr loss: 9.6125.\n",
      "Epoch 1, step 20, simclr loss: 9.0899.\n",
      "Epoch 1, step 25, simclr loss: 8.5401.\n",
      "Epoch 1, step 30, simclr loss: 7.9691.\n",
      "Epoch 1, step 35, simclr loss: 7.3916.\n",
      "Epoch 1, step 40, simclr loss: 6.8161.\n",
      "Epoch 1, step 45, simclr loss: 6.2730.\n",
      "Epoch 1, step 50, simclr loss: 5.7423.\n",
      "Epoch 1, step 55, simclr loss: 5.2429.\n",
      "Epoch 1, step 60, simclr loss: 4.7736.\n",
      "Epoch 1, step 65, simclr loss: 4.3378.\n",
      "Epoch 1, step 70, simclr loss: 3.9373.\n",
      "Epoch 1, step 75, simclr loss: 3.5794.\n",
      "Epoch 1, step 80, simclr loss: 3.2663.\n",
      "Epoch 1, step 85, simclr loss: 2.9830.\n",
      "Epoch 1, step 90, simclr loss: 2.7295.\n",
      "Epoch 1, step 95, simclr loss: 2.5057.\n",
      "Epoch 1, step 100, simclr loss: 2.2989.\n",
      "Epoch 1, step 105, simclr loss: 2.1126.\n",
      "Epoch 1, step 110, simclr loss: 1.9410.\n",
      "Epoch 1, step 115, simclr loss: 1.7849.\n",
      "Epoch 1, step 120, simclr loss: 1.6396.\n",
      "Epoch 1, step 125, simclr loss: 1.5104.\n",
      "Epoch 1, step 130, simclr loss: 1.3880.\n",
      "Epoch 1, step 135, simclr loss: 1.2728.\n",
      "Epoch 1, step 140, simclr loss: 1.1635.\n",
      "Epoch 1, step 145, simclr loss: 1.0599.\n",
      "Epoch 1, step 150, simclr loss: 0.9636.\n",
      "Epoch 1, step 155, simclr loss: 0.8734.\n",
      "./tfrecord/HumanFetal_50k/ref_tf/tf_0.tfrecord\n",
      "Epoch 0, step 5, train cls loss: 4.1889, train acc: 0.1109\n",
      "Epoch 0, step 10, train cls loss: 4.1703, train acc: 0.1688\n",
      "Epoch 0, step 15, train cls loss: 4.1256, train acc: 0.1839\n",
      "Epoch 0, step 20, train cls loss: 4.0317, train acc: 0.1848\n",
      "Epoch 0, step 25, train cls loss: 3.8977, train acc: 0.1934\n",
      "Epoch 0, step 30, train cls loss: 3.7192, train acc: 0.2216\n",
      "Epoch 0, step 35, train cls loss: 3.5242, train acc: 0.2536\n",
      "Epoch 0, step 40, train cls loss: 3.3039, train acc: 0.3010\n",
      "Epoch 0, step 45, train cls loss: 3.0966, train acc: 0.3479\n",
      "Epoch 0, step 50, train cls loss: 2.9081, train acc: 0.3917\n",
      "Epoch 0, step 55, train cls loss: 2.7374, train acc: 0.4310\n",
      "Epoch 0, step 60, train cls loss: 2.5784, train acc: 0.4671\n",
      "Epoch 0, step 65, train cls loss: 2.4412, train acc: 0.4974\n",
      "Epoch 0, step 70, train cls loss: 2.3168, train acc: 0.5251\n",
      "Epoch 0, step 75, train cls loss: 2.2077, train acc: 0.5494\n",
      "Epoch 0, step 80, train cls loss: 2.1053, train acc: 0.5728\n",
      "Epoch 0, step 85, train cls loss: 2.0141, train acc: 0.5928\n",
      "Epoch 0, step 90, train cls loss: 1.9330, train acc: 0.6110\n",
      "Epoch 0, step 95, train cls loss: 1.8600, train acc: 0.6276\n",
      "Epoch 0, step 100, train cls loss: 1.7889, train acc: 0.6435\n",
      "Epoch 0, step 105, train cls loss: 1.7249, train acc: 0.6577\n",
      "Epoch 0, step 110, train cls loss: 1.6661, train acc: 0.6705\n",
      "Epoch 0, step 115, train cls loss: 1.6132, train acc: 0.6827\n",
      "Epoch 0, step 120, train cls loss: 1.5627, train acc: 0.6939\n",
      "Epoch 0, step 125, train cls loss: 1.5185, train acc: 0.7035\n",
      "Epoch 0, step 130, train cls loss: 1.4775, train acc: 0.7127\n",
      "Epoch 0, step 135, train cls loss: 1.4387, train acc: 0.7210\n",
      "Epoch 0, step 140, train cls loss: 1.4039, train acc: 0.7283\n",
      "Epoch 0, step 145, train cls loss: 1.3700, train acc: 0.7359\n",
      "Epoch 0, step 150, train cls loss: 1.3390, train acc: 0.7429\n",
      "Epoch 0, step 155, train cls loss: 1.3086, train acc: 0.7497\n",
      "./tfrecord/HumanFetal_50k/ref_tf/tf_0.tfrecord\n",
      "Epoch 1, step 5, train cls loss: 0.3868, train acc: 0.9594\n",
      "Epoch 1, step 10, train cls loss: 0.3680, train acc: 0.9586\n",
      "Epoch 1, step 15, train cls loss: 0.3548, train acc: 0.9656\n",
      "Epoch 1, step 20, train cls loss: 0.3545, train acc: 0.9645\n",
      "Epoch 1, step 25, train cls loss: 0.3527, train acc: 0.9653\n",
      "Epoch 1, step 30, train cls loss: 0.3549, train acc: 0.9638\n",
      "Epoch 1, step 35, train cls loss: 0.3563, train acc: 0.9625\n",
      "Epoch 1, step 40, train cls loss: 0.3551, train acc: 0.9625\n",
      "Epoch 1, step 45, train cls loss: 0.3567, train acc: 0.9618\n",
      "Epoch 1, step 50, train cls loss: 0.3531, train acc: 0.9630\n",
      "Epoch 1, step 55, train cls loss: 0.3517, train acc: 0.9642\n",
      "Epoch 1, step 60, train cls loss: 0.3527, train acc: 0.9634\n",
      "Epoch 1, step 65, train cls loss: 0.3501, train acc: 0.9642\n",
      "Epoch 1, step 70, train cls loss: 0.3511, train acc: 0.9638\n",
      "Epoch 1, step 75, train cls loss: 0.3495, train acc: 0.9644\n",
      "Epoch 1, step 80, train cls loss: 0.3495, train acc: 0.9642\n",
      "Epoch 1, step 85, train cls loss: 0.3470, train acc: 0.9652\n",
      "Epoch 1, step 90, train cls loss: 0.3475, train acc: 0.9653\n",
      "Epoch 1, step 95, train cls loss: 0.3471, train acc: 0.9658\n",
      "Epoch 1, step 100, train cls loss: 0.3465, train acc: 0.9657\n",
      "Epoch 1, step 105, train cls loss: 0.3460, train acc: 0.9658\n",
      "Epoch 1, step 110, train cls loss: 0.3451, train acc: 0.9663\n",
      "Epoch 1, step 115, train cls loss: 0.3449, train acc: 0.9659\n",
      "Epoch 1, step 120, train cls loss: 0.3459, train acc: 0.9656\n",
      "Epoch 1, step 125, train cls loss: 0.3458, train acc: 0.9656\n",
      "Epoch 1, step 130, train cls loss: 0.3448, train acc: 0.9659\n",
      "Epoch 1, step 135, train cls loss: 0.3454, train acc: 0.9655\n",
      "Epoch 1, step 140, train cls loss: 0.3463, train acc: 0.9655\n",
      "Epoch 1, step 145, train cls loss: 0.3452, train acc: 0.9659\n",
      "Epoch 1, step 150, train cls loss: 0.3455, train acc: 0.9659\n",
      "Epoch 1, step 155, train cls loss: 0.3454, train acc: 0.9662\n",
      "./tfrecord/HumanFetal_50k/ref_tf/tf_0.tfrecord\n",
      "Epoch 2, step 5, train cls loss: 0.3042, train acc: 0.9797\n",
      "Epoch 2, step 10, train cls loss: 0.3055, train acc: 0.9820\n",
      "Epoch 2, step 15, train cls loss: 0.2993, train acc: 0.9844\n",
      "Epoch 2, step 20, train cls loss: 0.3005, train acc: 0.9840\n",
      "Epoch 2, step 25, train cls loss: 0.2991, train acc: 0.9850\n",
      "Epoch 2, step 30, train cls loss: 0.2973, train acc: 0.9854\n",
      "Epoch 2, step 35, train cls loss: 0.2977, train acc: 0.9848\n",
      "Epoch 2, step 40, train cls loss: 0.2965, train acc: 0.9850\n",
      "Epoch 2, step 45, train cls loss: 0.2957, train acc: 0.9858\n",
      "Epoch 2, step 50, train cls loss: 0.2964, train acc: 0.9850\n",
      "Epoch 2, step 55, train cls loss: 0.2965, train acc: 0.9845\n",
      "Epoch 2, step 60, train cls loss: 0.2963, train acc: 0.9844\n",
      "Epoch 2, step 65, train cls loss: 0.2979, train acc: 0.9834\n",
      "Epoch 2, step 70, train cls loss: 0.2975, train acc: 0.9839\n",
      "Epoch 2, step 75, train cls loss: 0.2984, train acc: 0.9834\n",
      "Epoch 2, step 80, train cls loss: 0.2982, train acc: 0.9835\n",
      "Epoch 2, step 85, train cls loss: 0.2985, train acc: 0.9834\n",
      "Epoch 2, step 90, train cls loss: 0.2978, train acc: 0.9839\n",
      "Epoch 2, step 95, train cls loss: 0.2981, train acc: 0.9836\n",
      "Epoch 2, step 100, train cls loss: 0.2976, train acc: 0.9841\n",
      "Epoch 2, step 105, train cls loss: 0.2981, train acc: 0.9840\n",
      "Epoch 2, step 110, train cls loss: 0.2983, train acc: 0.9839\n",
      "Epoch 2, step 115, train cls loss: 0.2986, train acc: 0.9840\n",
      "Epoch 2, step 120, train cls loss: 0.2989, train acc: 0.9840\n",
      "Epoch 2, step 125, train cls loss: 0.2992, train acc: 0.9837\n",
      "Epoch 2, step 130, train cls loss: 0.2991, train acc: 0.9838\n",
      "Epoch 2, step 135, train cls loss: 0.2991, train acc: 0.9839\n",
      "Epoch 2, step 140, train cls loss: 0.2989, train acc: 0.9841\n",
      "Epoch 2, step 145, train cls loss: 0.2996, train acc: 0.9836\n",
      "Epoch 2, step 150, train cls loss: 0.2993, train acc: 0.9839\n",
      "Epoch 2, step 155, train cls loss: 0.2991, train acc: 0.9840\n",
      "./tfrecord/HumanFetal_50k/ref_tf/tf_0.tfrecord\n",
      "Epoch 3, step 5, train cls loss: 0.2865, train acc: 0.9937\n",
      "Epoch 3, step 10, train cls loss: 0.2886, train acc: 0.9906\n",
      "Epoch 3, step 15, train cls loss: 0.2874, train acc: 0.9901\n",
      "Epoch 3, step 20, train cls loss: 0.2838, train acc: 0.9918\n",
      "Epoch 3, step 25, train cls loss: 0.2849, train acc: 0.9909\n",
      "Epoch 3, step 30, train cls loss: 0.2842, train acc: 0.9917\n",
      "Epoch 3, step 35, train cls loss: 0.2841, train acc: 0.9917\n",
      "Epoch 3, step 40, train cls loss: 0.2849, train acc: 0.9914\n",
      "Epoch 3, step 45, train cls loss: 0.2848, train acc: 0.9918\n",
      "Epoch 3, step 50, train cls loss: 0.2842, train acc: 0.9923\n",
      "Epoch 3, step 55, train cls loss: 0.2840, train acc: 0.9925\n",
      "Epoch 3, step 60, train cls loss: 0.2835, train acc: 0.9926\n",
      "Epoch 3, step 65, train cls loss: 0.2835, train acc: 0.9925\n",
      "Epoch 3, step 70, train cls loss: 0.2841, train acc: 0.9924\n",
      "Epoch 3, step 75, train cls loss: 0.2837, train acc: 0.9925\n",
      "Epoch 3, step 80, train cls loss: 0.2841, train acc: 0.9923\n",
      "Epoch 3, step 85, train cls loss: 0.2838, train acc: 0.9926\n",
      "Epoch 3, step 90, train cls loss: 0.2840, train acc: 0.9926\n",
      "Epoch 3, step 95, train cls loss: 0.2843, train acc: 0.9925\n",
      "Epoch 3, step 100, train cls loss: 0.2847, train acc: 0.9923\n",
      "Epoch 3, step 105, train cls loss: 0.2845, train acc: 0.9923\n",
      "Epoch 3, step 110, train cls loss: 0.2848, train acc: 0.9923\n",
      "Epoch 3, step 115, train cls loss: 0.2855, train acc: 0.9920\n",
      "Epoch 3, step 120, train cls loss: 0.2857, train acc: 0.9918\n",
      "Epoch 3, step 125, train cls loss: 0.2858, train acc: 0.9918\n",
      "Epoch 3, step 130, train cls loss: 0.2856, train acc: 0.9919\n",
      "Epoch 3, step 135, train cls loss: 0.2858, train acc: 0.9919\n",
      "Epoch 3, step 140, train cls loss: 0.2858, train acc: 0.9920\n",
      "Epoch 3, step 145, train cls loss: 0.2859, train acc: 0.9918\n",
      "Epoch 3, step 150, train cls loss: 0.2860, train acc: 0.9919\n",
      "Epoch 3, step 155, train cls loss: 0.2862, train acc: 0.9919\n",
      "./tfrecord/HumanFetal_50k/ref_tf/tf_0.tfrecord\n",
      "Epoch 4, step 5, train cls loss: 0.2848, train acc: 0.9953\n",
      "Epoch 4, step 10, train cls loss: 0.2812, train acc: 0.9969\n",
      "Epoch 4, step 15, train cls loss: 0.2796, train acc: 0.9974\n",
      "Epoch 4, step 20, train cls loss: 0.2801, train acc: 0.9973\n",
      "Epoch 4, step 25, train cls loss: 0.2797, train acc: 0.9978\n",
      "Epoch 4, step 30, train cls loss: 0.2794, train acc: 0.9977\n",
      "Epoch 4, step 35, train cls loss: 0.2799, train acc: 0.9971\n",
      "Epoch 4, step 40, train cls loss: 0.2792, train acc: 0.9973\n",
      "Epoch 4, step 45, train cls loss: 0.2797, train acc: 0.9970\n",
      "Epoch 4, step 50, train cls loss: 0.2797, train acc: 0.9969\n",
      "Epoch 4, step 55, train cls loss: 0.2797, train acc: 0.9967\n",
      "Epoch 4, step 60, train cls loss: 0.2798, train acc: 0.9967\n",
      "Epoch 4, step 65, train cls loss: 0.2804, train acc: 0.9966\n",
      "Epoch 4, step 70, train cls loss: 0.2803, train acc: 0.9968\n",
      "Epoch 4, step 75, train cls loss: 0.2816, train acc: 0.9961\n",
      "Epoch 4, step 80, train cls loss: 0.2819, train acc: 0.9959\n",
      "Epoch 4, step 85, train cls loss: 0.2821, train acc: 0.9958\n",
      "Epoch 4, step 90, train cls loss: 0.2821, train acc: 0.9959\n",
      "Epoch 4, step 95, train cls loss: 0.2820, train acc: 0.9961\n",
      "Epoch 4, step 100, train cls loss: 0.2822, train acc: 0.9959\n",
      "Epoch 4, step 105, train cls loss: 0.2831, train acc: 0.9957\n",
      "Epoch 4, step 110, train cls loss: 0.2834, train acc: 0.9955\n",
      "Epoch 4, step 115, train cls loss: 0.2837, train acc: 0.9954\n",
      "Epoch 4, step 120, train cls loss: 0.2840, train acc: 0.9954\n",
      "Epoch 4, step 125, train cls loss: 0.2840, train acc: 0.9955\n",
      "Epoch 4, step 130, train cls loss: 0.2842, train acc: 0.9955\n",
      "Epoch 4, step 135, train cls loss: 0.2846, train acc: 0.9953\n",
      "Epoch 4, step 140, train cls loss: 0.2849, train acc: 0.9952\n",
      "Epoch 4, step 145, train cls loss: 0.2848, train acc: 0.9953\n",
      "Epoch 4, step 150, train cls loss: 0.2849, train acc: 0.9953\n",
      "Epoch 4, step 155, train cls loss: 0.2850, train acc: 0.9953\n",
      "./tfrecord/HumanFetal_50k/ref_tf/tf_0.tfrecord\n",
      "Epoch 5, step 5, train cls loss: 0.2816, train acc: 0.9984\n",
      "Epoch 5, step 10, train cls loss: 0.2820, train acc: 0.9984\n",
      "Epoch 5, step 15, train cls loss: 0.2828, train acc: 0.9974\n",
      "Epoch 5, step 20, train cls loss: 0.2846, train acc: 0.9965\n",
      "Epoch 5, step 25, train cls loss: 0.2847, train acc: 0.9969\n",
      "Epoch 5, step 30, train cls loss: 0.2846, train acc: 0.9971\n",
      "Epoch 5, step 35, train cls loss: 0.2846, train acc: 0.9971\n",
      "Epoch 5, step 40, train cls loss: 0.2845, train acc: 0.9971\n",
      "Epoch 5, step 45, train cls loss: 0.2840, train acc: 0.9974\n",
      "Epoch 5, step 50, train cls loss: 0.2840, train acc: 0.9977\n",
      "Epoch 5, step 55, train cls loss: 0.2841, train acc: 0.9977\n",
      "Epoch 5, step 60, train cls loss: 0.2842, train acc: 0.9975\n",
      "Epoch 5, step 65, train cls loss: 0.2840, train acc: 0.9977\n",
      "Epoch 5, step 70, train cls loss: 0.2844, train acc: 0.9975\n",
      "Epoch 5, step 75, train cls loss: 0.2843, train acc: 0.9976\n",
      "Epoch 5, step 80, train cls loss: 0.2847, train acc: 0.9974\n",
      "Epoch 5, step 85, train cls loss: 0.2848, train acc: 0.9974\n",
      "Epoch 5, step 90, train cls loss: 0.2848, train acc: 0.9975\n",
      "Epoch 5, step 95, train cls loss: 0.2848, train acc: 0.9976\n",
      "Epoch 5, step 100, train cls loss: 0.2847, train acc: 0.9977\n",
      "Epoch 5, step 105, train cls loss: 0.2848, train acc: 0.9978\n",
      "Epoch 5, step 110, train cls loss: 0.2849, train acc: 0.9978\n",
      "Epoch 5, step 115, train cls loss: 0.2850, train acc: 0.9978\n",
      "Epoch 5, step 120, train cls loss: 0.2853, train acc: 0.9977\n",
      "Epoch 5, step 125, train cls loss: 0.2854, train acc: 0.9976\n",
      "Epoch 5, step 130, train cls loss: 0.2858, train acc: 0.9974\n",
      "Epoch 5, step 135, train cls loss: 0.2859, train acc: 0.9973\n",
      "Epoch 5, step 140, train cls loss: 0.2859, train acc: 0.9974\n",
      "Epoch 5, step 145, train cls loss: 0.2861, train acc: 0.9973\n",
      "Epoch 5, step 150, train cls loss: 0.2862, train acc: 0.9973\n",
      "Epoch 5, step 155, train cls loss: 0.2863, train acc: 0.9973\n",
      "./tfrecord/HumanFetal_50k/ref_tf/tf_0.tfrecord\n",
      "Epoch 6, step 5, train cls loss: 0.2842, train acc: 1.0000\n",
      "Epoch 6, step 10, train cls loss: 0.2842, train acc: 1.0000\n",
      "Epoch 6, step 15, train cls loss: 0.2854, train acc: 0.9990\n",
      "Epoch 6, step 20, train cls loss: 0.2852, train acc: 0.9992\n",
      "Epoch 6, step 25, train cls loss: 0.2855, train acc: 0.9991\n",
      "Epoch 6, step 30, train cls loss: 0.2854, train acc: 0.9992\n",
      "Epoch 6, step 35, train cls loss: 0.2853, train acc: 0.9993\n",
      "Epoch 6, step 40, train cls loss: 0.2859, train acc: 0.9988\n",
      "Epoch 6, step 45, train cls loss: 0.2859, train acc: 0.9990\n",
      "Epoch 6, step 50, train cls loss: 0.2859, train acc: 0.9991\n",
      "Epoch 6, step 55, train cls loss: 0.2859, train acc: 0.9991\n",
      "Epoch 6, step 60, train cls loss: 0.2861, train acc: 0.9990\n",
      "Epoch 6, step 65, train cls loss: 0.2863, train acc: 0.9989\n",
      "Epoch 6, step 70, train cls loss: 0.2863, train acc: 0.9990\n",
      "Epoch 6, step 75, train cls loss: 0.2862, train acc: 0.9991\n",
      "Epoch 6, step 80, train cls loss: 0.2864, train acc: 0.9990\n",
      "Epoch 6, step 85, train cls loss: 0.2865, train acc: 0.9990\n",
      "Epoch 6, step 90, train cls loss: 0.2865, train acc: 0.9990\n",
      "Epoch 6, step 95, train cls loss: 0.2867, train acc: 0.9990\n",
      "Epoch 6, step 100, train cls loss: 0.2867, train acc: 0.9991\n",
      "Epoch 6, step 105, train cls loss: 0.2868, train acc: 0.9991\n",
      "Epoch 6, step 110, train cls loss: 0.2870, train acc: 0.9989\n",
      "Epoch 6, step 115, train cls loss: 0.2872, train acc: 0.9988\n",
      "Epoch 6, step 120, train cls loss: 0.2874, train acc: 0.9988\n",
      "Epoch 6, step 125, train cls loss: 0.2875, train acc: 0.9989\n",
      "Epoch 6, step 130, train cls loss: 0.2876, train acc: 0.9989\n",
      "Epoch 6, step 135, train cls loss: 0.2877, train acc: 0.9989\n",
      "Epoch 6, step 140, train cls loss: 0.2879, train acc: 0.9989\n",
      "Epoch 6, step 145, train cls loss: 0.2880, train acc: 0.9989\n",
      "Epoch 6, step 150, train cls loss: 0.2880, train acc: 0.9989\n",
      "Epoch 6, step 155, train cls loss: 0.2884, train acc: 0.9988\n",
      "./tfrecord/HumanFetal_50k/ref_tf/tf_0.tfrecord\n",
      "Epoch 7, step 5, train cls loss: 0.2884, train acc: 1.0000\n",
      "Epoch 7, step 10, train cls loss: 0.2893, train acc: 1.0000\n",
      "Epoch 7, step 15, train cls loss: 0.2898, train acc: 0.9995\n",
      "Epoch 7, step 20, train cls loss: 0.2900, train acc: 0.9996\n",
      "Epoch 7, step 25, train cls loss: 0.2898, train acc: 0.9997\n",
      "Epoch 7, step 30, train cls loss: 0.2897, train acc: 0.9997\n",
      "Epoch 7, step 35, train cls loss: 0.2896, train acc: 0.9998\n",
      "Epoch 7, step 40, train cls loss: 0.2897, train acc: 0.9998\n",
      "Epoch 7, step 45, train cls loss: 0.2897, train acc: 0.9998\n",
      "Epoch 7, step 50, train cls loss: 0.2896, train acc: 0.9998\n",
      "Epoch 7, step 55, train cls loss: 0.2898, train acc: 0.9997\n",
      "Epoch 7, step 60, train cls loss: 0.2897, train acc: 0.9997\n",
      "Epoch 7, step 65, train cls loss: 0.2897, train acc: 0.9998\n",
      "Epoch 7, step 70, train cls loss: 0.2897, train acc: 0.9998\n",
      "Epoch 7, step 75, train cls loss: 0.2898, train acc: 0.9998\n",
      "Epoch 7, step 80, train cls loss: 0.2898, train acc: 0.9998\n",
      "Epoch 7, step 85, train cls loss: 0.2898, train acc: 0.9998\n",
      "Epoch 7, step 90, train cls loss: 0.2899, train acc: 0.9997\n",
      "Epoch 7, step 95, train cls loss: 0.2901, train acc: 0.9997\n",
      "Epoch 7, step 100, train cls loss: 0.2902, train acc: 0.9996\n",
      "Epoch 7, step 105, train cls loss: 0.2902, train acc: 0.9996\n",
      "Epoch 7, step 110, train cls loss: 0.2902, train acc: 0.9996\n",
      "Epoch 7, step 115, train cls loss: 0.2902, train acc: 0.9997\n",
      "Epoch 7, step 120, train cls loss: 0.2902, train acc: 0.9997\n",
      "Epoch 7, step 125, train cls loss: 0.2903, train acc: 0.9997\n",
      "Epoch 7, step 130, train cls loss: 0.2903, train acc: 0.9997\n",
      "Epoch 7, step 135, train cls loss: 0.2904, train acc: 0.9997\n",
      "Epoch 7, step 140, train cls loss: 0.2904, train acc: 0.9997\n",
      "Epoch 7, step 145, train cls loss: 0.2904, train acc: 0.9997\n",
      "Epoch 7, step 150, train cls loss: 0.2905, train acc: 0.9997\n",
      "Epoch 7, step 155, train cls loss: 0.2905, train acc: 0.9997\n",
      "./tfrecord/HumanFetal_50k/ref_tf/tf_0.tfrecord\n",
      "Epoch 8, step 5, train cls loss: 0.2910, train acc: 1.0000\n",
      "Epoch 8, step 10, train cls loss: 0.2910, train acc: 1.0000\n",
      "Epoch 8, step 15, train cls loss: 0.2911, train acc: 1.0000\n",
      "Epoch 8, step 20, train cls loss: 0.2911, train acc: 1.0000\n",
      "Epoch 8, step 25, train cls loss: 0.2913, train acc: 1.0000\n",
      "Epoch 8, step 30, train cls loss: 0.2914, train acc: 1.0000\n",
      "Epoch 8, step 35, train cls loss: 0.2914, train acc: 1.0000\n",
      "Epoch 8, step 40, train cls loss: 0.2914, train acc: 1.0000\n",
      "Epoch 8, step 45, train cls loss: 0.2914, train acc: 1.0000\n",
      "Epoch 8, step 50, train cls loss: 0.2914, train acc: 1.0000\n",
      "Epoch 8, step 55, train cls loss: 0.2914, train acc: 1.0000\n",
      "Epoch 8, step 60, train cls loss: 0.2915, train acc: 1.0000\n",
      "Epoch 8, step 65, train cls loss: 0.2916, train acc: 1.0000\n",
      "Epoch 8, step 70, train cls loss: 0.2916, train acc: 1.0000\n",
      "Epoch 8, step 75, train cls loss: 0.2916, train acc: 1.0000\n",
      "Epoch 8, step 80, train cls loss: 0.2916, train acc: 1.0000\n",
      "Epoch 8, step 85, train cls loss: 0.2916, train acc: 1.0000\n",
      "Epoch 8, step 90, train cls loss: 0.2917, train acc: 1.0000\n",
      "Epoch 8, step 95, train cls loss: 0.2917, train acc: 1.0000\n",
      "Epoch 8, step 100, train cls loss: 0.2917, train acc: 1.0000\n",
      "Epoch 8, step 105, train cls loss: 0.2918, train acc: 1.0000\n",
      "Epoch 8, step 110, train cls loss: 0.2918, train acc: 1.0000\n",
      "Epoch 8, step 115, train cls loss: 0.2918, train acc: 1.0000\n",
      "Epoch 8, step 120, train cls loss: 0.2919, train acc: 1.0000\n",
      "Epoch 8, step 125, train cls loss: 0.2919, train acc: 1.0000\n",
      "Epoch 8, step 130, train cls loss: 0.2919, train acc: 1.0000\n",
      "Epoch 8, step 135, train cls loss: 0.2919, train acc: 1.0000\n",
      "Epoch 8, step 140, train cls loss: 0.2920, train acc: 0.9999\n",
      "Epoch 8, step 145, train cls loss: 0.2921, train acc: 0.9999\n",
      "Epoch 8, step 150, train cls loss: 0.2922, train acc: 0.9999\n",
      "Epoch 8, step 155, train cls loss: 0.2922, train acc: 0.9999\n",
      "./tfrecord/HumanFetal_50k/ref_tf/tf_0.tfrecord\n",
      "Epoch 9, step 5, train cls loss: 0.2934, train acc: 1.0000\n",
      "Epoch 9, step 10, train cls loss: 0.2934, train acc: 1.0000\n",
      "Epoch 9, step 15, train cls loss: 0.2933, train acc: 1.0000\n",
      "Epoch 9, step 20, train cls loss: 0.2932, train acc: 1.0000\n",
      "Epoch 9, step 25, train cls loss: 0.2932, train acc: 1.0000\n",
      "Epoch 9, step 30, train cls loss: 0.2933, train acc: 1.0000\n",
      "Epoch 9, step 35, train cls loss: 0.2933, train acc: 1.0000\n",
      "Epoch 9, step 40, train cls loss: 0.2933, train acc: 1.0000\n",
      "Epoch 9, step 45, train cls loss: 0.2933, train acc: 1.0000\n",
      "Epoch 9, step 50, train cls loss: 0.2933, train acc: 1.0000\n",
      "Epoch 9, step 55, train cls loss: 0.2933, train acc: 1.0000\n",
      "Epoch 9, step 60, train cls loss: 0.2933, train acc: 1.0000\n",
      "Epoch 9, step 65, train cls loss: 0.2933, train acc: 1.0000\n",
      "Epoch 9, step 70, train cls loss: 0.2934, train acc: 1.0000\n",
      "Epoch 9, step 75, train cls loss: 0.2934, train acc: 1.0000\n",
      "Epoch 9, step 80, train cls loss: 0.2934, train acc: 1.0000\n",
      "Epoch 9, step 85, train cls loss: 0.2934, train acc: 1.0000\n",
      "Epoch 9, step 90, train cls loss: 0.2935, train acc: 1.0000\n",
      "Epoch 9, step 95, train cls loss: 0.2935, train acc: 1.0000\n",
      "Epoch 9, step 100, train cls loss: 0.2935, train acc: 1.0000\n",
      "Epoch 9, step 105, train cls loss: 0.2935, train acc: 1.0000\n",
      "Epoch 9, step 110, train cls loss: 0.2935, train acc: 1.0000\n",
      "Epoch 9, step 115, train cls loss: 0.2936, train acc: 0.9999\n",
      "Epoch 9, step 120, train cls loss: 0.2936, train acc: 0.9999\n",
      "Epoch 9, step 125, train cls loss: 0.2937, train acc: 0.9999\n",
      "Epoch 9, step 130, train cls loss: 0.2937, train acc: 0.9999\n",
      "Epoch 9, step 135, train cls loss: 0.2938, train acc: 0.9999\n",
      "Epoch 9, step 140, train cls loss: 0.2938, train acc: 0.9999\n",
      "Epoch 9, step 145, train cls loss: 0.2939, train acc: 0.9999\n",
      "Epoch 9, step 150, train cls loss: 0.2939, train acc: 0.9999\n",
      "Epoch 9, step 155, train cls loss: 0.2939, train acc: 0.9999\n"
     ]
    },
    {
     "data": {
      "text/plain": [
       "'./weight/HumanFetal_50k/'"
      ]
     },
     "execution_count": 12,
     "metadata": {},
     "output_type": "execute_result"
    }
   ],
   "source": [
    "# train (leave spleen out). If you don't want to train the model, you can just load our trained classifier's weight and test it directly.\n",
    "weight_path = save_path + f'weight/{exp_id}/'\n",
    "ref_tf_path = save_path + f'tfrecord/{exp_id}/ref_tf/'\n",
    "query_tf_path = save_path + f'tfrecord/{exp_id}/query_tf/'\n",
    "\n",
    "concerto_train_inter_supervised_uda2(ref_tf_path, query_tf_path, weight_path,\n",
    "                                     super_parameters={'batch_size': 128, 'epoch_pretrain': 1,'epoch_classifier': 10, 'lr': 1e-4,'drop_rate': 0.1})"
   ]
  },
  {
   "cell_type": "code",
   "execution_count": 13,
   "metadata": {},
   "outputs": [
    {
     "name": "stdout",
     "output_type": "stream",
     "text": [
      "train cost  7636.278284\n"
     ]
    }
   ],
   "source": [
    "ed_time = datetime.datetime.now()\n",
    "\n",
    "train_cost = (ed_time-st_time).total_seconds()\n",
    "print('train cost ', train_cost)"
   ]
  },
  {
   "cell_type": "code",
   "execution_count": 14,
   "metadata": {},
   "outputs": [
    {
     "name": "stdout",
     "output_type": "stream",
     "text": [
      "test cost  610.359155\n",
      "30000 300\n",
      "close_acc= 0.2099\n",
      "0.2099 -1 -1 -1\n"
     ]
    }
   ],
   "source": [
    "# test (only spleen)\n",
    "weight_path = save_path + f'weight/{exp_id}/'\n",
    "ref_tf_path = save_path + f'tfrecord/{exp_id}/ref_tf/'\n",
    "query_tf_path = save_path + f'tfrecord/{exp_id}/query_tf/'\n",
    "\n",
    "for epoch in [4]:\n",
    "    st_time = datetime.datetime.now()\n",
    "    results = concerto_test_inter_supervised2(weight_path, ref_tf_path, query_tf_path,\n",
    "                                         super_parameters = {'batch_size': 64, 'epoch': epoch, 'lr': 1e-5,'drop_rate': 0.1})\n",
    "    ed_time = datetime.datetime.now()\n",
    "\n",
    "    test_cost = (ed_time-st_time).total_seconds()\n",
    "    print('test cost ', test_cost)\n",
    "    \n",
    "    # NN classifier\n",
    "    query_neighbor, query_prob = knn_classifier(results['source_feature'],\n",
    "                                           results['target_feature'],\n",
    "                                           adata_ref,\n",
    "                                           adata_ref.obs_names,\n",
    "                                           column_name=type_key,\n",
    "                                           k=30)\n",
    "    open_score = 1 - query_prob\n",
    "\n",
    "    kn_data_pr = query_neighbor[shr_mask]\n",
    "    kn_data_gt = atac_lab[shr_mask]\n",
    "    kn_data_open_score = open_score[shr_mask]\n",
    "\n",
    "    unk_data_open_score = open_score[np.logical_not(shr_mask)]\n",
    "\n",
    "    closed_acc, os_auroc, os_aupr, oscr = osr_evaluator(kn_data_pr, kn_data_gt, kn_data_open_score, unk_data_open_score)\n",
    "    print(closed_acc, os_auroc, os_aupr, oscr)\n"
   ]
  },
  {
   "cell_type": "markdown",
   "metadata": {},
   "source": [
    "# Neural classifier"
   ]
  },
  {
   "cell_type": "code",
   "execution_count": 13,
   "metadata": {},
   "outputs": [],
   "source": [
    "query_pred, query_prob = results['target_pred'], results['target_prob']"
   ]
  },
  {
   "cell_type": "code",
   "execution_count": 14,
   "metadata": {},
   "outputs": [
    {
     "name": "stdout",
     "output_type": "stream",
     "text": [
      "close_acc= 0.1532\n"
     ]
    },
    {
     "data": {
      "text/plain": [
       "(0.15316666666666667, -1, -1, -1)"
      ]
     },
     "execution_count": 14,
     "metadata": {},
     "output_type": "execute_result"
    }
   ],
   "source": [
    "open_score = 1 - query_prob\n",
    "\n",
    "kn_data_pr = query_pred[shr_mask]\n",
    "kn_data_gt = atac_lab[shr_mask]\n",
    "kn_data_open_score = open_score[shr_mask]\n",
    "\n",
    "unk_data_open_score = open_score[np.logical_not(shr_mask)]\n",
    "\n",
    "closed_acc, os_auroc, os_aupr, oscr = osr_evaluator(kn_data_pr, kn_data_gt, kn_data_open_score, unk_data_open_score)\n",
    "closed_acc, os_auroc, os_aupr, oscr"
   ]
  }
 ],
 "metadata": {
  "kernelspec": {
   "display_name": "CompressSSC",
   "language": "python",
   "name": "compressssc"
  },
  "language_info": {
   "codemirror_mode": {
    "name": "ipython",
    "version": 3
   },
   "file_extension": ".py",
   "mimetype": "text/x-python",
   "name": "python",
   "nbconvert_exporter": "python",
   "pygments_lexer": "ipython3",
   "version": "3.7.4"
  }
 },
 "nbformat": 4,
 "nbformat_minor": 4
}
