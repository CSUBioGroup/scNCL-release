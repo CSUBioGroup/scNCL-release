{
 "cells": [
  {
   "cell_type": "code",
   "execution_count": 6,
   "metadata": {},
   "outputs": [
    {
     "name": "stdout",
     "output_type": "stream",
     "text": [
      "The autoreload extension is already loaded. To reload it, use:\n",
      "  %reload_ext autoreload\n"
     ]
    }
   ],
   "source": [
    "%load_ext autoreload\n",
    "%autoreload 2\n",
    "\n",
    "import os\n",
    "import sys\n",
    "sys.path.append(\"../\")\n",
    "from concerto_function5_3 import *\n",
    "from sklearn.metrics import f1_score, accuracy_score\n",
    "import numpy as np\n",
    "import scanpy as sc\n",
    "import seaborn as sns\n",
    "import scipy.sparse as sps\n",
    "import matplotlib.pyplot as plt\n",
    "from metrics import osr_evaluator\n",
    "\n",
    "from os.path import join"
   ]
  },
  {
   "cell_type": "code",
   "execution_count": 2,
   "metadata": {},
   "outputs": [],
   "source": [
    "#Select an available GPU to run on a multi-GPU computer or you can run it directly on the CPU without executing this cell\n",
    "import tensorflow as tf\n",
    "os.environ[\"CUDA_VISIBLE_DEVICES\"] = '1' \n",
    "gpus = tf.config.experimental.list_physical_devices(device_type='GPU')\n",
    "for gpu in gpus:\n",
    "    tf.config.experimental.set_memory_growth(gpu, True) "
   ]
  },
  {
   "cell_type": "code",
   "execution_count": 9,
   "metadata": {},
   "outputs": [
    {
     "data": {
      "text/plain": [
       "(AnnData object with n_obs × n_vars = 4644 × 17441\n",
       "     obs: 'cell_type', 'data_type',\n",
       " AnnData object with n_obs × n_vars = 4502 × 17441\n",
       "     obs: 'cell_type', 'data_type')"
      ]
     },
     "execution_count": 9,
     "metadata": {},
     "output_type": "execute_result"
    }
   ],
   "source": [
    "exp_id = 'CITE-ASAP'\n",
    "data_root = '/home/yanxh/data'\n",
    "\n",
    "adata_ref_rna = sc.read_h5ad(join(data_root, 'CITE-ASAP/adata_rna_cache.h5ad'))\n",
    "adata_query_atac = sc.read_h5ad(join(data_root, 'CITE-ASAP/adata_atac_cache.h5ad'))\n",
    "\n",
    "batch_key = 'data_type'\n",
    "type_key = 'cell_type'\n",
    "\n",
    "adata_ref_rna, adata_query_atac"
   ]
  },
  {
   "cell_type": "code",
   "execution_count": 10,
   "metadata": {},
   "outputs": [
    {
     "data": {
      "text/plain": [
       "((4644, 227), (4502, 227))"
      ]
     },
     "execution_count": 10,
     "metadata": {},
     "output_type": "execute_result"
    }
   ],
   "source": [
    "# adt features\n",
    "cite_adt = sps.load_npz(join(data_root, 'CITE-ASAP/citeseq_control_adt.npz'))\n",
    "adata_ref_adt = sc.AnnData(cite_adt, obs=adata_ref_rna.obs)\n",
    "asap_adt = sps.load_npz(join(data_root, 'CITE-ASAP/asapseq_control_adt.npz'))\n",
    "adata_query_adt = sc.AnnData(asap_adt, obs=adata_query_atac.obs)\n",
    "\n",
    "cite_adt.shape, asap_adt.shape"
   ]
  },
  {
   "cell_type": "markdown",
   "metadata": {},
   "source": [
    "# Preprocess"
   ]
  },
  {
   "cell_type": "code",
   "execution_count": 11,
   "metadata": {},
   "outputs": [
    {
     "name": "stdout",
     "output_type": "stream",
     "text": [
      "Processed dataset shape: (4644, 17441)\n",
      "Processed dataset shape: (4502, 17441)\n"
     ]
    }
   ],
   "source": [
    "# filter cells, normalize_total, hvg(if), no scale\n",
    "adata_ref_rna = preprocessing_rna(adata_ref_rna, min_features=0, n_top_features=None, is_hvg=False, batch_key=batch_key)\n",
    "adata_query_atac = preprocessing_rna(adata_query_atac, min_features=0, n_top_features=None, is_hvg=False, batch_key=batch_key)\n",
    "adata_ref_adt = preprocessing_rna(adata_ref_adt, min_features=0, n_top_features=None, is_hvg=False, batch_key=batch_key)\n",
    "adata_query_adt = preprocessing_rna(adata_query_adt, min_features=0, n_top_features=None, is_hvg=False, batch_key=batch_key)\n",
    "\n",
    "adata_ref = sc.AnnData(sps.csr_matrix(sps.hstack([adata_ref_rna.X, adata_ref_adt.X])), obs=adata_ref_rna.obs)\n",
    "adata_query = sc.AnnData(sps.csr_matrix(sps.hstack([adata_query_atac.X, adata_query_adt.X])), obs=adata_query_adt.obs)\n",
    "\n",
    "shr_mask = np.in1d(adata_query_atac.obs[type_key], adata_ref_rna.obs[type_key].unique())\n",
    "atac_lab = np.array(adata_query_atac.obs[type_key].values)\n",
    "\n",
    "save_path = './'\n",
    "weight_path = save_path + f'weight/{exp_id}/'"
   ]
  },
  {
   "cell_type": "code",
   "execution_count": 14,
   "metadata": {},
   "outputs": [],
   "source": [
    "ref_tf_path = concerto_make_tfrecord_supervised(adata_ref, tf_path = save_path + f'tfrecord/{exp_id}/ref_tf/',\n",
    "                                     batch_col_name = batch_key, label_col_name=type_key)\n",
    "query_tf_path = concerto_make_tfrecord_supervised(adata_query, tf_path = save_path + f'tfrecord/{exp_id}/query_tf/',\n",
    "                                     batch_col_name = batch_key, label_col_name=type_key)"
   ]
  },
  {
   "cell_type": "code",
   "execution_count": 15,
   "metadata": {
    "scrolled": true
   },
   "outputs": [
    {
     "name": "stdout",
     "output_type": "stream",
     "text": [
      "./tfrecord/CITE-ASAP/ref_tf/tf_0.tfrecord\n",
      "Epoch 1, step 5, simclr loss: 10.5876.\n",
      "Epoch 1, step 10, simclr loss: 10.1897.\n",
      "Epoch 1, step 15, simclr loss: 9.7408.\n",
      "Epoch 1, step 20, simclr loss: 9.2589.\n",
      "Epoch 1, step 25, simclr loss: 8.7338.\n",
      "Epoch 1, step 30, simclr loss: 8.1835.\n",
      "Epoch 1, step 35, simclr loss: 7.6388.\n",
      "./tfrecord/CITE-ASAP/ref_tf/tf_0.tfrecord\n",
      "Epoch 0, step 5, train cls loss: 2.3179, train acc: 0.4703\n",
      "Epoch 0, step 10, train cls loss: 2.2925, train acc: 0.5219\n",
      "Epoch 0, step 15, train cls loss: 2.2380, train acc: 0.5688\n",
      "Epoch 0, step 20, train cls loss: 2.0901, train acc: 0.5941\n",
      "Epoch 0, step 25, train cls loss: 1.9114, train acc: 0.6137\n",
      "Epoch 0, step 30, train cls loss: 1.7582, train acc: 0.6422\n",
      "Epoch 0, step 35, train cls loss: 1.6244, train acc: 0.6732\n",
      "./tfrecord/CITE-ASAP/ref_tf/tf_0.tfrecord\n",
      "Epoch 1, step 5, train cls loss: 0.6583, train acc: 0.9078\n",
      "Epoch 1, step 10, train cls loss: 0.6598, train acc: 0.9078\n",
      "Epoch 1, step 15, train cls loss: 0.6404, train acc: 0.9203\n",
      "Epoch 1, step 20, train cls loss: 0.6236, train acc: 0.9238\n",
      "Epoch 1, step 25, train cls loss: 0.6044, train acc: 0.9309\n",
      "Epoch 1, step 30, train cls loss: 0.5864, train acc: 0.9383\n",
      "Epoch 1, step 35, train cls loss: 0.5793, train acc: 0.9406\n",
      "./tfrecord/CITE-ASAP/ref_tf/tf_0.tfrecord\n",
      "Epoch 2, step 5, train cls loss: 0.5058, train acc: 0.9641\n",
      "Epoch 2, step 10, train cls loss: 0.4924, train acc: 0.9672\n",
      "Epoch 2, step 15, train cls loss: 0.4958, train acc: 0.9688\n",
      "Epoch 2, step 20, train cls loss: 0.4963, train acc: 0.9707\n",
      "Epoch 2, step 25, train cls loss: 0.5008, train acc: 0.9675\n",
      "Epoch 2, step 30, train cls loss: 0.5000, train acc: 0.9685\n",
      "Epoch 2, step 35, train cls loss: 0.5023, train acc: 0.9683\n",
      "./tfrecord/CITE-ASAP/ref_tf/tf_0.tfrecord\n",
      "Epoch 3, step 5, train cls loss: 0.4741, train acc: 0.9719\n",
      "Epoch 3, step 10, train cls loss: 0.4830, train acc: 0.9719\n",
      "Epoch 3, step 15, train cls loss: 0.4828, train acc: 0.9734\n",
      "Epoch 3, step 20, train cls loss: 0.4817, train acc: 0.9754\n",
      "Epoch 3, step 25, train cls loss: 0.4782, train acc: 0.9772\n",
      "Epoch 3, step 30, train cls loss: 0.4775, train acc: 0.9779\n",
      "Epoch 3, step 35, train cls loss: 0.4768, train acc: 0.9779\n",
      "./tfrecord/CITE-ASAP/ref_tf/tf_0.tfrecord\n",
      "Epoch 4, step 5, train cls loss: 0.4445, train acc: 0.9922\n",
      "Epoch 4, step 10, train cls loss: 0.4484, train acc: 0.9898\n",
      "Epoch 4, step 15, train cls loss: 0.4454, train acc: 0.9911\n",
      "Epoch 4, step 20, train cls loss: 0.4475, train acc: 0.9898\n",
      "Epoch 4, step 25, train cls loss: 0.4521, train acc: 0.9884\n",
      "Epoch 4, step 30, train cls loss: 0.4559, train acc: 0.9859\n",
      "Epoch 4, step 35, train cls loss: 0.4566, train acc: 0.9862\n",
      "./tfrecord/CITE-ASAP/ref_tf/tf_0.tfrecord\n",
      "Epoch 5, step 5, train cls loss: 0.4427, train acc: 0.9937\n",
      "Epoch 5, step 10, train cls loss: 0.4412, train acc: 0.9930\n",
      "Epoch 5, step 15, train cls loss: 0.4453, train acc: 0.9911\n",
      "Epoch 5, step 20, train cls loss: 0.4478, train acc: 0.9914\n",
      "Epoch 5, step 25, train cls loss: 0.4456, train acc: 0.9916\n",
      "Epoch 5, step 30, train cls loss: 0.4444, train acc: 0.9919\n",
      "Epoch 5, step 35, train cls loss: 0.4447, train acc: 0.9915\n",
      "./tfrecord/CITE-ASAP/ref_tf/tf_0.tfrecord\n",
      "Epoch 6, step 5, train cls loss: 0.4342, train acc: 0.9937\n",
      "Epoch 6, step 10, train cls loss: 0.4346, train acc: 0.9953\n",
      "Epoch 6, step 15, train cls loss: 0.4340, train acc: 0.9964\n",
      "Epoch 6, step 20, train cls loss: 0.4340, train acc: 0.9965\n",
      "Epoch 6, step 25, train cls loss: 0.4352, train acc: 0.9962\n",
      "Epoch 6, step 30, train cls loss: 0.4350, train acc: 0.9961\n",
      "Epoch 6, step 35, train cls loss: 0.4364, train acc: 0.9958\n",
      "./tfrecord/CITE-ASAP/ref_tf/tf_0.tfrecord\n",
      "Epoch 7, step 5, train cls loss: 0.4360, train acc: 0.9984\n",
      "Epoch 7, step 10, train cls loss: 0.4322, train acc: 0.9984\n",
      "Epoch 7, step 15, train cls loss: 0.4321, train acc: 0.9979\n",
      "Epoch 7, step 20, train cls loss: 0.4322, train acc: 0.9980\n",
      "Epoch 7, step 25, train cls loss: 0.4311, train acc: 0.9984\n",
      "Epoch 7, step 30, train cls loss: 0.4317, train acc: 0.9984\n",
      "Epoch 7, step 35, train cls loss: 0.4336, train acc: 0.9978\n",
      "./tfrecord/CITE-ASAP/ref_tf/tf_0.tfrecord\n",
      "Epoch 8, step 5, train cls loss: 0.4284, train acc: 0.9984\n",
      "Epoch 8, step 10, train cls loss: 0.4272, train acc: 0.9992\n",
      "Epoch 8, step 15, train cls loss: 0.4276, train acc: 0.9990\n",
      "Epoch 8, step 20, train cls loss: 0.4279, train acc: 0.9992\n",
      "Epoch 8, step 25, train cls loss: 0.4284, train acc: 0.9991\n",
      "Epoch 8, step 30, train cls loss: 0.4294, train acc: 0.9990\n",
      "Epoch 8, step 35, train cls loss: 0.4300, train acc: 0.9989\n",
      "./tfrecord/CITE-ASAP/ref_tf/tf_0.tfrecord\n",
      "Epoch 9, step 5, train cls loss: 0.4297, train acc: 1.0000\n",
      "Epoch 9, step 10, train cls loss: 0.4292, train acc: 0.9992\n",
      "Epoch 9, step 15, train cls loss: 0.4288, train acc: 0.9990\n",
      "Epoch 9, step 20, train cls loss: 0.4295, train acc: 0.9984\n",
      "Epoch 9, step 25, train cls loss: 0.4295, train acc: 0.9987\n",
      "Epoch 9, step 30, train cls loss: 0.4295, train acc: 0.9990\n",
      "Epoch 9, step 35, train cls loss: 0.4293, train acc: 0.9991\n"
     ]
    },
    {
     "data": {
      "text/plain": [
       "'./weight/CITE-ASAP/'"
      ]
     },
     "execution_count": 15,
     "metadata": {},
     "output_type": "execute_result"
    }
   ],
   "source": [
    "# train (leave spleen out). If you don't want to train the model, you can just load our trained classifier's weight and test it directly.\n",
    "weight_path = save_path + f'weight/{exp_id}/'\n",
    "ref_tf_path = save_path + f'tfrecord/{exp_id}/ref_tf/'\n",
    "\n",
    "concerto_train_inter_supervised_uda2(ref_tf_path, query_tf_path, weight_path,\n",
    "                                     super_parameters={'batch_size': 128, 'epoch_pretrain': 1,'epoch_classifier': 10, 'lr': 1e-4,'drop_rate': 0.1})"
   ]
  },
  {
   "cell_type": "code",
   "execution_count": 18,
   "metadata": {},
   "outputs": [
    {
     "name": "stdout",
     "output_type": "stream",
     "text": [
      "4502 45\n",
      "close_acc= 0.8598\n",
      "AUROC= 0.6565\n",
      "AUPR= 0.1581\n",
      "OSCR= 0.6031\n",
      "0.8597546307433245 0.6565213904955148 0.15811356836680499 0.6030941349147412\n"
     ]
    }
   ],
   "source": [
    "# test (only spleen)\n",
    "weight_path = save_path + f'weight/{exp_id}/'\n",
    "ref_tf_path = save_path + f'tfrecord/{exp_id}/ref_tf/'\n",
    "query_tf_path = save_path + f'tfrecord/{exp_id}/query_tf/'\n",
    "\n",
    "for epoch in [10]:\n",
    "    results = concerto_test_inter_supervised2(weight_path, ref_tf_path, query_tf_path,\n",
    "                                         super_parameters = {'batch_size': 64, 'epoch': epoch, 'lr': 1e-5,'drop_rate': 0.1})\n",
    "    \n",
    "    # NN classifier\n",
    "    query_neighbor, query_prob = knn_classifier(results['source_feature'],\n",
    "                                           results['target_feature'],\n",
    "                                           adata_ref,\n",
    "                                           adata_ref.obs_names,\n",
    "                                           column_name=type_key,\n",
    "                                           k=30)\n",
    "    \n",
    "    open_score = 1 - query_prob\n",
    "\n",
    "    kn_data_pr = query_neighbor[shr_mask]\n",
    "    kn_data_gt = atac_lab[shr_mask]\n",
    "    kn_data_open_score = open_score[shr_mask]\n",
    "\n",
    "    unk_data_open_score = open_score[np.logical_not(shr_mask)]\n",
    "\n",
    "    closed_acc, os_auroc, os_aupr, oscr = osr_evaluator(kn_data_pr, kn_data_gt, kn_data_open_score, unk_data_open_score)\n",
    "    print(closed_acc, os_auroc, os_aupr, oscr)"
   ]
  },
  {
   "cell_type": "markdown",
   "metadata": {},
   "source": [
    "# Neural classifier"
   ]
  },
  {
   "cell_type": "code",
   "execution_count": 11,
   "metadata": {},
   "outputs": [],
   "source": [
    "query_pred, query_prob = results['target_pred'], results['target_prob']"
   ]
  },
  {
   "cell_type": "code",
   "execution_count": 12,
   "metadata": {},
   "outputs": [
    {
     "name": "stdout",
     "output_type": "stream",
     "text": [
      "close_acc= 0.7618\n",
      "AUROC= 0.5805\n",
      "AUPR= 0.1286\n",
      "OSCR= 0.4701\n"
     ]
    },
    {
     "data": {
      "text/plain": [
       "(0.7618474861679095,\n",
       " 0.5805412905767467,\n",
       " 0.1286103684802537,\n",
       " 0.47013663002513684)"
      ]
     },
     "execution_count": 12,
     "metadata": {},
     "output_type": "execute_result"
    }
   ],
   "source": [
    "open_score = 1 - query_prob\n",
    "\n",
    "kn_data_pr = query_pred[shr_mask]\n",
    "kn_data_gt = atac_lab[shr_mask]\n",
    "kn_data_open_score = open_score[shr_mask]\n",
    "\n",
    "unk_data_open_score = open_score[np.logical_not(shr_mask)]\n",
    "\n",
    "closed_acc, os_auroc, os_aupr, oscr = osr_evaluator(kn_data_pr, kn_data_gt, kn_data_open_score, unk_data_open_score)\n",
    "closed_acc, os_auroc, os_aupr, oscr"
   ]
  },
  {
   "cell_type": "code",
   "execution_count": null,
   "metadata": {},
   "outputs": [],
   "source": []
  }
 ],
 "metadata": {
  "kernelspec": {
   "display_name": "CompressSSC",
   "language": "python",
   "name": "compressssc"
  },
  "language_info": {
   "codemirror_mode": {
    "name": "ipython",
    "version": 3
   },
   "file_extension": ".py",
   "mimetype": "text/x-python",
   "name": "python",
   "nbconvert_exporter": "python",
   "pygments_lexer": "ipython3",
   "version": "3.7.4"
  }
 },
 "nbformat": 4,
 "nbformat_minor": 4
}
