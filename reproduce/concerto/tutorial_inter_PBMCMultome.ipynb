{
 "cells": [
  {
   "cell_type": "code",
   "execution_count": null,
   "metadata": {},
   "outputs": [],
   "source": [
    "%load_ext autoreload\n",
    "%autoreload 2\n",
    "\n",
    "import os\n",
    "import sys\n",
    "sys.path.append(\"../\")\n",
    "from concerto_function5_3 import *\n",
    "from sklearn.metrics import f1_score, accuracy_score\n",
    "import numpy as np\n",
    "import scanpy as sc\n",
    "import matplotlib.pyplot as plt\n",
    "from metrics import osr_evaluator\n",
    "\n",
    "from os.path import join"
   ]
  },
  {
   "cell_type": "code",
   "execution_count": null,
   "metadata": {},
   "outputs": [],
   "source": [
    "#Select an available GPU to run on a multi-GPU computer or you can run it directly on the CPU without executing this cell\n",
    "import tensorflow as tf\n",
    "os.environ[\"CUDA_VISIBLE_DEVICES\"] = '1' \n",
    "gpus = tf.config.experimental.list_physical_devices(device_type='GPU')\n",
    "for gpu in gpus:\n",
    "    tf.config.experimental.set_memory_growth(gpu, True) "
   ]
  },
  {
   "cell_type": "code",
   "execution_count": null,
   "metadata": {},
   "outputs": [],
   "source": [
    "exp_id = 'PBMCMultome'\n",
    "data_root = '/home/yanxh/data/pbmc_10x'\n",
    "\n",
    "adata_atac = sc.read_h5ad(join(data_root, 'ATAC/adata_atac.h5ad'))\n",
    "adata_rna = sc.read_h5ad(join(data_root, 'RNA/adata_rna.h5ad'))\n",
    "adata_atac_gam = sc.read_h5ad(join(data_root, 'ATAC_GAM/adata_atac_gam.h5ad'))\n",
    "\n",
    "gene_share = adata_atac_gam.var_names.intersection(adata_rna.var_names)\n",
    "adata_atac_gam2 = adata_atac_gam[:, gene_share]\n",
    "adata_rna2 = adata_rna[:, gene_share]\n",
    "\n",
    "batch_key = 'domain'\n",
    "type_key = 'cell_type'\n",
    "\n",
    "adata_rna, adata_atac"
   ]
  },
  {
   "cell_type": "code",
   "execution_count": null,
   "metadata": {},
   "outputs": [],
   "source": [
    "adata_all = sc.concat([adata_rna2, adata_atac_gam2])\n",
    "adata_all"
   ]
  },
  {
   "cell_type": "markdown",
   "metadata": {},
   "source": [
    "# Preprocess"
   ]
  },
  {
   "cell_type": "code",
   "execution_count": null,
   "metadata": {},
   "outputs": [],
   "source": [
    "# filter cells, normalize_total, hvg(if), no scale\n",
    "adata = preprocessing_rna(adata_all, \n",
    "                          min_features=0, \n",
    "                          n_top_features=None, \n",
    "                          is_hvg=False, \n",
    "                          batch_key=batch_key)\n",
    "\n",
    "adata_ref = adata[adata.obs[batch_key] == 'rna']\n",
    "adata_query = adata[adata.obs[batch_key] == 'atac']\n",
    "\n",
    "shr_mask = np.in1d(adata_query.obs[type_key], adata_ref.obs[type_key].unique())\n",
    "atac_lab = np.array(adata_query.obs[type_key].values)\n",
    "\n",
    "save_path = './'\n",
    "# if not os.path.exists(save_path):\n",
    "#     os.makedirs(save_path)\n",
    "# adata_ref.write_h5ad(save_path + 'adata_ref.h5ad')\n",
    "# adata_query.write_h5ad(save_path + 'adata_query.h5ad')  # .tech=='indrop'"
   ]
  },
  {
   "cell_type": "code",
   "execution_count": null,
   "metadata": {},
   "outputs": [],
   "source": [
    "ref_tf_path = concerto_make_tfrecord_supervised(adata_ref, tf_path = save_path + f'tfrecord/{exp_id}/ref_tf/',\n",
    "                                     batch_col_name = batch_key, label_col_name=type_key)\n",
    "query_tf_path = concerto_make_tfrecord_supervised(adata_query, tf_path = save_path + f'tfrecord/{exp_id}/query_tf/',\n",
    "                                     batch_col_name = batch_key, label_col_name=type_key)"
   ]
  },
  {
   "cell_type": "code",
   "execution_count": null,
   "metadata": {
    "scrolled": true
   },
   "outputs": [],
   "source": [
    "# train (leave spleen out). If you don't want to train the model, you can just load our trained classifier's weight and test it directly.\n",
    "weight_path = save_path + f'weight/{exp_id}/'\n",
    "ref_tf_path = save_path + f'tfrecord/{exp_id}/ref_tf/'\n",
    "\n",
    "concerto_train_inter_supervised_uda2(ref_tf_path, query_tf_path, weight_path,\n",
    "                                     super_parameters={'batch_size': 128, 'epoch_pretrain': 1,'epoch_classifier': 10, 'lr': 1e-4,'drop_rate': 0.1})"
   ]
  },
  {
   "cell_type": "code",
   "execution_count": null,
   "metadata": {},
   "outputs": [],
   "source": [
    "# test (only spleen)\n",
    "weight_path = save_path + f'weight/{exp_id}/'\n",
    "ref_tf_path = save_path + f'tfrecord/{exp_id}/ref_tf/'\n",
    "query_tf_path = save_path + f'tfrecord/{exp_id}/query_tf/'\n",
    "\n",
    "for epoch in [2]:\n",
    "    results = concerto_test_inter_supervised2(weight_path, ref_tf_path, query_tf_path,\n",
    "                                         super_parameters = {'batch_size': 64, 'epoch': epoch, 'lr': 1e-5,'drop_rate': 0.1})\n",
    "    \n",
    "    # NN classifier\n",
    "    query_neighbor, query_prob = knn_classifier(results['source_feature'],\n",
    "                                           results['target_feature'],\n",
    "                                           adata_ref,\n",
    "                                           adata_ref.obs_names,\n",
    "                                           column_name=type_key,\n",
    "                                           k=30)\n",
    "    open_score = 1 - query_prob\n",
    "\n",
    "    kn_data_pr = query_neighbor[shr_mask]\n",
    "    kn_data_gt = atac_lab[shr_mask]\n",
    "    kn_data_open_score = open_score[shr_mask]\n",
    "\n",
    "    unk_data_open_score = open_score[np.logical_not(shr_mask)]\n",
    "\n",
    "    closed_acc, os_auroc, os_aupr, oscr = osr_evaluator(kn_data_pr, kn_data_gt, kn_data_open_score, unk_data_open_score)\n",
    "    print(closed_acc, os_auroc, os_aupr, oscr)"
   ]
  },
  {
   "cell_type": "markdown",
   "metadata": {},
   "source": [
    "# Neural classifier"
   ]
  },
  {
   "cell_type": "code",
   "execution_count": null,
   "metadata": {},
   "outputs": [],
   "source": [
    "query_pred, query_prob = results['target_pred'], results['target_prob']\n",
    "# query_label = results['target_label'], query_record的编码及编码方式没有意义"
   ]
  },
  {
   "cell_type": "code",
   "execution_count": null,
   "metadata": {},
   "outputs": [],
   "source": [
    "open_score = 1 - query_prob\n",
    "\n",
    "kn_data_pr = query_pred[shr_mask]\n",
    "kn_data_gt = atac_lab[shr_mask]\n",
    "kn_data_open_score = open_score[shr_mask]\n",
    "\n",
    "unk_data_open_score = open_score[np.logical_not(shr_mask)]\n",
    "\n",
    "closed_acc, os_auroc, os_aupr, oscr = osr_evaluator(kn_data_pr, kn_data_gt, kn_data_open_score, unk_data_open_score)\n",
    "closed_acc, os_auroc, os_aupr, oscr"
   ]
  }
 ],
 "metadata": {
  "kernelspec": {
   "display_name": "CompressSSC",
   "language": "python",
   "name": "compressssc"
  },
  "language_info": {
   "codemirror_mode": {
    "name": "ipython",
    "version": 3
   },
   "file_extension": ".py",
   "mimetype": "text/x-python",
   "name": "python",
   "nbconvert_exporter": "python",
   "pygments_lexer": "ipython3",
   "version": "3.7.4"
  }
 },
 "nbformat": 4,
 "nbformat_minor": 4
}
