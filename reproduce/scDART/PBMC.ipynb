{
 "cells": [
  {
   "cell_type": "code",
   "execution_count": 12,
   "metadata": {},
   "outputs": [],
   "source": [
    "import sys\n",
    "sys.path.append('../')\n",
    "\n",
    "import scanpy as sc\n",
    "import numpy as np\n",
    "import pandas as pd\n",
    "\n",
    "import torch\n",
    "import matplotlib.pyplot as plt\n",
    "from sklearn.decomposition import PCA\n",
    "\n",
    "import scDART.utils as utils\n",
    "import scDART.TI as ti\n",
    "import scDART\n",
    "\n",
    "device = torch.device('cuda' if torch.cuda.is_available() else 'cpu')"
   ]
  },
  {
   "cell_type": "markdown",
   "metadata": {},
   "source": [
    "# Train model"
   ]
  },
  {
   "cell_type": "markdown",
   "metadata": {},
   "source": [
    "### PBMC"
   ]
  },
  {
   "cell_type": "code",
   "execution_count": 5,
   "metadata": {},
   "outputs": [
    {
     "data": {
      "text/plain": [
       "(AnnData object with n_obs × n_vars = 10412 × 36601\n",
       "     obs: 'orig.ident', 'nCount_RNA', 'nFeature_RNA', 'seurat_annotations', 'domain', 'cell_type',\n",
       " AnnData object with n_obs × n_vars = 10412 × 108377\n",
       "     obs: 'orig.ident', 'nCount_RNA', 'nFeature_RNA', 'seurat_annotations', 'domain', 'cell_type')"
      ]
     },
     "execution_count": 5,
     "metadata": {},
     "output_type": "execute_result"
    }
   ],
   "source": [
    "pbmc_atac = sc.read_h5ad('/data/pbmc_10x/ATAC/adata_atac.h5ad')\n",
    "pbmc_rna = sc.read_h5ad('/data/pbmc_10x/RNA/adata_rna.h5ad')\n",
    "pbmc_rna, pbmc_atac"
   ]
  },
  {
   "cell_type": "code",
   "execution_count": 3,
   "metadata": {},
   "outputs": [
    {
     "data": {
      "text/plain": [
       "(72372, 11046)"
      ]
     },
     "execution_count": 3,
     "metadata": {},
     "output_type": "execute_result"
    }
   ],
   "source": [
    "gact = pd.read_csv('pbmc_gact.csv')\n",
    "gact = gact.set_index('peak')\n",
    "gact['peak'] = gact.index.values\n",
    "\n",
    "valid_peak = np.array([_.replace(\"_\", '-') for _ in gact.peak.to_numpy()])\n",
    "valid_gene = np.array(list(pbmc_rna.var_names.intersection(gact['gene.name'])))\n",
    "len(valid_peak), len(valid_gene)"
   ]
  },
  {
   "cell_type": "code",
   "execution_count": 4,
   "metadata": {},
   "outputs": [
    {
     "data": {
      "text/plain": [
       "((10412, 7280), (10412, 21855))"
      ]
     },
     "execution_count": 4,
     "metadata": {},
     "output_type": "execute_result"
    }
   ],
   "source": [
    "# reduce peak number\n",
    "count_atac = (pbmc_atac[:, valid_peak].X.A > 0).astype('float')\n",
    "hv_peak = count_atac.sum(axis=0) >= 0.05*count_atac.shape[0]\n",
    "\n",
    "hv_valid_peak = valid_peak[hv_peak]\n",
    "count_atac = (pbmc_atac[:, hv_valid_peak].X.A > 0).astype('float')\n",
    "\n",
    "hv_gene = gact.loc[[_.replace('-', '_') for _ in hv_valid_peak], 'gene.name'].to_numpy()\n",
    "hv_valid_gene = np.array(list(pbmc_rna.var_names.intersection(hv_gene)))\n",
    "count_rna = pbmc_rna[:, hv_valid_gene].X.A\n",
    "\n",
    "count_rna.shape, count_atac.shape"
   ]
  },
  {
   "cell_type": "code",
   "execution_count": 5,
   "metadata": {},
   "outputs": [],
   "source": [
    "# count_rna = pbmc_rna[:, valid_gene].X.A\n",
    "# count_atac = (pbmc_atac[:, valid_peak].X.A > 0).astype('float')\n",
    "# count_rna.shape, count_atac.shape"
   ]
  },
  {
   "cell_type": "code",
   "execution_count": 6,
   "metadata": {},
   "outputs": [],
   "source": [
    "count_rna = count_rna/np.sum(count_rna, axis = 1)[:, None] * 100\n",
    "count_rna = np.log1p(count_rna)\n",
    "count_atac = (count_atac > 0).astype(np.float)"
   ]
  },
  {
   "cell_type": "code",
   "execution_count": 7,
   "metadata": {},
   "outputs": [],
   "source": [
    "pbmc_coarse_reg = np.zeros((len(hv_valid_peak), len(hv_valid_gene)))\n",
    "peak2idx = {v:i for i,v in enumerate(hv_valid_peak)}  # chr1-x-x\n",
    "gene2idx = {v:i for i,v in enumerate(hv_valid_gene)}\n",
    "\n",
    "for _, r in gact.iterrows():  # chr_x_x\n",
    "    gn = r['gene.name']\n",
    "    pn = r['peak'].replace('_', '-')\n",
    "    if (gn not in gene2idx) or (pn not in peak2idx):\n",
    "        continue\n",
    "    rix = peak2idx[pn]\n",
    "    cix = gene2idx[gn]\n",
    "    pbmc_coarse_reg[rix, cix] = 1"
   ]
  },
  {
   "cell_type": "code",
   "execution_count": 8,
   "metadata": {},
   "outputs": [
    {
     "data": {
      "text/plain": [
       "17620.0"
      ]
     },
     "execution_count": 8,
     "metadata": {},
     "output_type": "execute_result"
    }
   ],
   "source": [
    "pbmc_coarse_reg.sum()"
   ]
  },
  {
   "cell_type": "code",
   "execution_count": 9,
   "metadata": {},
   "outputs": [
    {
     "name": "stdout",
     "output_type": "stream",
     "text": [
      "Loaded Dataset\n",
      "Calculating diffusion dist\n",
      "running time(sec): 619.0065658092499\n",
      "running time(sec): 591.1360161304474\n",
      "running time(sec): 567.9182906150818\n",
      "running time(sec): 530.4377608299255\n",
      "running time(sec): 548.0922586917877\n",
      "running time(sec): 568.3229320049286\n",
      "init model\n",
      "Training\n",
      "epoch:  0\n",
      "\t mmd loss: 0.123\n",
      "\t ATAC dist loss: 0.316\n",
      "\t RNA dist loss: 0.120\n",
      "\t gene activity loss: 55581.633\n",
      "\t anchor matching loss: 0.000\n",
      "epoch:  100\n",
      "\t mmd loss: 0.047\n",
      "\t ATAC dist loss: 0.039\n",
      "\t RNA dist loss: 0.026\n",
      "\t gene activity loss: 36.223\n",
      "\t anchor matching loss: 0.000\n",
      "epoch:  200\n",
      "\t mmd loss: 0.045\n",
      "\t ATAC dist loss: 0.040\n",
      "\t RNA dist loss: 0.025\n",
      "\t gene activity loss: 1.348\n",
      "\t anchor matching loss: 0.000\n",
      "epoch:  300\n",
      "\t mmd loss: 0.041\n",
      "\t ATAC dist loss: 0.036\n",
      "\t RNA dist loss: 0.024\n",
      "\t gene activity loss: 0.174\n",
      "\t anchor matching loss: 0.000\n",
      "epoch:  400\n",
      "\t mmd loss: 0.041\n",
      "\t ATAC dist loss: 0.033\n",
      "\t RNA dist loss: 0.023\n",
      "\t gene activity loss: 0.143\n",
      "\t anchor matching loss: 0.000\n",
      "epoch:  500\n",
      "\t mmd loss: 0.040\n",
      "\t ATAC dist loss: 0.031\n",
      "\t RNA dist loss: 0.023\n",
      "\t gene activity loss: 0.087\n",
      "\t anchor matching loss: 0.000\n",
      "Fit finished\n",
      "Transform finished\n"
     ]
    }
   ],
   "source": [
    "# all in one\n",
    "seeds = [0]\n",
    "latent_dim = 4\n",
    "learning_rate = 3e-4\n",
    "n_epochs = 500\n",
    "use_anchor = False\n",
    "reg_d = 1\n",
    "reg_g = 1\n",
    "reg_mmd = 1\n",
    "ts = [30, 50, 70]\n",
    "use_potential = True\n",
    "\n",
    "label_rna = pbmc_rna.obs.seurat_annotations.to_numpy()\n",
    "label_atac = pbmc_atac.obs.seurat_annotations.to_numpy()\n",
    "coarse_reg = pbmc_coarse_reg\n",
    "\n",
    "scDART_op = scDART.scDART(n_epochs = n_epochs, latent_dim = latent_dim, batch_size=512, \\\n",
    "        ts = ts, use_anchor = use_anchor, use_potential = use_potential, k = 10, \\\n",
    "        reg_d = 1, reg_g = 1, reg_mmd = 1, l_dist_type = 'kl', seed = seeds[0],\\\n",
    "        device = torch.device('cuda' if torch.cuda.is_available() else 'cpu'))\n",
    "\n",
    "scDART_op = scDART_op.fit(rna_count = count_rna, \n",
    "                          atac_count = count_atac, \n",
    "                          reg = coarse_reg, \n",
    "                          rna_anchor = None, \n",
    "                          atac_anchor = None)\n",
    "z_rna, z_atac = scDART_op.transform(rna_count = count_rna, \n",
    "                                    atac_count = count_atac, \n",
    "                                    rna_anchor = None, \n",
    "                                    atac_anchor = None)"
   ]
  },
  {
   "cell_type": "code",
   "execution_count": 10,
   "metadata": {},
   "outputs": [
    {
     "data": {
      "text/plain": [
       "((10412, 4), (10412, 4))"
      ]
     },
     "execution_count": 10,
     "metadata": {},
     "output_type": "execute_result"
    }
   ],
   "source": [
    "z_rna.shape, z_atac.shape"
   ]
  },
  {
   "cell_type": "code",
   "execution_count": 11,
   "metadata": {},
   "outputs": [],
   "source": [
    "import torch\n",
    "import scDART.dataset as dataset\n",
    "from torch.utils.data import DataLoader\n",
    "\n",
    "rna_dataset = dataset.dataset(count_rna, None)\n",
    "atac_dataset = dataset.dataset(count_atac, None)\n",
    "\n",
    "# batch_size = int(max([len(self.rna_dataset),len(self.atac_dataset)])/4) if self.batch_size is None else self.batch_size\n",
    "test_rna_loader = DataLoader(rna_dataset, batch_size = len(rna_dataset), shuffle = False)\n",
    "test_atac_loader = DataLoader(atac_dataset, batch_size = len(atac_dataset), shuffle = False)\n",
    "\n",
    "with torch.no_grad():\n",
    "    for data in test_atac_loader:\n",
    "        rna_atac = scDART_op.model_dict[\"gene_act\"](data['count'].to('cuda')).cpu().detach()\n"
   ]
  },
  {
   "cell_type": "code",
   "execution_count": 18,
   "metadata": {},
   "outputs": [],
   "source": [
    "ad_prna = sc.AnnData(rna_atac.numpy(), obs=pbmc_rna.obs.copy())\n",
    "\n",
    "ad_prna.var_names = hv_valid_gene\n",
    "ad_prna.write_h5ad('./adata_pbmc_pseudo_rna.h5ad')"
   ]
  }
 ],
 "metadata": {
  "interpreter": {
   "hash": "a03228faed9f66c6b441de307d12f03baa2532247873a44ca1a954025fabf88d"
  },
  "kernelspec": {
   "display_name": "torch171",
   "language": "python",
   "name": "torch171"
  },
  "language_info": {
   "codemirror_mode": {
    "name": "ipython",
    "version": 3
   },
   "file_extension": ".py",
   "mimetype": "text/x-python",
   "name": "python",
   "nbconvert_exporter": "python",
   "pygments_lexer": "ipython3",
   "version": "3.6.5"
  }
 },
 "nbformat": 4,
 "nbformat_minor": 2
}
