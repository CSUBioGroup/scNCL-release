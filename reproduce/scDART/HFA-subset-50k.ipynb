{
 "cells": [
  {
   "cell_type": "code",
   "execution_count": 6,
   "metadata": {},
   "outputs": [],
   "source": [
    "import sys\n",
    "sys.path.append('../')\n",
    "\n",
    "import scanpy as sc\n",
    "import numpy as np\n",
    "import pandas as pd\n",
    "import matplotlib.pyplot as plt\n",
    "\n",
    "import torch\n",
    "from sklearn.decomposition import PCA\n",
    "\n",
    "import scDART.utils as utils\n",
    "import scDART.TI as ti\n",
    "import scDART\n",
    "\n",
    "device = torch.device('cuda' if torch.cuda.is_available() else 'cpu')"
   ]
  },
  {
   "cell_type": "markdown",
   "metadata": {},
   "source": [
    "# Train model"
   ]
  },
  {
   "cell_type": "markdown",
   "metadata": {},
   "source": [
    "### HFA-50k"
   ]
  },
  {
   "cell_type": "code",
   "execution_count": 7,
   "metadata": {},
   "outputs": [
    {
     "data": {
      "text/plain": [
       "(AnnData object with n_obs × n_vars = 20000 × 56622\n",
       "     obs: 'All_reads', 'Assay', 'Batch', 'Development_day', 'Exon_reads', 'Experiment_batch', 'Fetus_id', 'Intron_reads', 'Main_cluster_name', 'Main_cluster_umap_1', 'Main_cluster_umap_2', 'Organ', 'Organ_cell_lineage', 'RT_group', 'Sex', 'Size_Factor', 'batch', 'obs_names', 'sample', 'cell_type', 'domain'\n",
       "     var: 'exon_intron', 'gene_id', 'gene_short_name', 'gene_type', 'index', 'var_names',\n",
       " AnnData object with n_obs × n_vars = 30000 × 1050819\n",
       "     obs: 'cell_type', 'domain')"
      ]
     },
     "execution_count": 7,
     "metadata": {},
     "output_type": "execute_result"
    }
   ],
   "source": [
    "ad_atac = sc.read_h5ad('/data/HumanFetal_50k/ATAC/adata_atac_raw.h5ad')\n",
    "ad_rna = sc.read_h5ad('/data/HumanFetal_50k/RNA/adata_rna_raw.h5ad')\n",
    "\n",
    "ad_rna = ad_rna[:, ~ad_rna.var.gene_short_name.duplicated().to_numpy()].copy()\n",
    "ad_rna.var_names = ad_rna.var.gene_short_name.to_numpy()\n",
    "ad_rna, ad_atac"
   ]
  },
  {
   "cell_type": "code",
   "execution_count": 3,
   "metadata": {},
   "outputs": [
    {
     "data": {
      "text/plain": [
       "(625315, 32293)"
      ]
     },
     "execution_count": 3,
     "metadata": {},
     "output_type": "execute_result"
    }
   ],
   "source": [
    "gact = pd.read_csv('HFA50k_gact.csv')\n",
    "gact = gact.set_index('peak')\n",
    "gact['peak'] = gact.index.values\n",
    "\n",
    "valid_peak = gact.peak.to_numpy()\n",
    "valid_gene = np.array(np.intersect1d(ad_rna.var_names, gact['gene.name']))\n",
    "len(valid_peak), len(valid_gene)"
   ]
  },
  {
   "cell_type": "code",
   "execution_count": 5,
   "metadata": {},
   "outputs": [
    {
     "data": {
      "text/plain": [
       "((20000, 9800), (30000, 11077))"
      ]
     },
     "execution_count": 5,
     "metadata": {},
     "output_type": "execute_result"
    }
   ],
   "source": [
    "# reduce peak number\n",
    "count_atac = (ad_atac[:, valid_peak].X.A > 0).astype('float32')\n",
    "hv_peak = count_atac.sum(axis=0) >= 0.04*count_atac.shape[0]\n",
    "\n",
    "hv_valid_peak = valid_peak[hv_peak]\n",
    "count_atac = (ad_atac[:, hv_valid_peak].X.A > 0).astype('float')\n",
    "\n",
    "hv_gene = gact.loc[hv_valid_peak, 'gene.name'].to_numpy()\n",
    "hv_valid_gene = np.array(np.intersect1d(ad_rna.var_names, hv_gene))\n",
    "count_rna = ad_rna[:, hv_valid_gene].X.A\n",
    "\n",
    "count_rna.shape, count_atac.shape"
   ]
  },
  {
   "cell_type": "code",
   "execution_count": 6,
   "metadata": {},
   "outputs": [],
   "source": [
    "count_rna = count_rna/np.sum(count_rna, axis = 1)[:, None] * 100\n",
    "count_rna = np.log1p(count_rna)\n",
    "count_atac = (count_atac > 0).astype(np.float)"
   ]
  },
  {
   "cell_type": "code",
   "execution_count": 7,
   "metadata": {},
   "outputs": [],
   "source": [
    "coarse_reg = np.zeros((len(hv_valid_peak), len(hv_valid_gene)))\n",
    "peak2idx = {v:i for i,v in enumerate(hv_valid_peak)}  # chr1_x_x\n",
    "gene2idx = {v:i for i,v in enumerate(hv_valid_gene)}\n",
    "\n",
    "for _, r in gact.loc[hv_valid_peak].iterrows():  # chr_x_x\n",
    "    gn = r['gene.name']\n",
    "    pn = r['peak']\n",
    "    if (gn not in gene2idx) or (pn not in peak2idx):\n",
    "        continue\n",
    "    rix = peak2idx[pn]\n",
    "    cix = gene2idx[gn]\n",
    "    coarse_reg[rix, cix] = 1"
   ]
  },
  {
   "cell_type": "code",
   "execution_count": 8,
   "metadata": {},
   "outputs": [
    {
     "data": {
      "text/plain": [
       "(11043.0, (11077, 9800))"
      ]
     },
     "execution_count": 8,
     "metadata": {},
     "output_type": "execute_result"
    }
   ],
   "source": [
    "coarse_reg.sum(), coarse_reg.shape"
   ]
  },
  {
   "cell_type": "code",
   "execution_count": 9,
   "metadata": {},
   "outputs": [
    {
     "name": "stdout",
     "output_type": "stream",
     "text": [
      "Loaded Dataset\n",
      "Calculating diffusion dist\n",
      "init model\n",
      "Training\n",
      "epoch:  0\n",
      "\t mmd loss: 0.045\n",
      "\t ATAC dist loss: 0.354\n",
      "\t RNA dist loss: 0.149\n",
      "\t gene activity loss: 36229.246\n",
      "\t anchor matching loss: 0.000\n",
      "epoch:  100\n",
      "\t mmd loss: 0.031\n",
      "\t ATAC dist loss: 0.091\n",
      "\t RNA dist loss: 0.051\n",
      "\t gene activity loss: 1.538\n",
      "\t anchor matching loss: 0.000\n",
      "epoch:  200\n",
      "\t mmd loss: 0.111\n",
      "\t ATAC dist loss: 0.324\n",
      "\t RNA dist loss: 0.064\n",
      "\t gene activity loss: 1077.469\n",
      "\t anchor matching loss: 0.000\n",
      "epoch:  300\n",
      "\t mmd loss: 0.027\n",
      "\t ATAC dist loss: 0.050\n",
      "\t RNA dist loss: 0.049\n",
      "\t gene activity loss: 0.042\n",
      "\t anchor matching loss: 0.000\n",
      "epoch:  400\n",
      "\t mmd loss: 0.027\n",
      "\t ATAC dist loss: 0.048\n",
      "\t RNA dist loss: 0.049\n",
      "\t gene activity loss: 0.042\n",
      "\t anchor matching loss: 0.000\n",
      "epoch:  500\n",
      "\t mmd loss: 0.026\n",
      "\t ATAC dist loss: 0.046\n",
      "\t RNA dist loss: 0.049\n",
      "\t gene activity loss: 0.018\n",
      "\t anchor matching loss: 0.000\n",
      "Fit finished\n",
      "Transform finished\n"
     ]
    }
   ],
   "source": [
    "# all in one\n",
    "seeds = [0]\n",
    "latent_dim = 4\n",
    "learning_rate = 3e-4\n",
    "n_epochs = 500\n",
    "use_anchor = False\n",
    "reg_d = 1\n",
    "reg_g = 1\n",
    "reg_mmd = 1\n",
    "ts = [30, 50, 70]\n",
    "use_potential = True\n",
    "\n",
    "label_rna = ad_rna.obs.cell_type.to_numpy()\n",
    "label_atac = ad_atac.obs.cell_type.to_numpy()\n",
    "\n",
    "scDART_op = scDART.scDART(n_epochs = n_epochs, latent_dim = latent_dim, batch_size=512, \\\n",
    "        ts = ts, use_anchor = use_anchor, use_potential = use_potential, k = 10, \\\n",
    "        reg_d = 1, reg_g = 1, reg_mmd = 1, l_dist_type = 'kl', seed = seeds[0],\\\n",
    "        device = torch.device('cuda' if torch.cuda.is_available() else 'cpu'))\n",
    "\n",
    "scDART_op = scDART_op.fit(rna_count = count_rna, \n",
    "                          atac_count = count_atac, \n",
    "                          reg = coarse_reg, \n",
    "                          rna_anchor = None, \n",
    "                          atac_anchor = None)\n",
    "z_rna, z_atac = scDART_op.transform(rna_count = count_rna, \n",
    "                                    atac_count = count_atac, \n",
    "                                    rna_anchor = None, \n",
    "                                    atac_anchor = None)"
   ]
  },
  {
   "cell_type": "code",
   "execution_count": 11,
   "metadata": {},
   "outputs": [
    {
     "data": {
      "text/plain": [
       "((20000, 4), (30000, 4))"
      ]
     },
     "execution_count": 11,
     "metadata": {},
     "output_type": "execute_result"
    }
   ],
   "source": [
    "z_rna.shape, z_atac.shape"
   ]
  },
  {
   "cell_type": "code",
   "execution_count": 12,
   "metadata": {},
   "outputs": [],
   "source": [
    "import torch\n",
    "import scDART.dataset as dataset\n",
    "from torch.utils.data import DataLoader\n",
    "\n",
    "rna_dataset = dataset.dataset(count_rna, None)\n",
    "atac_dataset = dataset.dataset(count_atac, None)\n",
    "\n",
    "# batch_size = int(max([len(self.rna_dataset),len(self.atac_dataset)])/4) if self.batch_size is None else self.batch_size\n",
    "test_rna_loader = DataLoader(rna_dataset, batch_size = len(rna_dataset), shuffle = False)\n",
    "test_atac_loader = DataLoader(atac_dataset, batch_size = len(atac_dataset), shuffle = False)\n",
    "\n",
    "with torch.no_grad():\n",
    "    for data in test_atac_loader:\n",
    "        rna_atac = scDART_op.model_dict[\"gene_act\"](data['count'].to('cuda')).cpu().detach()\n"
   ]
  },
  {
   "cell_type": "code",
   "execution_count": 8,
   "metadata": {},
   "outputs": [],
   "source": [
    "ad_prna = sc.AnnData(rna_atac.numpy(), obs=ad_atac.obs.copy())\n",
    "ad_prna.write_h5ad('./adata_hfa50k_pseudo_rna.h5ad')"
   ]
  },
  {
   "cell_type": "code",
   "execution_count": null,
   "metadata": {},
   "outputs": [],
   "source": []
  }
 ],
 "metadata": {
  "interpreter": {
   "hash": "a03228faed9f66c6b441de307d12f03baa2532247873a44ca1a954025fabf88d"
  },
  "kernelspec": {
   "display_name": "torch171",
   "language": "python",
   "name": "torch171"
  },
  "language_info": {
   "codemirror_mode": {
    "name": "ipython",
    "version": 3
   },
   "file_extension": ".py",
   "mimetype": "text/x-python",
   "name": "python",
   "nbconvert_exporter": "python",
   "pygments_lexer": "ipython3",
   "version": "3.6.5"
  }
 },
 "nbformat": 4,
 "nbformat_minor": 2
}
