{
 "cells": [
  {
   "cell_type": "code",
   "execution_count": null,
   "metadata": {},
   "outputs": [],
   "source": [
    "import functools\n",
    "import gc\n",
    "import itertools\n",
    "import os\n",
    "from itertools import chain\n",
    "import datetime\n",
    "\n",
    "import anndata as ad\n",
    "import faiss\n",
    "import matplotlib.pyplot as plt\n",
    "import networkx as nx\n",
    "import numpy as np\n",
    "import pandas as pd\n",
    "import scanpy as sc\n",
    "import seaborn as sns\n",
    "from os.path import join\n",
    "from matplotlib import rcParams\n",
    "from sklearn.preprocessing import Normalizer\n",
    "from sklearn.utils.extmath import randomized_svd\n",
    "\n",
    "import scglue"
   ]
  },
  {
   "cell_type": "code",
   "execution_count": null,
   "metadata": {},
   "outputs": [],
   "source": [
    "os.environ['CUDA_VISIBLE_DEVICE'] = '1'"
   ]
  },
  {
   "cell_type": "code",
   "execution_count": null,
   "metadata": {},
   "outputs": [],
   "source": [
    "PATH = \"./cache/HF-50K-ATLAS\"\n",
    "os.makedirs(PATH, exist_ok=True)"
   ]
  },
  {
   "cell_type": "code",
   "execution_count": null,
   "metadata": {
    "collapsed": true,
    "jupyter": {
     "outputs_hidden": true
    }
   },
   "outputs": [],
   "source": [
    "atac_all = ad.read_h5ad(\"/home/yanxh/data/HumanFetal/ATAC/adata_atac_raw.h5ad\")  # moved to /home/sda1/yanxh/data/HFA\n",
    "rna_all = ad.read_h5ad(\"/home/yanxh/data/HumanFetal/RNA/adata_rna_raw.h5ad\")"
   ]
  },
  {
   "cell_type": "code",
   "execution_count": null,
   "metadata": {},
   "outputs": [],
   "source": [
    "data_root = '/home/yanxh/data/HumanFetal_50k'\n",
    "\n",
    "atac0 = sc.read_h5ad(join(data_root, 'ATAC/adata_atac.h5ad'))\n",
    "rna0 = sc.read_h5ad(join(data_root, 'RNA/adata_rna_sampled.h5ad'))"
   ]
  },
  {
   "cell_type": "code",
   "execution_count": null,
   "metadata": {},
   "outputs": [],
   "source": [
    "atac = atac_all[atac0.obs_names].copy()\n",
    "atac.obs['cell_type'] = atac0.obs.cell_type.values\n",
    "atac.obs['domain'] = 'atac'\n",
    "atac.obs['tissue'] = ['cerebrum' if _.lower()=='brain' else _ for _ in atac0.obs.tissue.values]  # rename 'brain' as 'cerebrum'\n",
    "atac.obs['tissue']\n",
    "\n",
    "rna = rna_all[rna0.obs_names].copy()\n",
    "rna.obs['cell_type'] = rna0.obs.Main_cluster_name.values\n",
    "rna.obs['domain'] = 'rna'\n",
    "# rna.obs = rna.obs[['domain', 'cell_type', 'Organ']].copy()\n",
    "\n",
    "rna.var_names = rna.var.gene_short_name.values.astype('str')\n",
    "rna = rna[:, ~rna.var_names.duplicated()]\n",
    "\n",
    "del atac0, rna0\n",
    "gc.collect()"
   ]
  },
  {
   "cell_type": "markdown",
   "metadata": {},
   "source": [
    "### process feature names"
   ]
  },
  {
   "cell_type": "code",
   "execution_count": null,
   "metadata": {},
   "outputs": [],
   "source": [
    "scglue.data.get_gene_annotation(\n",
    "    rna, gtf=\"/home/yanxh/data/HumanFetal/gencode.v42.chr_patch_hapl_scaff.annotation.gtf\",\n",
    "    gtf_by=\"gene_name\"\n",
    ")\n",
    "# exclude NaN rows\n",
    "rna = rna[:, pd.notna(rna.var[\"chromStart\"])].copy()\n",
    "\n",
    "# rna.var.loc[:, [\"chrom\", \"chromStart\", \"chromEnd\"]].head()\n",
    "\n",
    "split = atac.var_names.str.split(r\"[:-]\")\n",
    "atac.var[\"chrom\"] = split.map(lambda x: x[0])\n",
    "atac.var[\"chromStart\"] = split.map(lambda x: x[1]).astype(int)\n",
    "atac.var[\"chromEnd\"] = split.map(lambda x: x[2]).astype(int)\n",
    "atac.var.head()"
   ]
  },
  {
   "cell_type": "markdown",
   "metadata": {},
   "source": [
    "### Organ balancing"
   ]
  },
  {
   "cell_type": "code",
   "execution_count": null,
   "metadata": {},
   "outputs": [],
   "source": [
    "rna_organ_fracs = rna.obs[\"Organ\"].str.lower().value_counts() / rna.shape[0]\n",
    "atac_organ_fracs = atac.obs[\"tissue\"].str.lower().value_counts() / atac.shape[0]\n",
    "cmp_organ_fracs = pd.DataFrame({\"rna\": rna_organ_fracs, \"atac\": atac_organ_fracs})\n",
    "\n",
    "organ_min_fracs = cmp_organ_fracs.min(axis=1)"
   ]
  },
  {
   "cell_type": "code",
   "execution_count": null,
   "metadata": {},
   "outputs": [],
   "source": [
    "rs = np.random.RandomState(0)\n",
    "rna_subidx, atac_subidx = [], []\n",
    "for organ, min_frac in organ_min_fracs.iteritems():\n",
    "    print(f\"Dealing with {organ}...\")\n",
    "    rna_idx = np.where(rna.obs[\"Organ\"].str.lower() == organ)[0]\n",
    "    rna_subidx.append(rs.choice(rna_idx, max(1, round(min_frac * rna.shape[0])), replace=False))\n",
    "    atac_idx = np.where(atac.obs[\"tissue\"].str.lower() == organ)[0]\n",
    "    atac_subidx.append(rs.choice(atac_idx, max(1, round(min_frac * atac.shape[0])), replace=False))\n",
    "rna_subidx = np.concatenate(rna_subidx)\n",
    "rna_mask = np.zeros(rna.shape[0], dtype=bool)\n",
    "rna_mask[rna_subidx] = True\n",
    "rna.obs[\"mask\"] = rna_mask\n",
    "atac_subidx = np.concatenate(atac_subidx)\n",
    "atac_mask = np.zeros(atac.shape[0], dtype=bool)\n",
    "atac_mask[atac_subidx] = True\n",
    "atac.obs[\"mask\"] = atac_mask"
   ]
  },
  {
   "cell_type": "code",
   "execution_count": null,
   "metadata": {},
   "outputs": [],
   "source": [
    "rna_organ_balancing = np.sqrt(cmp_organ_fracs[\"atac\"] / cmp_organ_fracs[\"rna\"])\n",
    "atac_organ_balancing = np.sqrt(cmp_organ_fracs[\"rna\"] / cmp_organ_fracs[\"atac\"])"
   ]
  },
  {
   "cell_type": "code",
   "execution_count": null,
   "metadata": {},
   "outputs": [],
   "source": [
    "rna.obs[\"organ_balancing\"] = rna_organ_balancing.loc[rna.obs[\"Organ\"].str.lower()].to_numpy()\n",
    "atac.obs[\"organ_balancing\"] = atac_organ_balancing.loc[atac.obs[\"tissue\"].str.lower()].to_numpy()"
   ]
  },
  {
   "cell_type": "markdown",
   "metadata": {},
   "source": [
    "### Gene selection and Dimreduction"
   ]
  },
  {
   "cell_type": "code",
   "execution_count": null,
   "metadata": {},
   "outputs": [],
   "source": [
    "hvg_df = sc.pp.highly_variable_genes(rna[rna.obs[\"mask\"], :], n_top_genes=4000, flavor=\"seurat_v3\", inplace=False)\n",
    "rna.var = rna.var.assign(**hvg_df.to_dict(orient=\"series\"))"
   ]
  },
  {
   "cell_type": "code",
   "execution_count": null,
   "metadata": {},
   "outputs": [],
   "source": [
    "rna.layers[\"raw_counts\"] = rna.X.copy()\n",
    "sc.pp.normalize_total(rna)\n",
    "sc.pp.log1p(rna)\n",
    "rna = rna[:, rna.var.highly_variable].copy()\n",
    "gc.collect()"
   ]
  },
  {
   "cell_type": "code",
   "execution_count": null,
   "metadata": {},
   "outputs": [],
   "source": [
    "X = rna.X\n",
    "X_masked = X[rna.obs[\"mask\"]]\n",
    "mean = X_masked.mean(axis=0).A1\n",
    "std = np.sqrt(X_masked.power(2).mean(axis=0).A1 - mean ** 2)\n",
    "X = X.toarray()\n",
    "X -= mean\n",
    "X /= std\n",
    "X = X.clip(-10, 10)\n",
    "X_masked = X[rna.obs[\"mask\"]]"
   ]
  },
  {
   "cell_type": "code",
   "execution_count": null,
   "metadata": {},
   "outputs": [],
   "source": [
    "u, s, vh = randomized_svd(X_masked.T @ X_masked, 100, n_iter=15, random_state=0)\n",
    "rna.obsm[\"X_pca\"] = X @ vh.T"
   ]
  },
  {
   "cell_type": "code",
   "execution_count": null,
   "metadata": {},
   "outputs": [],
   "source": [
    "rna.X = rna.layers[\"raw_counts\"]\n",
    "del rna.layers[\"raw_counts\"], X, X_masked, mean, std, u, s, vh\n",
    "gc.collect()"
   ]
  },
  {
   "cell_type": "code",
   "execution_count": null,
   "metadata": {},
   "outputs": [],
   "source": [
    "X = scglue.num.tfidf(atac.X)\n",
    "X = Normalizer(norm=\"l1\").fit_transform(X)\n",
    "X = np.log1p(X * 1e4)\n",
    "X_masked = X[atac.obs[\"mask\"]]\n",
    "u, s, vh = randomized_svd(X_masked, 100, n_iter=15, random_state=0)\n",
    "X_lsi = X @ vh.T / s\n",
    "X_lsi -= X_lsi.mean(axis=1, keepdims=True)\n",
    "X_lsi /= X_lsi.std(axis=1, ddof=1, keepdims=True)\n",
    "\n",
    "del X, X_masked, X_lsi, u, s, vh\n",
    "gc.collect()\n",
    "\n",
    "# np.save('./cache/HF-50K-ATLAS/x_lsi.npy', atac.obsm[\"X_lsi\"])\n",
    "# X_lsi = np.load('./cache/HF-50K-ATLAS/x_lsi.npy')\n",
    "\n",
    "atac.obsm[\"X_lsi\"] = X_lsi.astype(np.float32)"
   ]
  },
  {
   "cell_type": "markdown",
   "metadata": {},
   "source": [
    "### Creat graph\n",
    "\n",
    "generate hvg for atac"
   ]
  },
  {
   "cell_type": "code",
   "execution_count": null,
   "metadata": {},
   "outputs": [],
   "source": [
    "start_time = datetime.datetime.now()"
   ]
  },
  {
   "cell_type": "code",
   "execution_count": null,
   "metadata": {},
   "outputs": [],
   "source": [
    "guidance = scglue.genomics.rna_anchored_guidance_graph(rna, atac)\n",
    "scglue.graph.check_graph(guidance, [rna, atac])"
   ]
  },
  {
   "cell_type": "markdown",
   "metadata": {},
   "source": [
    "# 2. scGLUE Pretrain"
   ]
  },
  {
   "cell_type": "code",
   "execution_count": null,
   "metadata": {},
   "outputs": [],
   "source": [
    "scglue.models.configure_dataset(\n",
    "    rna, \"NB\", use_highly_variable=True,\n",
    "    use_rep=\"X_pca\",       \n",
    "    use_dsc_weight=\"organ_balancing\",\n",
    "#     use_cell_type='cell_type'  # does not help\n",
    ")"
   ]
  },
  {
   "cell_type": "code",
   "execution_count": null,
   "metadata": {},
   "outputs": [],
   "source": [
    "scglue.models.configure_dataset(\n",
    "    atac, \"NB\", use_highly_variable=True,\n",
    "    use_rep=\"X_lsi\",\n",
    "    use_dsc_weight=\"organ_balancing\"\n",
    ")"
   ]
  },
  {
   "cell_type": "code",
   "execution_count": null,
   "metadata": {},
   "outputs": [],
   "source": [
    "guidance_hvf = guidance.subgraph(chain(\n",
    "    rna.var.query(\"highly_variable\").index,\n",
    "    atac.var.query(\"highly_variable\").index\n",
    ")).copy()\n",
    "\n",
    "# nx.write_graphml(guidance, f\"{PATH}/full.graphml.gz\")\n",
    "# nx.write_graphml(guidance_hvf, f\"{PATH}/sub.graphml.gz\")\n",
    "\n",
    "# graph = nx.read_graphml(f\"{PATH}/full.graphml.gz\")\n",
    "# subgraph = nx.read_graphml(f\"{PATH}/sub.graphml.gz\")"
   ]
  },
  {
   "cell_type": "code",
   "execution_count": null,
   "metadata": {},
   "outputs": [],
   "source": [
    "glue = scglue.models.fit_SCGLUE(\n",
    "    {\"rna\": rna, \"atac\": atac}, guidance_hvf,\n",
    "    fit_kws={\"directory\": PATH}\n",
    ")"
   ]
  },
  {
   "cell_type": "code",
   "execution_count": null,
   "metadata": {},
   "outputs": [],
   "source": [
    "end_time = datetime.datetime.now()\n",
    "train_time = (end_time - start_time).total_seconds()\n",
    "print('training time, ', train_time)"
   ]
  },
  {
   "cell_type": "code",
   "execution_count": null,
   "metadata": {},
   "outputs": [],
   "source": [
    "glue.save(f\"{PATH}/glue.dill\")\n",
    "# glue = scglue.models.load_model(\"glue.dill\")"
   ]
  },
  {
   "cell_type": "markdown",
   "metadata": {},
   "source": [
    "# Label transfer"
   ]
  },
  {
   "cell_type": "code",
   "execution_count": null,
   "metadata": {},
   "outputs": [],
   "source": [
    "start_time = datetime.datetime.now()"
   ]
  },
  {
   "cell_type": "code",
   "execution_count": null,
   "metadata": {},
   "outputs": [],
   "source": [
    "rna.obsm[\"X_glue\"] = glue.encode_data(\"rna\", rna)\n",
    "atac.obsm[\"X_glue\"] = glue.encode_data(\"atac\", atac)"
   ]
  },
  {
   "cell_type": "code",
   "execution_count": null,
   "metadata": {},
   "outputs": [],
   "source": [
    "atac.obs['cell_type_bkp'] = atac.obs['cell_type'].values \n",
    "atac.obs = atac.obs.drop(columns=['cell_type'])"
   ]
  },
  {
   "cell_type": "code",
   "execution_count": null,
   "metadata": {},
   "outputs": [],
   "source": [
    "scglue.data.transfer_labels(rna, atac, \"cell_type\", use_rep=\"X_glue\")"
   ]
  },
  {
   "cell_type": "code",
   "execution_count": null,
   "metadata": {},
   "outputs": [],
   "source": [
    "end_time = datetime.datetime.now()\n",
    "test_time = (end_time - start_time).total_seconds()\n",
    "print('test time, ', test_time)"
   ]
  },
  {
   "cell_type": "code",
   "execution_count": null,
   "metadata": {},
   "outputs": [],
   "source": [
    "train_time + test_time"
   ]
  },
  {
   "cell_type": "code",
   "execution_count": null,
   "metadata": {},
   "outputs": [],
   "source": [
    "(atac.obs.cell_type == atac.obs.cell_type_bkp).mean()"
   ]
  }
 ],
 "metadata": {
  "kernelspec": {
   "display_name": "CompressSSC",
   "language": "python",
   "name": "compressssc"
  },
  "language_info": {
   "codemirror_mode": {
    "name": "ipython",
    "version": 3
   },
   "file_extension": ".py",
   "mimetype": "text/x-python",
   "name": "python",
   "nbconvert_exporter": "python",
   "pygments_lexer": "ipython3",
   "version": "3.7.4"
  }
 },
 "nbformat": 4,
 "nbformat_minor": 4
}
