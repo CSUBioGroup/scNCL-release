{
 "cells": [
  {
   "cell_type": "code",
   "execution_count": 1,
   "metadata": {},
   "outputs": [
    {
     "name": "stderr",
     "output_type": "stream",
     "text": [
      "/home/yanxh/anaconda3/envs/scglue/lib/python3.8/site-packages/tqdm/auto.py:22: TqdmWarning: IProgress not found. Please update jupyter and ipywidgets. See https://ipywidgets.readthedocs.io/en/stable/user_install.html\n",
      "  from .autonotebook import tqdm as notebook_tqdm\n"
     ]
    }
   ],
   "source": [
    "import anndata as ad\n",
    "import networkx as nx\n",
    "import scanpy as sc\n",
    "import scglue\n",
    "import os\n",
    "import pandas as pd\n",
    "import numpy as np\n",
    "from os.path import join\n",
    "from matplotlib import rcParams\n",
    "from itertools import chain\n",
    "import seaborn as sns"
   ]
  },
  {
   "cell_type": "code",
   "execution_count": 2,
   "metadata": {},
   "outputs": [],
   "source": [
    "scglue.plot.set_publication_params()\n",
    "rcParams[\"figure.figsize\"] = (4, 4)"
   ]
  },
  {
   "cell_type": "code",
   "execution_count": 3,
   "metadata": {},
   "outputs": [],
   "source": [
    "exp_id = 'PBMC'\n",
    "\n",
    "PATH = f'./cache/{exp_id}'\n",
    "os.makedirs(PATH, exist_ok=True)\n",
    "\n",
    "rna = ad.read_h5ad(\"/home/yanxh/data/pbmc_10x/adata_rna_raw.h5ad\")\n",
    "atac = ad.read_h5ad(\"/home/yanxh/data/pbmc_10x/adata_atac_raw.h5ad\")"
   ]
  },
  {
   "cell_type": "code",
   "execution_count": 4,
   "metadata": {},
   "outputs": [
    {
     "data": {
      "text/plain": [
       "(AnnData object with n_obs × n_vars = 10412 × 36601\n",
       "     obs: 'orig.ident', 'nCount_RNA', 'nFeature_RNA', 'seurat_annotations', 'cell_type',\n",
       " AnnData object with n_obs × n_vars = 10412 × 108377\n",
       "     obs: 'orig.ident', 'nCount_RNA', 'nFeature_RNA', 'seurat_annotations', 'cell_type')"
      ]
     },
     "execution_count": 4,
     "metadata": {},
     "output_type": "execute_result"
    }
   ],
   "source": [
    "rna, atac"
   ]
  },
  {
   "cell_type": "code",
   "execution_count": 5,
   "metadata": {},
   "outputs": [],
   "source": [
    "rna.layers[\"counts\"] = rna.X.copy()"
   ]
  },
  {
   "cell_type": "code",
   "execution_count": 6,
   "metadata": {},
   "outputs": [],
   "source": [
    "sc.pp.highly_variable_genes(rna, n_top_genes=2000, flavor=\"seurat_v3\")"
   ]
  },
  {
   "cell_type": "code",
   "execution_count": 7,
   "metadata": {},
   "outputs": [],
   "source": [
    "sc.pp.normalize_total(rna)\n",
    "sc.pp.log1p(rna)\n",
    "sc.pp.scale(rna)\n",
    "sc.tl.pca(rna, n_comps=100, svd_solver=\"auto\")"
   ]
  },
  {
   "cell_type": "code",
   "execution_count": 8,
   "metadata": {},
   "outputs": [],
   "source": [
    "scglue.data.lsi(atac, n_components=100, n_iter=15)\n",
    "np.save(f'{PATH}/x_lsi.npy', atac.obsm[\"X_lsi\"])\n",
    "\n",
    "# x_lsi = np.load(f'{PATH}/x_lsi.npy')\n",
    "# atac.obsm['X_lsi'] = x_lsi"
   ]
  },
  {
   "cell_type": "code",
   "execution_count": 9,
   "metadata": {},
   "outputs": [
    {
     "data": {
      "text/plain": [
       "(10412, 23517)"
      ]
     },
     "execution_count": 9,
     "metadata": {},
     "output_type": "execute_result"
    }
   ],
   "source": [
    "scglue.data.get_gene_annotation(\n",
    "    rna, gtf=\"/home/yanxh/data/HumanFetal/gencode.v42.chr_patch_hapl_scaff.annotation.gtf\",\n",
    "    gtf_by=\"gene_name\"\n",
    ")\n",
    "# exclude NaN rows\n",
    "rna = rna[:, pd.notna(rna.var[\"chromStart\"])].copy()\n",
    "\n",
    "rna.shape"
   ]
  },
  {
   "cell_type": "code",
   "execution_count": 10,
   "metadata": {},
   "outputs": [
    {
     "data": {
      "text/html": [
       "<div>\n",
       "<style scoped>\n",
       "    .dataframe tbody tr th:only-of-type {\n",
       "        vertical-align: middle;\n",
       "    }\n",
       "\n",
       "    .dataframe tbody tr th {\n",
       "        vertical-align: top;\n",
       "    }\n",
       "\n",
       "    .dataframe thead th {\n",
       "        text-align: right;\n",
       "    }\n",
       "</style>\n",
       "<table border=\"1\" class=\"dataframe\">\n",
       "  <thead>\n",
       "    <tr style=\"text-align: right;\">\n",
       "      <th></th>\n",
       "      <th>chrom</th>\n",
       "      <th>chromStart</th>\n",
       "      <th>chromEnd</th>\n",
       "    </tr>\n",
       "  </thead>\n",
       "  <tbody>\n",
       "    <tr>\n",
       "      <th>chr1-10109-10357</th>\n",
       "      <td>chr1</td>\n",
       "      <td>10109</td>\n",
       "      <td>10357</td>\n",
       "    </tr>\n",
       "    <tr>\n",
       "      <th>chr1-180730-181630</th>\n",
       "      <td>chr1</td>\n",
       "      <td>180730</td>\n",
       "      <td>181630</td>\n",
       "    </tr>\n",
       "    <tr>\n",
       "      <th>chr1-191491-191736</th>\n",
       "      <td>chr1</td>\n",
       "      <td>191491</td>\n",
       "      <td>191736</td>\n",
       "    </tr>\n",
       "    <tr>\n",
       "      <th>chr1-267816-268196</th>\n",
       "      <td>chr1</td>\n",
       "      <td>267816</td>\n",
       "      <td>268196</td>\n",
       "    </tr>\n",
       "    <tr>\n",
       "      <th>chr1-586028-586373</th>\n",
       "      <td>chr1</td>\n",
       "      <td>586028</td>\n",
       "      <td>586373</td>\n",
       "    </tr>\n",
       "  </tbody>\n",
       "</table>\n",
       "</div>"
      ],
      "text/plain": [
       "                   chrom  chromStart  chromEnd\n",
       "chr1-10109-10357    chr1       10109     10357\n",
       "chr1-180730-181630  chr1      180730    181630\n",
       "chr1-191491-191736  chr1      191491    191736\n",
       "chr1-267816-268196  chr1      267816    268196\n",
       "chr1-586028-586373  chr1      586028    586373"
      ]
     },
     "execution_count": 10,
     "metadata": {},
     "output_type": "execute_result"
    }
   ],
   "source": [
    "split = atac.var_names.str.split(r\"[:-]\")\n",
    "atac.var[\"chrom\"] = split.map(lambda x: x[0])\n",
    "atac.var[\"chromStart\"] = split.map(lambda x: x[1]).astype(int)\n",
    "atac.var[\"chromEnd\"] = split.map(lambda x: x[2]).astype(int)\n",
    "atac.var.head()"
   ]
  },
  {
   "cell_type": "code",
   "execution_count": 11,
   "metadata": {},
   "outputs": [
    {
     "name": "stderr",
     "output_type": "stream",
     "text": [
      "window_graph: 100%|████████████████████████████████████████████████████████████████████████████| 23517/23517 [00:01<00:00, 15362.98it/s]\n"
     ]
    },
    {
     "data": {
      "text/plain": [
       "<networkx.classes.multidigraph.MultiDiGraph at 0x7f17951d9e20>"
      ]
     },
     "execution_count": 11,
     "metadata": {},
     "output_type": "execute_result"
    }
   ],
   "source": [
    "guidance = scglue.genomics.rna_anchored_guidance_graph(rna, atac)\n",
    "guidance"
   ]
  },
  {
   "cell_type": "code",
   "execution_count": 12,
   "metadata": {},
   "outputs": [
    {
     "name": "stdout",
     "output_type": "stream",
     "text": [
      "[INFO] check_graph: Checking variable coverage...\n",
      "[INFO] check_graph: Checking edge attributes...\n",
      "[INFO] check_graph: Checking self-loops...\n",
      "[INFO] check_graph: Checking graph symmetry...\n",
      "[INFO] check_graph: All checks passed!\n"
     ]
    }
   ],
   "source": [
    "scglue.graph.check_graph(guidance, [rna, atac])"
   ]
  },
  {
   "cell_type": "code",
   "execution_count": 13,
   "metadata": {},
   "outputs": [],
   "source": [
    "# rna.write(\"./cache/rna-pp.h5ad\", compression=\"gzip\")\n",
    "# atac.write(\"./cache/atac-pp.h5ad\", compression=\"gzip\")\n",
    "# nx.write_graphml(guidance, \"./cache/guidance.graphml.gz\")"
   ]
  },
  {
   "cell_type": "markdown",
   "metadata": {},
   "source": [
    "# training"
   ]
  },
  {
   "cell_type": "code",
   "execution_count": 14,
   "metadata": {},
   "outputs": [],
   "source": [
    "scglue.models.configure_dataset(\n",
    "    rna, \"NB\", use_highly_variable=True,\n",
    "    use_layer=\"counts\", use_rep=\"X_pca\",\n",
    "#     use_cell_type='cell_type'\n",
    ")"
   ]
  },
  {
   "cell_type": "code",
   "execution_count": 15,
   "metadata": {},
   "outputs": [],
   "source": [
    "scglue.models.configure_dataset(\n",
    "    atac, \"NB\", use_highly_variable=True,\n",
    "    use_rep=\"X_lsi\"\n",
    ")"
   ]
  },
  {
   "cell_type": "code",
   "execution_count": 16,
   "metadata": {},
   "outputs": [],
   "source": [
    "guidance_hvf = guidance.subgraph(chain(\n",
    "    rna.var.query(\"highly_variable\").index,\n",
    "    atac.var.query(\"highly_variable\").index\n",
    ")).copy()"
   ]
  },
  {
   "cell_type": "code",
   "execution_count": 17,
   "metadata": {
    "collapsed": true,
    "jupyter": {
     "outputs_hidden": true
    }
   },
   "outputs": [
    {
     "name": "stdout",
     "output_type": "stream",
     "text": [
      "[INFO] fit_SCGLUE: Pretraining SCGLUE model...\n",
      "[INFO] autodevice: Using GPU 0 as computation device.\n",
      "[INFO] check_graph: Checking variable coverage...\n",
      "[INFO] check_graph: Checking edge attributes...\n",
      "[INFO] check_graph: Checking self-loops...\n",
      "[INFO] check_graph: Checking graph symmetry...\n",
      "[INFO] SCGLUEModel: Setting `graph_batch_size` = 12925\n",
      "[INFO] SCGLUEModel: Setting `max_epochs` = 164\n",
      "[INFO] SCGLUEModel: Setting `patience` = 14\n",
      "[INFO] SCGLUEModel: Setting `reduce_lr_patience` = 7\n",
      "[INFO] SCGLUETrainer: Using training directory: \"cache/PBMC/pretrain\"\n",
      "[INFO] SCGLUETrainer: [Epoch 10] train={'g_nll': 0.494, 'g_kl': 0.015, 'g_elbo': 0.509, 'x_rna_nll': 0.341, 'x_rna_kl': 0.01, 'x_rna_elbo': 0.351, 'x_atac_nll': 0.244, 'x_atac_kl': 0.002, 'x_atac_elbo': 0.246, 'dsc_loss': 0.686, 'vae_loss': 0.618, 'gen_loss': 0.583}, val={'g_nll': 0.49, 'g_kl': 0.015, 'g_elbo': 0.505, 'x_rna_nll': 0.35, 'x_rna_kl': 0.009, 'x_rna_elbo': 0.36, 'x_atac_nll': 0.236, 'x_atac_kl': 0.002, 'x_atac_elbo': 0.237, 'dsc_loss': 0.686, 'vae_loss': 0.617, 'gen_loss': 0.583}, 5.5s elapsed\n",
      "[INFO] SCGLUETrainer: [Epoch 20] train={'g_nll': 0.47, 'g_kl': 0.014, 'g_elbo': 0.484, 'x_rna_nll': 0.337, 'x_rna_kl': 0.01, 'x_rna_elbo': 0.347, 'x_atac_nll': 0.24, 'x_atac_kl': 0.002, 'x_atac_elbo': 0.241, 'dsc_loss': 0.688, 'vae_loss': 0.608, 'gen_loss': 0.573}, val={'g_nll': 0.469, 'g_kl': 0.014, 'g_elbo': 0.483, 'x_rna_nll': 0.344, 'x_rna_kl': 0.01, 'x_rna_elbo': 0.354, 'x_atac_nll': 0.23, 'x_atac_kl': 0.002, 'x_atac_elbo': 0.232, 'dsc_loss': 0.688, 'vae_loss': 0.605, 'gen_loss': 0.571}, 5.3s elapsed\n",
      "Epoch 00027: reducing learning rate of group 0 to 2.0000e-04.\n",
      "Epoch 00027: reducing learning rate of group 0 to 2.0000e-04.\n",
      "[INFO] LRScheduler: Learning rate reduction: step 1\n",
      "[INFO] SCGLUETrainer: [Epoch 30] train={'g_nll': 0.462, 'g_kl': 0.014, 'g_elbo': 0.477, 'x_rna_nll': 0.334, 'x_rna_kl': 0.01, 'x_rna_elbo': 0.344, 'x_atac_nll': 0.24, 'x_atac_kl': 0.002, 'x_atac_elbo': 0.242, 'dsc_loss': 0.687, 'vae_loss': 0.605, 'gen_loss': 0.571}, val={'g_nll': 0.463, 'g_kl': 0.014, 'g_elbo': 0.477, 'x_rna_nll': 0.345, 'x_rna_kl': 0.01, 'x_rna_elbo': 0.355, 'x_atac_nll': 0.23, 'x_atac_kl': 0.002, 'x_atac_elbo': 0.232, 'dsc_loss': 0.689, 'vae_loss': 0.606, 'gen_loss': 0.571}, 5.4s elapsed\n",
      "[INFO] SCGLUETrainer: [Epoch 40] train={'g_nll': 0.461, 'g_kl': 0.014, 'g_elbo': 0.475, 'x_rna_nll': 0.334, 'x_rna_kl': 0.01, 'x_rna_elbo': 0.344, 'x_atac_nll': 0.24, 'x_atac_kl': 0.002, 'x_atac_elbo': 0.242, 'dsc_loss': 0.688, 'vae_loss': 0.605, 'gen_loss': 0.571}, val={'g_nll': 0.461, 'g_kl': 0.014, 'g_elbo': 0.475, 'x_rna_nll': 0.347, 'x_rna_kl': 0.01, 'x_rna_elbo': 0.356, 'x_atac_nll': 0.232, 'x_atac_kl': 0.002, 'x_atac_elbo': 0.233, 'dsc_loss': 0.687, 'vae_loss': 0.609, 'gen_loss': 0.574}, 5.4s elapsed\n",
      "Epoch 00040: reducing learning rate of group 0 to 2.0000e-05.\n",
      "Epoch 00040: reducing learning rate of group 0 to 2.0000e-05.\n",
      "[INFO] LRScheduler: Learning rate reduction: step 2\n"
     ]
    },
    {
     "name": "stderr",
     "output_type": "stream",
     "text": [
      "2023-02-09 09:27:57,161 ignite.handlers.early_stopping.EarlyStopping INFO: EarlyStopping: Stop training\n"
     ]
    },
    {
     "name": "stdout",
     "output_type": "stream",
     "text": [
      "[INFO] EarlyStopping: Restoring checkpoint \"41\"...\n",
      "[INFO] EarlyStopping: Restoring checkpoint \"41\"...\n",
      "[INFO] fit_SCGLUE: Estimating balancing weight...\n",
      "[INFO] estimate_balancing_weight: Clustering cells...\n"
     ]
    },
    {
     "name": "stderr",
     "output_type": "stream",
     "text": [
      "OMP: Info #276: omp_set_nested routine deprecated, please use omp_set_max_active_levels instead.\n"
     ]
    },
    {
     "name": "stdout",
     "output_type": "stream",
     "text": [
      "[INFO] estimate_balancing_weight: Matching clusters...\n",
      "[INFO] estimate_balancing_weight: Matching array shape = (20, 27)...\n",
      "[INFO] estimate_balancing_weight: Estimating balancing weight...\n",
      "[INFO] fit_SCGLUE: Fine-tuning SCGLUE model...\n",
      "[INFO] check_graph: Checking variable coverage...\n",
      "[INFO] check_graph: Checking edge attributes...\n",
      "[INFO] check_graph: Checking self-loops...\n",
      "[INFO] check_graph: Checking graph symmetry...\n",
      "[INFO] SCGLUEModel: Setting `graph_batch_size` = 12925\n",
      "[INFO] SCGLUEModel: Setting `align_burnin` = 28\n",
      "[INFO] SCGLUEModel: Setting `max_epochs` = 164\n",
      "[INFO] SCGLUEModel: Setting `patience` = 14\n",
      "[INFO] SCGLUEModel: Setting `reduce_lr_patience` = 7\n",
      "[INFO] SCGLUETrainer: Using training directory: \"cache/PBMC/fine-tune\"\n",
      "[INFO] SCGLUETrainer: [Epoch 10] train={'g_nll': 0.458, 'g_kl': 0.014, 'g_elbo': 0.473, 'x_rna_nll': 0.335, 'x_rna_kl': 0.01, 'x_rna_elbo': 0.345, 'x_atac_nll': 0.24, 'x_atac_kl': 0.002, 'x_atac_elbo': 0.241, 'dsc_loss': 0.689, 'vae_loss': 0.605, 'gen_loss': 0.571}, val={'g_nll': 0.458, 'g_kl': 0.014, 'g_elbo': 0.472, 'x_rna_nll': 0.337, 'x_rna_kl': 0.01, 'x_rna_elbo': 0.347, 'x_atac_nll': 0.239, 'x_atac_kl': 0.002, 'x_atac_elbo': 0.241, 'dsc_loss': 0.685, 'vae_loss': 0.606, 'gen_loss': 0.572}, 6.4s elapsed\n",
      "[INFO] SCGLUETrainer: [Epoch 20] train={'g_nll': 0.456, 'g_kl': 0.014, 'g_elbo': 0.469, 'x_rna_nll': 0.334, 'x_rna_kl': 0.01, 'x_rna_elbo': 0.343, 'x_atac_nll': 0.239, 'x_atac_kl': 0.002, 'x_atac_elbo': 0.241, 'dsc_loss': 0.687, 'vae_loss': 0.603, 'gen_loss': 0.568}, val={'g_nll': 0.458, 'g_kl': 0.014, 'g_elbo': 0.471, 'x_rna_nll': 0.339, 'x_rna_kl': 0.01, 'x_rna_elbo': 0.348, 'x_atac_nll': 0.235, 'x_atac_kl': 0.002, 'x_atac_elbo': 0.237, 'dsc_loss': 0.694, 'vae_loss': 0.604, 'gen_loss': 0.569}, 7.6s elapsed\n",
      "[INFO] SCGLUETrainer: [Epoch 30] train={'g_nll': 0.454, 'g_kl': 0.014, 'g_elbo': 0.468, 'x_rna_nll': 0.335, 'x_rna_kl': 0.01, 'x_rna_elbo': 0.345, 'x_atac_nll': 0.24, 'x_atac_kl': 0.002, 'x_atac_elbo': 0.241, 'dsc_loss': 0.686, 'vae_loss': 0.605, 'gen_loss': 0.57}, val={'g_nll': 0.454, 'g_kl': 0.014, 'g_elbo': 0.467, 'x_rna_nll': 0.338, 'x_rna_kl': 0.01, 'x_rna_elbo': 0.348, 'x_atac_nll': 0.238, 'x_atac_kl': 0.002, 'x_atac_elbo': 0.239, 'dsc_loss': 0.692, 'vae_loss': 0.606, 'gen_loss': 0.571}, 9.1s elapsed\n",
      "Epoch 00039: reducing learning rate of group 0 to 2.0000e-04.\n",
      "Epoch 00039: reducing learning rate of group 0 to 2.0000e-04.\n",
      "[INFO] LRScheduler: Learning rate reduction: step 1\n",
      "[INFO] SCGLUETrainer: [Epoch 40] train={'g_nll': 0.452, 'g_kl': 0.013, 'g_elbo': 0.465, 'x_rna_nll': 0.334, 'x_rna_kl': 0.01, 'x_rna_elbo': 0.344, 'x_atac_nll': 0.239, 'x_atac_kl': 0.002, 'x_atac_elbo': 0.24, 'dsc_loss': 0.69, 'vae_loss': 0.603, 'gen_loss': 0.568}, val={'g_nll': 0.452, 'g_kl': 0.013, 'g_elbo': 0.465, 'x_rna_nll': 0.338, 'x_rna_kl': 0.009, 'x_rna_elbo': 0.348, 'x_atac_nll': 0.241, 'x_atac_kl': 0.002, 'x_atac_elbo': 0.243, 'dsc_loss': 0.702, 'vae_loss': 0.609, 'gen_loss': 0.574}, 10.7s elapsed\n",
      "Epoch 00047: reducing learning rate of group 0 to 2.0000e-05.\n",
      "Epoch 00047: reducing learning rate of group 0 to 2.0000e-05.\n",
      "[INFO] LRScheduler: Learning rate reduction: step 2\n",
      "[INFO] SCGLUETrainer: [Epoch 50] train={'g_nll': 0.451, 'g_kl': 0.013, 'g_elbo': 0.465, 'x_rna_nll': 0.332, 'x_rna_kl': 0.01, 'x_rna_elbo': 0.342, 'x_atac_nll': 0.239, 'x_atac_kl': 0.002, 'x_atac_elbo': 0.241, 'dsc_loss': 0.691, 'vae_loss': 0.601, 'gen_loss': 0.566}, val={'g_nll': 0.452, 'g_kl': 0.013, 'g_elbo': 0.465, 'x_rna_nll': 0.34, 'x_rna_kl': 0.009, 'x_rna_elbo': 0.349, 'x_atac_nll': 0.242, 'x_atac_kl': 0.002, 'x_atac_elbo': 0.243, 'dsc_loss': 0.685, 'vae_loss': 0.611, 'gen_loss': 0.577}, 7.6s elapsed\n",
      "Epoch 00055: reducing learning rate of group 0 to 2.0000e-06.\n",
      "Epoch 00055: reducing learning rate of group 0 to 2.0000e-06.\n",
      "[INFO] LRScheduler: Learning rate reduction: step 3\n",
      "[INFO] SCGLUETrainer: [Epoch 60] train={'g_nll': 0.451, 'g_kl': 0.013, 'g_elbo': 0.465, 'x_rna_nll': 0.333, 'x_rna_kl': 0.01, 'x_rna_elbo': 0.342, 'x_atac_nll': 0.238, 'x_atac_kl': 0.002, 'x_atac_elbo': 0.24, 'dsc_loss': 0.691, 'vae_loss': 0.601, 'gen_loss': 0.566}, val={'g_nll': 0.451, 'g_kl': 0.013, 'g_elbo': 0.464, 'x_rna_nll': 0.34, 'x_rna_kl': 0.009, 'x_rna_elbo': 0.349, 'x_atac_nll': 0.239, 'x_atac_kl': 0.002, 'x_atac_elbo': 0.24, 'dsc_loss': 0.692, 'vae_loss': 0.608, 'gen_loss': 0.573}, 11.4s elapsed\n",
      "Epoch 00063: reducing learning rate of group 0 to 2.0000e-07.\n",
      "Epoch 00063: reducing learning rate of group 0 to 2.0000e-07.\n",
      "[INFO] LRScheduler: Learning rate reduction: step 4\n",
      "[INFO] SCGLUETrainer: [Epoch 70] train={'g_nll': 0.451, 'g_kl': 0.013, 'g_elbo': 0.465, 'x_rna_nll': 0.333, 'x_rna_kl': 0.01, 'x_rna_elbo': 0.342, 'x_atac_nll': 0.238, 'x_atac_kl': 0.002, 'x_atac_elbo': 0.24, 'dsc_loss': 0.69, 'vae_loss': 0.601, 'gen_loss': 0.566}, val={'g_nll': 0.453, 'g_kl': 0.013, 'g_elbo': 0.466, 'x_rna_nll': 0.338, 'x_rna_kl': 0.009, 'x_rna_elbo': 0.347, 'x_atac_nll': 0.238, 'x_atac_kl': 0.002, 'x_atac_elbo': 0.24, 'dsc_loss': 0.693, 'vae_loss': 0.606, 'gen_loss': 0.571}, 7.5s elapsed\n",
      "Epoch 00071: reducing learning rate of group 0 to 2.0000e-08.\n",
      "Epoch 00071: reducing learning rate of group 0 to 2.0000e-08.\n",
      "[INFO] LRScheduler: Learning rate reduction: step 5\n"
     ]
    },
    {
     "name": "stderr",
     "output_type": "stream",
     "text": [
      "2023-02-09 09:41:49,140 ignite.handlers.early_stopping.EarlyStopping INFO: EarlyStopping: Stop training\n"
     ]
    },
    {
     "name": "stdout",
     "output_type": "stream",
     "text": [
      "[INFO] EarlyStopping: Restoring checkpoint \"71\"...\n",
      "[INFO] EarlyStopping: Restoring checkpoint \"71\"...\n"
     ]
    }
   ],
   "source": [
    "glue = scglue.models.fit_SCGLUE(\n",
    "    {\"rna\": rna, \"atac\": atac}, guidance_hvf,\n",
    "    fit_kws={\"directory\": PATH}\n",
    ")"
   ]
  },
  {
   "cell_type": "code",
   "execution_count": 18,
   "metadata": {},
   "outputs": [],
   "source": [
    "glue.save(f\"{PATH}/glue.dill\")\n",
    "# glue = scglue.models.load_model(\"glue.dill\")"
   ]
  },
  {
   "cell_type": "code",
   "execution_count": 19,
   "metadata": {},
   "outputs": [],
   "source": [
    "# dx = scglue.models.integration_consistency(\n",
    "#     glue, {\"rna\": rna, \"atac\": atac}, guidance_hvf\n",
    "# )\n",
    "# dx\n",
    "\n",
    "# _ = sns.lineplot(x=\"n_meta\", y=\"consistency\", data=dx).axhline(y=0.05, c=\"darkred\", ls=\"--\")"
   ]
  },
  {
   "cell_type": "markdown",
   "metadata": {},
   "source": [
    "# Embedding"
   ]
  },
  {
   "cell_type": "code",
   "execution_count": 20,
   "metadata": {},
   "outputs": [],
   "source": [
    "rna.obsm[\"X_glue\"] = glue.encode_data(\"rna\", rna)\n",
    "atac.obsm[\"X_glue\"] = glue.encode_data(\"atac\", atac)"
   ]
  },
  {
   "cell_type": "code",
   "execution_count": 23,
   "metadata": {},
   "outputs": [],
   "source": [
    "atac.obs['cell_type_bkp'] = atac.obs['cell_type'].values \n",
    "atac.obs = atac.obs.drop(columns=['cell_type'])"
   ]
  },
  {
   "cell_type": "code",
   "execution_count": 24,
   "metadata": {},
   "outputs": [],
   "source": [
    "scglue.data.transfer_labels(rna, atac, \"cell_type\", use_rep=\"X_glue\")"
   ]
  },
  {
   "cell_type": "code",
   "execution_count": 25,
   "metadata": {},
   "outputs": [
    {
     "data": {
      "text/plain": [
       "0.8877257011140991"
      ]
     },
     "execution_count": 25,
     "metadata": {},
     "output_type": "execute_result"
    }
   ],
   "source": [
    "(atac.obs.cell_type == atac.obs.cell_type_bkp).mean()"
   ]
  }
 ],
 "metadata": {
  "kernelspec": {
   "display_name": "CompressSSC",
   "language": "python",
   "name": "compressssc"
  },
  "language_info": {
   "codemirror_mode": {
    "name": "ipython",
    "version": 3
   },
   "file_extension": ".py",
   "mimetype": "text/x-python",
   "name": "python",
   "nbconvert_exporter": "python",
   "pygments_lexer": "ipython3",
   "version": "3.7.4"
  }
 },
 "nbformat": 4,
 "nbformat_minor": 4
}
