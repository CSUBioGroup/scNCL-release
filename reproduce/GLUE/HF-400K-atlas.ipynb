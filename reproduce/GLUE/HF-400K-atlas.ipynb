{
 "cells": [
  {
   "cell_type": "code",
   "execution_count": 1,
   "metadata": {},
   "outputs": [
    {
     "name": "stderr",
     "output_type": "stream",
     "text": [
      "/home/yanxh/anaconda3/envs/scglue/lib/python3.8/site-packages/tqdm/auto.py:22: TqdmWarning: IProgress not found. Please update jupyter and ipywidgets. See https://ipywidgets.readthedocs.io/en/stable/user_install.html\n",
      "  from .autonotebook import tqdm as notebook_tqdm\n"
     ]
    }
   ],
   "source": [
    "import functools\n",
    "import gc\n",
    "import itertools\n",
    "import os\n",
    "from itertools import chain\n",
    "import datetime\n",
    "\n",
    "import anndata as ad\n",
    "import faiss\n",
    "import matplotlib.pyplot as plt\n",
    "import networkx as nx\n",
    "import numpy as np\n",
    "import pandas as pd\n",
    "import scanpy as sc\n",
    "import seaborn as sns\n",
    "from os.path import join\n",
    "from matplotlib import rcParams\n",
    "from sklearn.preprocessing import Normalizer\n",
    "from sklearn.utils.extmath import randomized_svd\n",
    "\n",
    "import scglue"
   ]
  },
  {
   "cell_type": "code",
   "execution_count": 2,
   "metadata": {},
   "outputs": [],
   "source": [
    "os.environ['CUDA_VISIBLE_DEVICE'] = '1'"
   ]
  },
  {
   "cell_type": "code",
   "execution_count": 3,
   "metadata": {},
   "outputs": [],
   "source": [
    "PATH = \"./cache/HF-400K-ATLAS\"\n",
    "os.makedirs(PATH, exist_ok=True)"
   ]
  },
  {
   "cell_type": "code",
   "execution_count": 4,
   "metadata": {},
   "outputs": [],
   "source": [
    "atac_all = ad.read_h5ad(\"/home/yanxh/data/HumanFetal/ATAC/adata_atac_raw.h5ad\")\n",
    "rna_all = ad.read_h5ad(\"/home/yanxh/data/HumanFetal/RNA/adata_rna_raw.h5ad\")"
   ]
  },
  {
   "cell_type": "code",
   "execution_count": 5,
   "metadata": {},
   "outputs": [],
   "source": [
    "data_root = '/home/yanxh/data/HumanFetal_400k'\n",
    "\n",
    "atac0 = sc.read_h5ad(join(data_root, 'ATAC/adata_atac.h5ad'))\n",
    "rna0 = sc.read_h5ad(join(data_root, 'RNA/adata_rna_sampled.h5ad'))"
   ]
  },
  {
   "cell_type": "code",
   "execution_count": 6,
   "metadata": {},
   "outputs": [
    {
     "data": {
      "text/plain": [
       "AnnData object with n_obs × n_vars = 433695 × 63561\n",
       "    obs: 'All_reads', 'Assay', 'Batch', 'Development_day', 'Exon_reads', 'Experiment_batch', 'Fetus_id', 'Intron_reads', 'Main_cluster_name', 'Main_cluster_umap_1', 'Main_cluster_umap_2', 'Organ', 'Organ_cell_lineage', 'RT_group', 'Sex', 'Size_Factor', 'batch', 'obs_names', 'sample'\n",
       "    var: 'exon_intron', 'gene_id', 'gene_short_name', 'gene_type', 'index', 'var_names'"
      ]
     },
     "execution_count": 6,
     "metadata": {},
     "output_type": "execute_result"
    }
   ],
   "source": [
    "rna_all"
   ]
  },
  {
   "cell_type": "code",
   "execution_count": 7,
   "metadata": {},
   "outputs": [
    {
     "data": {
      "text/plain": [
       "563"
      ]
     },
     "execution_count": 7,
     "metadata": {},
     "output_type": "execute_result"
    }
   ],
   "source": [
    "\n",
    "atac = atac_all[atac0.obs_names].copy()\n",
    "atac.obs['cell_type'] = atac0.obs.cell_type.values\n",
    "atac.obs['domain'] = 'atac'\n",
    "atac.obs['tissue'] = ['cerebrum' if _.lower()=='brain' else _ for _ in atac0.obs.tissue.values]  # rename 'brain' as 'cerebrum'\n",
    "atac.obs['tissue']\n",
    "\n",
    "rna = rna_all[rna0.obs_names].copy()\n",
    "rna.obs['cell_type'] = rna0.obs.Main_cluster_name.values\n",
    "rna.obs['domain'] = 'rna'\n",
    "# rna.obs = rna.obs[['domain', 'cell_type', 'Organ']].copy()\n",
    "\n",
    "rna.var_names = rna.var.gene_short_name.values.astype('str')\n",
    "rna = rna[:, ~rna.var_names.duplicated()]\n",
    "\n",
    "del atac0, rna0\n",
    "gc.collect()"
   ]
  },
  {
   "cell_type": "markdown",
   "metadata": {},
   "source": [
    "### process feature names"
   ]
  },
  {
   "cell_type": "code",
   "execution_count": 8,
   "metadata": {},
   "outputs": [
    {
     "data": {
      "text/html": [
       "<div>\n",
       "<style scoped>\n",
       "    .dataframe tbody tr th:only-of-type {\n",
       "        vertical-align: middle;\n",
       "    }\n",
       "\n",
       "    .dataframe tbody tr th {\n",
       "        vertical-align: top;\n",
       "    }\n",
       "\n",
       "    .dataframe thead th {\n",
       "        text-align: right;\n",
       "    }\n",
       "</style>\n",
       "<table border=\"1\" class=\"dataframe\">\n",
       "  <thead>\n",
       "    <tr style=\"text-align: right;\">\n",
       "      <th></th>\n",
       "      <th>chrom</th>\n",
       "      <th>chromStart</th>\n",
       "      <th>chromEnd</th>\n",
       "    </tr>\n",
       "  </thead>\n",
       "  <tbody>\n",
       "    <tr>\n",
       "      <th>chr1-9992-10688</th>\n",
       "      <td>chr1</td>\n",
       "      <td>9992</td>\n",
       "      <td>10688</td>\n",
       "    </tr>\n",
       "    <tr>\n",
       "      <th>chr1-14831-15063</th>\n",
       "      <td>chr1</td>\n",
       "      <td>14831</td>\n",
       "      <td>15063</td>\n",
       "    </tr>\n",
       "    <tr>\n",
       "      <th>chr1-17351-17617</th>\n",
       "      <td>chr1</td>\n",
       "      <td>17351</td>\n",
       "      <td>17617</td>\n",
       "    </tr>\n",
       "    <tr>\n",
       "      <th>chr1-29200-29505</th>\n",
       "      <td>chr1</td>\n",
       "      <td>29200</td>\n",
       "      <td>29505</td>\n",
       "    </tr>\n",
       "    <tr>\n",
       "      <th>chr1-115525-115871</th>\n",
       "      <td>chr1</td>\n",
       "      <td>115525</td>\n",
       "      <td>115871</td>\n",
       "    </tr>\n",
       "  </tbody>\n",
       "</table>\n",
       "</div>"
      ],
      "text/plain": [
       "                   chrom  chromStart  chromEnd\n",
       "chr1-9992-10688     chr1        9992     10688\n",
       "chr1-14831-15063    chr1       14831     15063\n",
       "chr1-17351-17617    chr1       17351     17617\n",
       "chr1-29200-29505    chr1       29200     29505\n",
       "chr1-115525-115871  chr1      115525    115871"
      ]
     },
     "execution_count": 8,
     "metadata": {},
     "output_type": "execute_result"
    }
   ],
   "source": [
    "scglue.data.get_gene_annotation(\n",
    "    rna, gtf=\"/home/yanxh/data/HumanFetal/gencode.v42.chr_patch_hapl_scaff.annotation.gtf\",\n",
    "    gtf_by=\"gene_name\"\n",
    ")\n",
    "# exclude NaN rows\n",
    "rna = rna[:, pd.notna(rna.var[\"chromStart\"])].copy()\n",
    "\n",
    "# rna.var.loc[:, [\"chrom\", \"chromStart\", \"chromEnd\"]].head()\n",
    "\n",
    "split = atac.var_names.str.split(r\"[:-]\")\n",
    "atac.var[\"chrom\"] = split.map(lambda x: x[0])\n",
    "atac.var[\"chromStart\"] = split.map(lambda x: x[1]).astype(int)\n",
    "atac.var[\"chromEnd\"] = split.map(lambda x: x[2]).astype(int)\n",
    "atac.var.head()"
   ]
  },
  {
   "cell_type": "markdown",
   "metadata": {},
   "source": [
    "### Organ balancing"
   ]
  },
  {
   "cell_type": "code",
   "execution_count": 9,
   "metadata": {},
   "outputs": [],
   "source": [
    "rna_organ_fracs = rna.obs[\"Organ\"].str.lower().value_counts() / rna.shape[0]\n",
    "atac_organ_fracs = atac.obs[\"tissue\"].str.lower().value_counts() / atac.shape[0]\n",
    "cmp_organ_fracs = pd.DataFrame({\"rna\": rna_organ_fracs, \"atac\": atac_organ_fracs})\n",
    "\n",
    "organ_min_fracs = cmp_organ_fracs.min(axis=1)"
   ]
  },
  {
   "cell_type": "code",
   "execution_count": 10,
   "metadata": {},
   "outputs": [
    {
     "name": "stderr",
     "output_type": "stream",
     "text": [
      "/tmp/ipykernel_23672/2802136265.py:3: FutureWarning: iteritems is deprecated and will be removed in a future version. Use .items instead.\n",
      "  for organ, min_frac in organ_min_fracs.iteritems():\n"
     ]
    },
    {
     "name": "stdout",
     "output_type": "stream",
     "text": [
      "Dealing with adrenal...\n",
      "Dealing with cerebellum...\n",
      "Dealing with cerebrum...\n",
      "Dealing with eye...\n",
      "Dealing with heart...\n",
      "Dealing with intestine...\n",
      "Dealing with kidney...\n",
      "Dealing with liver...\n",
      "Dealing with lung...\n",
      "Dealing with muscle...\n",
      "Dealing with pancreas...\n",
      "Dealing with placenta...\n",
      "Dealing with spleen...\n",
      "Dealing with stomach...\n",
      "Dealing with thymus...\n"
     ]
    }
   ],
   "source": [
    "rs = np.random.RandomState(0)\n",
    "rna_subidx, atac_subidx = [], []\n",
    "for organ, min_frac in organ_min_fracs.iteritems():\n",
    "    print(f\"Dealing with {organ}...\")\n",
    "    rna_idx = np.where(rna.obs[\"Organ\"].str.lower() == organ)[0]\n",
    "    rna_subidx.append(rs.choice(rna_idx, max(1, round(min_frac * rna.shape[0])), replace=False))\n",
    "    atac_idx = np.where(atac.obs[\"tissue\"].str.lower() == organ)[0]\n",
    "    atac_subidx.append(rs.choice(atac_idx, max(1, round(min_frac * atac.shape[0])), replace=False))\n",
    "rna_subidx = np.concatenate(rna_subidx)\n",
    "rna_mask = np.zeros(rna.shape[0], dtype=bool)\n",
    "rna_mask[rna_subidx] = True\n",
    "rna.obs[\"mask\"] = rna_mask\n",
    "atac_subidx = np.concatenate(atac_subidx)\n",
    "atac_mask = np.zeros(atac.shape[0], dtype=bool)\n",
    "atac_mask[atac_subidx] = True\n",
    "atac.obs[\"mask\"] = atac_mask"
   ]
  },
  {
   "cell_type": "code",
   "execution_count": 11,
   "metadata": {},
   "outputs": [],
   "source": [
    "rna_organ_balancing = np.sqrt(cmp_organ_fracs[\"atac\"] / cmp_organ_fracs[\"rna\"])\n",
    "atac_organ_balancing = np.sqrt(cmp_organ_fracs[\"rna\"] / cmp_organ_fracs[\"atac\"])"
   ]
  },
  {
   "cell_type": "code",
   "execution_count": 12,
   "metadata": {},
   "outputs": [],
   "source": [
    "rna.obs[\"organ_balancing\"] = rna_organ_balancing.loc[rna.obs[\"Organ\"].str.lower()].to_numpy()\n",
    "atac.obs[\"organ_balancing\"] = atac_organ_balancing.loc[atac.obs[\"tissue\"].str.lower()].to_numpy()"
   ]
  },
  {
   "cell_type": "markdown",
   "metadata": {},
   "source": [
    "### Gene selection and Dimreduction"
   ]
  },
  {
   "cell_type": "code",
   "execution_count": 13,
   "metadata": {},
   "outputs": [],
   "source": [
    "hvg_df = sc.pp.highly_variable_genes(rna[rna.obs[\"mask\"], :], n_top_genes=4000, flavor=\"seurat_v3\", inplace=False)\n",
    "rna.var = rna.var.assign(**hvg_df.to_dict(orient=\"series\"))"
   ]
  },
  {
   "cell_type": "code",
   "execution_count": 14,
   "metadata": {},
   "outputs": [
    {
     "data": {
      "text/plain": [
       "1272"
      ]
     },
     "execution_count": 14,
     "metadata": {},
     "output_type": "execute_result"
    }
   ],
   "source": [
    "rna.layers[\"raw_counts\"] = rna.X.copy()\n",
    "sc.pp.normalize_total(rna)\n",
    "sc.pp.log1p(rna)\n",
    "rna = rna[:, rna.var.highly_variable].copy()\n",
    "gc.collect()"
   ]
  },
  {
   "cell_type": "code",
   "execution_count": 15,
   "metadata": {},
   "outputs": [],
   "source": [
    "X = rna.X\n",
    "X_masked = X[rna.obs[\"mask\"]]\n",
    "mean = X_masked.mean(axis=0).A1\n",
    "std = np.sqrt(X_masked.power(2).mean(axis=0).A1 - mean ** 2)\n",
    "X = X.toarray()\n",
    "X -= mean\n",
    "X /= std\n",
    "X = X.clip(-10, 10)\n",
    "X_masked = X[rna.obs[\"mask\"]]"
   ]
  },
  {
   "cell_type": "code",
   "execution_count": 16,
   "metadata": {},
   "outputs": [],
   "source": [
    "u, s, vh = randomized_svd(X_masked.T @ X_masked, 100, n_iter=15, random_state=0)\n",
    "rna.obsm[\"X_pca\"] = X @ vh.T"
   ]
  },
  {
   "cell_type": "code",
   "execution_count": 17,
   "metadata": {},
   "outputs": [
    {
     "data": {
      "text/plain": [
       "0"
      ]
     },
     "execution_count": 17,
     "metadata": {},
     "output_type": "execute_result"
    }
   ],
   "source": [
    "rna.X = rna.layers[\"raw_counts\"]\n",
    "del rna.layers[\"raw_counts\"], X, X_masked, mean, std, u, s, vh\n",
    "gc.collect()"
   ]
  },
  {
   "cell_type": "code",
   "execution_count": 18,
   "metadata": {},
   "outputs": [],
   "source": [
    "X = scglue.num.tfidf(atac.X)\n",
    "X = Normalizer(norm=\"l1\").fit_transform(X)\n",
    "X = np.log1p(X * 1e4)\n",
    "X_masked = X[atac.obs[\"mask\"]]\n",
    "u, s, vh = randomized_svd(X_masked, 100, n_iter=15, random_state=0)\n",
    "X_lsi = X @ vh.T / s\n",
    "X_lsi -= X_lsi.mean(axis=1, keepdims=True)\n",
    "X_lsi /= X_lsi.std(axis=1, ddof=1, keepdims=True)\n",
    "atac.obsm[\"X_lsi\"] = X_lsi.astype(np.float32)\n",
    "\n",
    "del X, X_masked, X_lsi, u, s, vh\n",
    "gc.collect()\n",
    "\n",
    "# np.save(f'{PATH}/x_lsi.npy', atac.obsm[\"X_lsi\"])\n",
    "# X_lsi = np.load(f'{PATH}/x_lsi.npy')\n",
    "# atac.obsm[\"X_lsi\"] = X_lsi.astype(np.float32)"
   ]
  },
  {
   "cell_type": "markdown",
   "metadata": {},
   "source": [
    "### Creat graph\n",
    "\n",
    "generate hvg for atac"
   ]
  },
  {
   "cell_type": "code",
   "execution_count": 19,
   "metadata": {},
   "outputs": [],
   "source": [
    "start_time = datetime.datetime.now()"
   ]
  },
  {
   "cell_type": "code",
   "execution_count": 20,
   "metadata": {},
   "outputs": [
    {
     "name": "stderr",
     "output_type": "stream",
     "text": [
      "window_graph: 100%|█████████████████████████████████████████████████████████████████████████████████████████████████████████████████████████████████████████████████████████| 4000/4000 [00:08<00:00, 459.03it/s]\n"
     ]
    },
    {
     "name": "stdout",
     "output_type": "stream",
     "text": [
      "[INFO] check_graph: Checking variable coverage...\n",
      "[INFO] check_graph: Checking edge attributes...\n",
      "[INFO] check_graph: Checking self-loops...\n",
      "[INFO] check_graph: Checking graph symmetry...\n",
      "[INFO] check_graph: All checks passed!\n"
     ]
    }
   ],
   "source": [
    "guidance = scglue.genomics.rna_anchored_guidance_graph(rna, atac)\n",
    "scglue.graph.check_graph(guidance, [rna, atac])"
   ]
  },
  {
   "cell_type": "markdown",
   "metadata": {},
   "source": [
    "# 2. scGLUE Pretrain"
   ]
  },
  {
   "cell_type": "code",
   "execution_count": 21,
   "metadata": {},
   "outputs": [],
   "source": [
    "scglue.models.configure_dataset(\n",
    "    rna, \"NB\", use_highly_variable=True,\n",
    "    use_rep=\"X_pca\",        # 和tutorial不同的是这里layer是默认的，前面用raw_count替换了X\n",
    "    use_dsc_weight=\"organ_balancing\"\n",
    ")"
   ]
  },
  {
   "cell_type": "code",
   "execution_count": 22,
   "metadata": {},
   "outputs": [],
   "source": [
    "scglue.models.configure_dataset(\n",
    "    atac, \"NB\", use_highly_variable=True,\n",
    "    use_rep=\"X_lsi\",\n",
    "    use_dsc_weight=\"organ_balancing\"\n",
    ")"
   ]
  },
  {
   "cell_type": "code",
   "execution_count": 23,
   "metadata": {},
   "outputs": [],
   "source": [
    "guidance_hvf = guidance.subgraph(chain(\n",
    "    rna.var.query(\"highly_variable\").index,\n",
    "    atac.var.query(\"highly_variable\").index\n",
    ")).copy()\n",
    "\n",
    "# nx.write_graphml(guidance, f\"{PATH}/full.graphml.gz\")\n",
    "# nx.write_graphml(guidance_hvf, f\"{PATH}/sub.graphml.gz\")\n",
    "\n",
    "# graph = nx.read_graphml(f\"{PATH}/full.graphml.gz\")\n",
    "# subgraph = nx.read_graphml(f\"{PATH}/sub.graphml.gz\")"
   ]
  },
  {
   "cell_type": "code",
   "execution_count": null,
   "metadata": {},
   "outputs": [
    {
     "name": "stdout",
     "output_type": "stream",
     "text": [
      "[INFO] fit_SCGLUE: Pretraining SCGLUE model...\n",
      "[INFO] autodevice: Using GPU 1 as computation device.\n",
      "[INFO] check_graph: Checking variable coverage...\n",
      "[INFO] check_graph: Checking edge attributes...\n",
      "[INFO] check_graph: Checking self-loops...\n",
      "[INFO] check_graph: Checking graph symmetry...\n",
      "[INFO] SCGLUEModel: Setting `graph_batch_size` = 185042\n",
      "[INFO] SCGLUEModel: Setting `max_epochs` = 48\n",
      "[INFO] SCGLUEModel: Setting `patience` = 4\n",
      "[INFO] SCGLUEModel: Setting `reduce_lr_patience` = 2\n",
      "[INFO] SCGLUETrainer: Using training directory: \"cache/HF-400K-ATLAS/pretrain\"\n",
      "Epoch 00009: reducing learning rate of group 0 to 2.0000e-04.\n",
      "Epoch 00009: reducing learning rate of group 0 to 2.0000e-04.\n",
      "[INFO] LRScheduler: Learning rate reduction: step 1\n",
      "[INFO] SCGLUETrainer: [Epoch 10] train={'g_nll': 0.389, 'g_kl': 0.001, 'g_elbo': 0.39, 'x_rna_nll': 0.094, 'x_rna_kl': 0.005, 'x_rna_elbo': 0.099, 'x_atac_nll': 0.019, 'x_atac_kl': 0.0, 'x_atac_elbo': 0.019, 'dsc_loss': 0.693, 'vae_loss': 0.134, 'gen_loss': 0.099}, val={'g_nll': 0.389, 'g_kl': 0.001, 'g_elbo': 0.39, 'x_rna_nll': 0.093, 'x_rna_kl': 0.005, 'x_rna_elbo': 0.098, 'x_atac_nll': 0.019, 'x_atac_kl': 0.0, 'x_atac_elbo': 0.019, 'dsc_loss': 0.691, 'vae_loss': 0.132, 'gen_loss': 0.098}, 606.4s elapsed\n"
     ]
    }
   ],
   "source": [
    "glue = scglue.models.fit_SCGLUE(\n",
    "    {\"rna\": rna, \"atac\": atac}, guidance_hvf,\n",
    "    fit_kws={\"directory\": PATH}\n",
    ")"
   ]
  },
  {
   "cell_type": "code",
   "execution_count": null,
   "metadata": {},
   "outputs": [],
   "source": [
    "end_time = datetime.datetime.now()\n",
    "train_time = (end_time - start_time).total_seconds()\n",
    "print('train time, ', train_time)"
   ]
  },
  {
   "cell_type": "code",
   "execution_count": 32,
   "metadata": {},
   "outputs": [
    {
     "data": {
      "text/plain": [
       "26881.664582"
      ]
     },
     "execution_count": 32,
     "metadata": {},
     "output_type": "execute_result"
    }
   ],
   "source": [
    "train_time"
   ]
  },
  {
   "cell_type": "code",
   "execution_count": 23,
   "metadata": {},
   "outputs": [],
   "source": [
    "glue.save(f\"{PATH}/glue.dill\")\n",
    "# glue = scglue.models.load_model(\"glue.dill\")"
   ]
  },
  {
   "cell_type": "markdown",
   "metadata": {},
   "source": [
    "# Label transfer"
   ]
  },
  {
   "cell_type": "code",
   "execution_count": 33,
   "metadata": {},
   "outputs": [],
   "source": [
    "start_time = datetime.datetime.now()"
   ]
  },
  {
   "cell_type": "code",
   "execution_count": 34,
   "metadata": {},
   "outputs": [],
   "source": [
    "rna.obsm[\"X_glue\"] = glue.encode_data(\"rna\", rna)\n",
    "atac.obsm[\"X_glue\"] = glue.encode_data(\"atac\", atac)"
   ]
  },
  {
   "cell_type": "code",
   "execution_count": 35,
   "metadata": {},
   "outputs": [],
   "source": [
    "atac.obs['cell_type_bkp'] = atac.obs['cell_type'].values \n",
    "atac.obs = atac.obs.drop(columns=['cell_type'])"
   ]
  },
  {
   "cell_type": "code",
   "execution_count": 36,
   "metadata": {},
   "outputs": [],
   "source": [
    "scglue.data.transfer_labels(rna, atac, \"cell_type\", use_rep=\"X_glue\")"
   ]
  },
  {
   "cell_type": "code",
   "execution_count": 37,
   "metadata": {},
   "outputs": [
    {
     "name": "stdout",
     "output_type": "stream",
     "text": [
      "test time,  90.374238\n"
     ]
    }
   ],
   "source": [
    "end_time = datetime.datetime.now()\n",
    "test_time = (end_time - start_time).total_seconds()\n",
    "print('test time, ', test_time)"
   ]
  },
  {
   "cell_type": "code",
   "execution_count": 38,
   "metadata": {},
   "outputs": [
    {
     "data": {
      "text/plain": [
       "26972.03882"
      ]
     },
     "execution_count": 38,
     "metadata": {},
     "output_type": "execute_result"
    }
   ],
   "source": [
    "train_time + test_time"
   ]
  },
  {
   "cell_type": "code",
   "execution_count": 27,
   "metadata": {},
   "outputs": [
    {
     "data": {
      "text/plain": [
       "0.5795458333333333"
      ]
     },
     "execution_count": 27,
     "metadata": {},
     "output_type": "execute_result"
    }
   ],
   "source": [
    "(atac.obs.cell_type == atac.obs.cell_type_bkp).mean()"
   ]
  },
  {
   "cell_type": "code",
   "execution_count": null,
   "metadata": {},
   "outputs": [],
   "source": []
  }
 ],
 "metadata": {
  "kernelspec": {
   "display_name": "CompressSSC",
   "language": "python",
   "name": "compressssc"
  },
  "language_info": {
   "codemirror_mode": {
    "name": "ipython",
    "version": 3
   },
   "file_extension": ".py",
   "mimetype": "text/x-python",
   "name": "python",
   "nbconvert_exporter": "python",
   "pygments_lexer": "ipython3",
   "version": "3.7.4"
  }
 },
 "nbformat": 4,
 "nbformat_minor": 4
}
