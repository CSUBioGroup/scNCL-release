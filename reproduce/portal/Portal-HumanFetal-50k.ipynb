{
 "cells": [
  {
   "cell_type": "code",
   "execution_count": null,
   "metadata": {},
   "outputs": [],
   "source": [
    "import os\n",
    "import h5py\n",
    "import numpy as np\n",
    "import pandas as pd\n",
    "import scanpy as sc\n",
    "import anndata\n",
    "import csv\n",
    "import gzip\n",
    "\n",
    "import scipy.io\n",
    "\n",
    "import scipy.sparse as sps\n",
    "\n",
    "from os.path import join\n",
    "from sklearn.decomposition import PCA, IncrementalPCA\n",
    "\n",
    "os.environ[\"CUDA_VISIBLE_DEVICES\"] = \"1\"\n",
    "\n",
    "np.random.seed(1234)\n",
    "\n",
    "sc.settings.verbosity = 3\n",
    "sc.logging.print_header()"
   ]
  },
  {
   "cell_type": "code",
   "execution_count": null,
   "metadata": {},
   "outputs": [],
   "source": [
    "adata_rna  = sc.read_h5ad('/home/yanxh/data/HumanFetal_50k/RNA/adata_rna_sampled.h5ad')\n",
    "adata_atac = sc.read_h5ad('/home/yanxh/data/HumanFetal_50k/ATAC/adata_atac.h5ad')"
   ]
  },
  {
   "cell_type": "markdown",
   "metadata": {},
   "source": [
    "# Integration using Portal"
   ]
  },
  {
   "cell_type": "code",
   "execution_count": null,
   "metadata": {},
   "outputs": [],
   "source": [
    "import portal\n",
    "\n",
    "# Specify the GPU device\n",
    "os.environ[\"CUDA_VISIBLE_DEVICES\"] = \"0\"\n",
    "\n",
    "# Create a folder for saving results\n",
    "result_path = \"./result\"\n",
    "if not os.path.exists(result_path):\n",
    "    os.makedirs(result_path)"
   ]
  },
  {
   "cell_type": "code",
   "execution_count": null,
   "metadata": {},
   "outputs": [],
   "source": [
    "adata_rna.obs['domain'] = 'RNA'\n",
    "adata_atac.obs['domain']= 'ATAC'\n",
    "\n",
    "adata_rna.obs['cell_type'] = adata_rna.obs['Main_cluster_name'].values"
   ]
  },
  {
   "cell_type": "code",
   "execution_count": null,
   "metadata": {},
   "outputs": [],
   "source": [
    "meta_rna  = adata_rna.obs.copy()\n",
    "meta_atac = adata_atac.obs.copy() \n",
    "\n",
    "meta = pd.concat([meta_rna, meta_atac])\n",
    "meta.shape"
   ]
  },
  {
   "cell_type": "code",
   "execution_count": null,
   "metadata": {
    "collapsed": true,
    "jupyter": {
     "outputs_hidden": true
    }
   },
   "outputs": [],
   "source": [
    "## standard portal pipeline\n",
    "\n",
    "model = portal.model.Model(training_steps=2000, \n",
    "                           lambdacos=10., lambdaAE=10., lambdaLA=10., lambdaGAN=1.0)\n",
    "model.preprocess(adata_rna, adata_atac, hvg_num=4000, norm_pca=False) # perform preprocess and PCA\n",
    "print('preprocessed feature dim: ', len(model.hvg_total))\n",
    "\n",
    "model.train() # train the model\n",
    "model.eval() # get integrated latent representation of cells\n",
    "\n",
    "# portal.utils.plot_UMAP(model.latent, meta, colors=[\"domain\", \"cell_type\"], save=False, result_path=result_path)"
   ]
  },
  {
   "cell_type": "code",
   "execution_count": null,
   "metadata": {},
   "outputs": [],
   "source": []
  }
 ],
 "metadata": {
  "kernelspec": {
   "display_name": "torch171",
   "language": "python",
   "name": "torch171"
  },
  "language_info": {
   "codemirror_mode": {
    "name": "ipython",
    "version": 3
   },
   "file_extension": ".py",
   "mimetype": "text/x-python",
   "name": "python",
   "nbconvert_exporter": "python",
   "pygments_lexer": "ipython3",
   "version": "3.6.5"
  }
 },
 "nbformat": 4,
 "nbformat_minor": 4
}
