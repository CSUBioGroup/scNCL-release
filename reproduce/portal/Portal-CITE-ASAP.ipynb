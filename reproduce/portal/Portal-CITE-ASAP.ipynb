{
 "cells": [
  {
   "cell_type": "code",
   "execution_count": 1,
   "metadata": {},
   "outputs": [
    {
     "name": "stderr",
     "output_type": "stream",
     "text": [
      "/home/yanxh/anaconda3/envs/torch112/lib/python3.8/site-packages/tqdm/auto.py:22: TqdmWarning: IProgress not found. Please update jupyter and ipywidgets. See https://ipywidgets.readthedocs.io/en/stable/user_install.html\n",
      "  from .autonotebook import tqdm as notebook_tqdm\n"
     ]
    },
    {
     "name": "stdout",
     "output_type": "stream",
     "text": [
      "scanpy==1.9.1 anndata==0.8.0 umap==0.5.3 numpy==1.23.3 scipy==1.9.3 pandas==1.5.1 scikit-learn==1.1.2 statsmodels==0.13.2 python-igraph==0.10.2 louvain==0.8.0 pynndescent==0.5.7\n"
     ]
    }
   ],
   "source": [
    "import os\n",
    "import h5py\n",
    "import numpy as np\n",
    "import pandas as pd\n",
    "import scanpy as sc\n",
    "import anndata\n",
    "import csv\n",
    "import gzip\n",
    "import scipy.io\n",
    "\n",
    "import scipy.sparse as sps\n",
    "\n",
    "from os.path import join\n",
    "from sklearn.decomposition import PCA, IncrementalPCA\n",
    "from sklearn.preprocessing import normalize\n",
    "\n",
    "os.environ[\"CUDA_VISIBLE_DEVICES\"] = \"0\"\n",
    "\n",
    "np.random.seed(1234)\n",
    "\n",
    "sc.settings.verbosity = 3\n",
    "sc.logging.print_header()"
   ]
  },
  {
   "cell_type": "code",
   "execution_count": 2,
   "metadata": {},
   "outputs": [],
   "source": [
    "data_root = '/home/yanxh/data'"
   ]
  },
  {
   "cell_type": "code",
   "execution_count": 3,
   "metadata": {},
   "outputs": [
    {
     "name": "stdout",
     "output_type": "stream",
     "text": [
      "normalizing counts per cell\n",
      "    finished (0:00:00)\n",
      "normalizing counts per cell\n",
      "    finished (0:00:00)\n"
     ]
    },
    {
     "data": {
      "text/plain": [
       "(AnnData object with n_obs × n_vars = 4644 × 17441\n",
       "     obs: 'cell_type', 'data_type'\n",
       "     uns: 'log1p',\n",
       " AnnData object with n_obs × n_vars = 4502 × 17441\n",
       "     obs: 'cell_type', 'data_type'\n",
       "     uns: 'log1p')"
      ]
     },
     "execution_count": 3,
     "metadata": {},
     "output_type": "execute_result"
    }
   ],
   "source": [
    "adata_rna = sc.read_h5ad(join(data_root, 'CITE-ASAP/adata_rna_cache.h5ad'))\n",
    "adata_atac = sc.read_h5ad(join(data_root, 'CITE-ASAP/adata_atac_cache.h5ad'))\n",
    "sc.pp.normalize_total(adata_rna, target_sum=1e4)\n",
    "sc.pp.log1p(adata_rna)\n",
    "\n",
    "sc.pp.normalize_total(adata_atac, target_sum=1e4)\n",
    "sc.pp.log1p(adata_atac)\n",
    "\n",
    "adata_rna, adata_atac"
   ]
  },
  {
   "cell_type": "code",
   "execution_count": 4,
   "metadata": {},
   "outputs": [
    {
     "data": {
      "text/plain": [
       "((4644, 227), (4502, 227))"
      ]
     },
     "execution_count": 4,
     "metadata": {},
     "output_type": "execute_result"
    }
   ],
   "source": [
    "# adt features, already normed\n",
    "cite_adt = sps.load_npz(join(data_root, 'CITE-ASAP/citeseq_control_adt.npz'))\n",
    "asap_adt = sps.load_npz(join(data_root, 'CITE-ASAP/asapseq_control_adt.npz'))\n",
    "\n",
    "cite_adt.shape, asap_adt.shape"
   ]
  },
  {
   "cell_type": "code",
   "execution_count": 8,
   "metadata": {},
   "outputs": [],
   "source": [
    "meta_rna = adata_rna.obs\n",
    "meta_atac = adata_atac.obs\n",
    "\n",
    "meta = pd.concat([meta_rna, meta_atac], axis=0)"
   ]
  },
  {
   "cell_type": "markdown",
   "metadata": {},
   "source": [
    "# Integration using Portal"
   ]
  },
  {
   "cell_type": "code",
   "execution_count": 9,
   "metadata": {},
   "outputs": [],
   "source": [
    "import portal\n",
    "\n",
    "# Specify the GPU device\n",
    "os.environ[\"CUDA_VISIBLE_DEVICES\"] = \"0\"\n",
    "\n",
    "# Create a folder for saving results\n",
    "result_path = \"./result\"\n",
    "if not os.path.exists(result_path):\n",
    "    os.makedirs(result_path)"
   ]
  },
  {
   "cell_type": "code",
   "execution_count": 10,
   "metadata": {
    "collapsed": true,
    "jupyter": {
     "outputs_hidden": true
    }
   },
   "outputs": [
    {
     "name": "stdout",
     "output_type": "stream",
     "text": [
      "Finding highly variable genes...\n",
      "If you pass `n_top_genes`, all cutoffs are ignored.\n",
      "extracting highly variable genes\n",
      "--> added\n",
      "    'highly_variable', boolean vector (adata.var)\n",
      "    'highly_variable_rank', float vector (adata.var)\n",
      "    'means', float vector (adata.var)\n",
      "    'variances', float vector (adata.var)\n",
      "    'variances_norm', float vector (adata.var)\n",
      "If you pass `n_top_genes`, all cutoffs are ignored.\n",
      "extracting highly variable genes\n"
     ]
    },
    {
     "name": "stderr",
     "output_type": "stream",
     "text": [
      "/home/yanxh/anaconda3/envs/torch112/lib/python3.8/site-packages/scanpy/preprocessing/_highly_variable_genes.py:62: UserWarning: `flavor='seurat_v3'` expects raw count data, but non-integers were found.\n",
      "  warnings.warn(\n",
      "/home/yanxh/anaconda3/envs/torch112/lib/python3.8/site-packages/scanpy/preprocessing/_highly_variable_genes.py:62: UserWarning: `flavor='seurat_v3'` expects raw count data, but non-integers were found.\n",
      "  warnings.warn(\n"
     ]
    },
    {
     "name": "stdout",
     "output_type": "stream",
     "text": [
      "--> added\n",
      "    'highly_variable', boolean vector (adata.var)\n",
      "    'highly_variable_rank', float vector (adata.var)\n",
      "    'means', float vector (adata.var)\n",
      "    'variances', float vector (adata.var)\n",
      "    'variances_norm', float vector (adata.var)\n",
      "Normalizing and scaling...\n",
      "... as `zero_center=True`, sparse input is densified and may lead to large memory consumption\n",
      "... as `zero_center=True`, sparse input is densified and may lead to large memory consumption\n",
      "Dimensionality reduction via PCA...\n"
     ]
    },
    {
     "name": "stderr",
     "output_type": "stream",
     "text": [
      "/home/yanxh/gitrepo/Portal-main/portal/model.py:65: FutureWarning: Index.__and__ operating as a set operation is deprecated, in the future this will be a logical operation matching Series.__and__.  Use index.intersection(other) instead.\n",
      "  hvg_total = hvg_A & hvg_B\n",
      "/home/yanxh/anaconda3/envs/torch112/lib/python3.8/site-packages/scanpy/preprocessing/_simple.py:843: UserWarning: Received a view of an AnnData. Making a copy.\n",
      "  view_to_actual(adata)\n",
      "/home/yanxh/anaconda3/envs/torch112/lib/python3.8/site-packages/scanpy/preprocessing/_simple.py:843: UserWarning: Received a view of an AnnData. Making a copy.\n",
      "  view_to_actual(adata)\n",
      "/home/yanxh/anaconda3/envs/torch112/lib/python3.8/site-packages/anndata/_core/anndata.py:1785: FutureWarning: X.dtype being converted to np.float32 from float64. In the next version of anndata (0.9) conversion will not be automatic. Pass dtype explicitly to avoid this warning. Pass `AnnData(X, dtype=X.dtype, ...)` to get the future behavour.\n",
      "  [AnnData(sparse.csr_matrix(a.shape), obs=a.obs) for a in all_adatas],\n"
     ]
    },
    {
     "name": "stdout",
     "output_type": "stream",
     "text": [
      "Begining time:  Wed Mar 15 18:12:56 2023\n",
      "step 0, loss_D=9.025234, loss_GAN=2.861747, loss_AE=164.344208, loss_cos=20.485653, loss_LA=123.485123\n",
      "step 200, loss_D=3.032115, loss_GAN=3.264146, loss_AE=11.616183, loss_cos=7.294182, loss_LA=2.559832\n",
      "step 400, loss_D=2.388177, loss_GAN=2.580564, loss_AE=7.482092, loss_cos=5.430686, loss_LA=1.181703\n",
      "step 600, loss_D=2.475388, loss_GAN=2.731363, loss_AE=6.651053, loss_cos=5.141285, loss_LA=0.862355\n",
      "step 800, loss_D=2.173625, loss_GAN=2.880960, loss_AE=5.651341, loss_cos=4.417048, loss_LA=0.738611\n",
      "step 1000, loss_D=2.592792, loss_GAN=2.744187, loss_AE=5.678359, loss_cos=4.715260, loss_LA=0.694730\n",
      "step 1200, loss_D=2.355566, loss_GAN=2.743433, loss_AE=5.313591, loss_cos=4.643137, loss_LA=0.529457\n",
      "step 1400, loss_D=2.150003, loss_GAN=3.114131, loss_AE=5.138807, loss_cos=4.632844, loss_LA=0.465213\n",
      "step 1600, loss_D=2.197693, loss_GAN=3.127018, loss_AE=5.000278, loss_cos=4.786707, loss_LA=0.415012\n",
      "step 1800, loss_D=2.322793, loss_GAN=3.164012, loss_AE=5.188564, loss_cos=4.709568, loss_LA=0.380661\n",
      "Ending time:  Wed Mar 15 18:13:52 2023\n",
      "Training takes 55.74 seconds\n",
      "Begining time:  Wed Mar 15 18:13:52 2023\n",
      "Ending time:  Wed Mar 15 18:13:52 2023\n",
      "Evaluating takes 0.03 seconds\n"
     ]
    }
   ],
   "source": [
    "## standard portal pipeline\n",
    "\n",
    "model = portal.model.Model(training_steps=2000, \n",
    "                           lambdacos=10., lambdaAE=10., lambdaLA=10., lambdaGAN=1.0)\n",
    "model.preprocess(adata_rna, adata_atac, norm=False, hvg_num=4000,\n",
    "                 norm_pca=False) # perform preprocess and PCA\n",
    "model.train() # train the modela\n",
    "model.eval() # get integrated latent representation of cells\n",
    "\n",
    "# portal.utils.plot_UMAP(model.latent, meta, colors=[\"data_type\", \"cell_type\"], save=False, result_path=result_path)"
   ]
  },
  {
   "cell_type": "code",
   "execution_count": 11,
   "metadata": {},
   "outputs": [
    {
     "data": {
      "text/plain": [
       "0.8352177050757758"
      ]
     },
     "execution_count": 11,
     "metadata": {},
     "output_type": "execute_result"
    }
   ],
   "source": [
    "from portal.knn_classifier import knn_classifier_top_k, faiss_knn, knn_classifier_prob_concerto\n",
    "rna_lab = np.array(adata_rna.obs.cell_type.values)\n",
    "atac_lab = np.array(adata_atac.obs.cell_type.values)\n",
    "\n",
    "feat_A, feat_B = model.latent[:len(rna_lab)], model.latent[len(rna_lab):]\n",
    "# feat_A, feat_B = normalize(feat_A, axis=1), normalize(feat_B, axis=1)\n",
    "\n",
    "# knn_classifier\n",
    "atac_pred, atac_prob = knn_classifier_prob_concerto(feat_A, feat_B, rna_lab, n_sample=None, knn=30, num_chunks=100)\n",
    "\n",
    "shr_mask = np.in1d(atac_lab, np.unique(rna_lab))\n",
    "(np.ravel(atac_pred)[shr_mask] == atac_lab[shr_mask]).mean() "
   ]
  },
  {
   "cell_type": "code",
   "execution_count": 12,
   "metadata": {},
   "outputs": [
    {
     "name": "stdout",
     "output_type": "stream",
     "text": [
      "close_acc= 0.8352\n",
      "AUROC= 0.5107\n",
      "AUPR= 0.0730\n",
      "OSCR= 0.4572\n"
     ]
    },
    {
     "data": {
      "text/plain": [
       "(0.8352177050757758,\n",
       " 0.5106978625193057,\n",
       " 0.07299037625711248,\n",
       " 0.45716043830382164)"
      ]
     },
     "execution_count": 12,
     "metadata": {},
     "output_type": "execute_result"
    }
   ],
   "source": [
    "from portal.metrics import osr_evaluator\n",
    "\n",
    "\n",
    "open_score = 1 - atac_prob\n",
    "\n",
    "kn_data_pr = atac_pred[shr_mask]\n",
    "kn_data_gt = atac_lab[shr_mask]\n",
    "kn_data_open_score = open_score[shr_mask]\n",
    "\n",
    "unk_data_open_score = open_score[np.logical_not(shr_mask)]\n",
    "\n",
    "closed_acc, os_auroc, os_aupr, oscr = osr_evaluator(kn_data_pr, kn_data_gt, kn_data_open_score, unk_data_open_score)\n",
    "closed_acc, os_auroc, os_aupr, oscr"
   ]
  },
  {
   "cell_type": "code",
   "execution_count": null,
   "metadata": {},
   "outputs": [],
   "source": []
  }
 ],
 "metadata": {
  "kernelspec": {
   "display_name": "torch171",
   "language": "python",
   "name": "torch171"
  },
  "language_info": {
   "codemirror_mode": {
    "name": "ipython",
    "version": 3
   },
   "file_extension": ".py",
   "mimetype": "text/x-python",
   "name": "python",
   "nbconvert_exporter": "python",
   "pygments_lexer": "ipython3",
   "version": "3.6.5"
  }
 },
 "nbformat": 4,
 "nbformat_minor": 4
}
