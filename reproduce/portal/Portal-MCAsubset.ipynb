{
 "cells": [
  {
   "cell_type": "code",
   "execution_count": 11,
   "metadata": {},
   "outputs": [
    {
     "name": "stdout",
     "output_type": "stream",
     "text": [
      "The autoreload extension is already loaded. To reload it, use:\n",
      "  %reload_ext autoreload\n",
      "scanpy==1.9.1 anndata==0.8.0 umap==0.5.3 numpy==1.23.3 scipy==1.9.3 pandas==1.5.1 scikit-learn==1.1.2 statsmodels==0.13.2 python-igraph==0.10.2 louvain==0.8.0 pynndescent==0.5.7\n"
     ]
    }
   ],
   "source": [
    "%load_ext autoreload\n",
    "%autoreload 2\n",
    "\n",
    "import os\n",
    "import h5py\n",
    "import numpy as np\n",
    "import pandas as pd\n",
    "import scanpy as sc\n",
    "import anndata\n",
    "import csv\n",
    "import gzip\n",
    "import scipy.io\n",
    "\n",
    "import scipy.sparse as sps\n",
    "\n",
    "from os.path import join\n",
    "from sklearn.decomposition import PCA, IncrementalPCA\n",
    "\n",
    "os.environ[\"CUDA_VISIBLE_DEVICES\"] = \"0\"\n",
    "\n",
    "np.random.seed(1234)\n",
    "\n",
    "sc.settings.verbosity = 3\n",
    "sc.logging.print_header()"
   ]
  },
  {
   "cell_type": "code",
   "execution_count": 20,
   "metadata": {},
   "outputs": [],
   "source": [
    "data_root = '/home/yanxh/data/MCA/scjoint/atlas_subset'\n",
    "\n",
    "adata_atac = sc.read_h5ad(join(data_root, 'adata_atac_cache.h5ad'))\n",
    "adata_rna_facs = sc.read_h5ad('./cache/adata_rna_facs.h5ad')"
   ]
  },
  {
   "cell_type": "code",
   "execution_count": 21,
   "metadata": {},
   "outputs": [],
   "source": [
    "meta_rna = adata_rna_facs.obs\n",
    "meta_atac = adata_atac.obs\n",
    "\n",
    "meta = pd.concat([meta_rna, meta_atac], axis=0)"
   ]
  },
  {
   "cell_type": "markdown",
   "metadata": {},
   "source": [
    "# Integration using Portal"
   ]
  },
  {
   "cell_type": "code",
   "execution_count": 22,
   "metadata": {},
   "outputs": [],
   "source": [
    "import portal\n",
    "\n",
    "# Specify the GPU device\n",
    "os.environ[\"CUDA_VISIBLE_DEVICES\"] = \"0\"\n",
    "\n",
    "# Create a folder for saving results\n",
    "result_path = \"./result\"\n",
    "if not os.path.exists(result_path):\n",
    "    os.makedirs(result_path)"
   ]
  },
  {
   "cell_type": "code",
   "execution_count": 23,
   "metadata": {},
   "outputs": [
    {
     "name": "stdout",
     "output_type": "stream",
     "text": [
      "Finding highly variable genes...\n",
      "If you pass `n_top_genes`, all cutoffs are ignored.\n",
      "extracting highly variable genes\n"
     ]
    },
    {
     "name": "stderr",
     "output_type": "stream",
     "text": [
      "/home/yanxh/anaconda3/envs/torch112/lib/python3.8/site-packages/scanpy/preprocessing/_highly_variable_genes.py:62: UserWarning: `flavor='seurat_v3'` expects raw count data, but non-integers were found.\n",
      "  warnings.warn(\n"
     ]
    },
    {
     "name": "stdout",
     "output_type": "stream",
     "text": [
      "--> added\n",
      "    'highly_variable', boolean vector (adata.var)\n",
      "    'highly_variable_rank', float vector (adata.var)\n",
      "    'means', float vector (adata.var)\n",
      "    'variances', float vector (adata.var)\n",
      "    'variances_norm', float vector (adata.var)\n",
      "If you pass `n_top_genes`, all cutoffs are ignored.\n",
      "extracting highly variable genes\n",
      "--> added\n",
      "    'highly_variable', boolean vector (adata.var)\n",
      "    'highly_variable_rank', float vector (adata.var)\n",
      "    'means', float vector (adata.var)\n",
      "    'variances', float vector (adata.var)\n",
      "    'variances_norm', float vector (adata.var)\n",
      "Normalizing and scaling...\n",
      "normalizing counts per cell\n",
      "    finished (0:00:00)\n"
     ]
    },
    {
     "name": "stderr",
     "output_type": "stream",
     "text": [
      "/home/yanxh/gitrepo/Portal-main/portal/model.py:65: FutureWarning: Index.__and__ operating as a set operation is deprecated, in the future this will be a logical operation matching Series.__and__.  Use index.intersection(other) instead.\n",
      "  hvg_B = adata_B.var[adata_B.var.highly_variable == True].sort_values(by=\"highly_variable_rank\").index\n"
     ]
    },
    {
     "name": "stdout",
     "output_type": "stream",
     "text": [
      "... as `zero_center=True`, sparse input is densified and may lead to large memory consumption\n"
     ]
    },
    {
     "name": "stderr",
     "output_type": "stream",
     "text": [
      "/home/yanxh/anaconda3/envs/torch112/lib/python3.8/site-packages/scanpy/preprocessing/_simple.py:843: UserWarning: Received a view of an AnnData. Making a copy.\n",
      "  view_to_actual(adata)\n"
     ]
    },
    {
     "name": "stdout",
     "output_type": "stream",
     "text": [
      "normalizing counts per cell\n",
      "    finished (0:00:00)\n"
     ]
    },
    {
     "name": "stderr",
     "output_type": "stream",
     "text": [
      "/home/yanxh/anaconda3/envs/torch112/lib/python3.8/site-packages/scanpy/preprocessing/_simple.py:843: UserWarning: Received a view of an AnnData. Making a copy.\n",
      "  view_to_actual(adata)\n"
     ]
    },
    {
     "name": "stdout",
     "output_type": "stream",
     "text": [
      "... as `zero_center=True`, sparse input is densified and may lead to large memory consumption\n"
     ]
    },
    {
     "name": "stderr",
     "output_type": "stream",
     "text": [
      "/home/yanxh/anaconda3/envs/torch112/lib/python3.8/site-packages/anndata/_core/anndata.py:1785: FutureWarning: X.dtype being converted to np.float32 from float64. In the next version of anndata (0.9) conversion will not be automatic. Pass dtype explicitly to avoid this warning. Pass `AnnData(X, dtype=X.dtype, ...)` to get the future behavour.\n",
      "  [AnnData(sparse.csr_matrix(a.shape), obs=a.obs) for a in all_adatas],\n"
     ]
    },
    {
     "name": "stdout",
     "output_type": "stream",
     "text": [
      "Dimensionality reduction via PCA...\n",
      "Begining time:  Wed Mar 15 20:44:30 2023\n",
      "step 0, loss_D=9.808245, loss_GAN=2.702325, loss_AE=216.465622, loss_cos=19.459293, loss_LA=143.906418\n",
      "step 200, loss_D=1.668709, loss_GAN=5.677012, loss_AE=9.109465, loss_cos=6.616749, loss_LA=2.882347\n",
      "step 400, loss_D=1.733399, loss_GAN=4.735919, loss_AE=5.569479, loss_cos=4.979091, loss_LA=1.436113\n",
      "step 600, loss_D=1.750516, loss_GAN=5.045116, loss_AE=4.710191, loss_cos=4.962234, loss_LA=1.079320\n",
      "step 800, loss_D=1.661037, loss_GAN=4.729759, loss_AE=4.154727, loss_cos=4.743510, loss_LA=0.853174\n",
      "step 1000, loss_D=1.654614, loss_GAN=4.778986, loss_AE=3.885304, loss_cos=4.633429, loss_LA=0.780560\n",
      "step 1200, loss_D=1.554244, loss_GAN=4.817694, loss_AE=3.307889, loss_cos=4.199209, loss_LA=0.588533\n",
      "step 1400, loss_D=1.494370, loss_GAN=4.665422, loss_AE=3.187139, loss_cos=4.298346, loss_LA=0.553031\n",
      "step 1600, loss_D=1.397216, loss_GAN=5.034347, loss_AE=3.221094, loss_cos=3.760895, loss_LA=0.498337\n",
      "step 1800, loss_D=1.482173, loss_GAN=4.924609, loss_AE=2.964771, loss_cos=3.695587, loss_LA=0.423487\n",
      "Ending time:  Wed Mar 15 20:45:19 2023\n",
      "Training takes 49.17 seconds\n",
      "Begining time:  Wed Mar 15 20:45:19 2023\n",
      "Ending time:  Wed Mar 15 20:45:19 2023\n",
      "Evaluating takes 0.02 seconds\n"
     ]
    }
   ],
   "source": [
    "## standard portal pipeline\n",
    "\n",
    "model = portal.model.Model(training_steps=2000, \n",
    "                           lambdacos=10., lambdaAE=10., lambdaLA=10., lambdaGAN=1.0)\n",
    "model.preprocess(adata_rna_facs, adata_atac, norm=True, hvg_num=4000, norm_pca=False) # perform preprocess and PCA\n",
    "model.train() # train the model\n",
    "model.eval() # get integrated latent representation of cells\n",
    "\n",
    "# portal.utils.plot_UMAP(model.latent, meta, colors=[\"domain\", \"cell_type\"], save=False, result_path=result_path)"
   ]
  },
  {
   "cell_type": "code",
   "execution_count": 24,
   "metadata": {},
   "outputs": [
    {
     "data": {
      "text/plain": [
       "0.7504299636919549"
      ]
     },
     "execution_count": 24,
     "metadata": {},
     "output_type": "execute_result"
    }
   ],
   "source": [
    "from portal.knn_classifier import knn_classifier_top_k, faiss_knn, knn_classifier_prob_concerto\n",
    "rna_lab = np.array(adata_rna_facs.obs.cell_type.values)\n",
    "atac_lab = np.array(adata_atac.obs.cell_type.values)\n",
    "\n",
    "feat_A, feat_B = model.latent[:len(rna_lab)], model.latent[len(rna_lab):]\n",
    "# feat_A, feat_B = normalize(feat_A, axis=1), normalize(feat_B, axis=1)\n",
    "\n",
    "# knn_classifier\n",
    "atac_pred, atac_prob = knn_classifier_prob_concerto(feat_A, feat_B, rna_lab, n_sample=None, knn=30, num_chunks=100)\n",
    "\n",
    "shr_mask = np.in1d(atac_lab, np.unique(rna_lab))\n",
    "(np.ravel(atac_pred)[shr_mask] == atac_lab[shr_mask]).mean() "
   ]
  },
  {
   "cell_type": "code",
   "execution_count": null,
   "metadata": {},
   "outputs": [],
   "source": []
  }
 ],
 "metadata": {
  "kernelspec": {
   "display_name": "torch171",
   "language": "python",
   "name": "torch171"
  },
  "language_info": {
   "codemirror_mode": {
    "name": "ipython",
    "version": 3
   },
   "file_extension": ".py",
   "mimetype": "text/x-python",
   "name": "python",
   "nbconvert_exporter": "python",
   "pygments_lexer": "ipython3",
   "version": "3.6.5"
  }
 },
 "nbformat": 4,
 "nbformat_minor": 4
}
