{
 "cells": [
  {
   "cell_type": "code",
   "execution_count": null,
   "metadata": {},
   "outputs": [],
   "source": [
    "%load_ext autoreload\n",
    "%autoreload 2\n",
    "\n",
    "import os\n",
    "import h5py\n",
    "import numpy as np\n",
    "import pandas as pd\n",
    "import scanpy as sc\n",
    "import anndata\n",
    "import csv\n",
    "import gzip\n",
    "import scipy.io\n",
    "\n",
    "import scipy.sparse as sps\n",
    "\n",
    "from os.path import join\n",
    "from sklearn.decomposition import PCA, IncrementalPCA\n",
    "\n",
    "os.environ[\"CUDA_VISIBLE_DEVICES\"] = \"0\"\n",
    "\n",
    "np.random.seed(1234)\n",
    "\n",
    "sc.settings.verbosity = 3\n",
    "sc.logging.print_header()"
   ]
  },
  {
   "cell_type": "code",
   "execution_count": null,
   "metadata": {},
   "outputs": [],
   "source": [
    "data_root = '/home/yanxh/data/pbmc_10x'\n",
    "\n",
    "\n",
    "# adata_atac = sc.read_h5ad(join(data_root, 'ATAC/adata_atac.h5ad'))\n",
    "adata_rna = sc.read_h5ad(join(data_root, 'RNA/adata_rna.h5ad'))\n",
    "adata_atac_gam = sc.read_h5ad(join(data_root, 'ATAC_GAM/adata_atac_gam.h5ad'))\n",
    "\n",
    "\n",
    "gene_share = adata_atac_gam.var_names.intersection(adata_rna.var_names)\n",
    "adata_atac_gam2 = adata_atac_gam[:, gene_share]\n",
    "adata_rna2 = adata_rna[:, gene_share]\n"
   ]
  },
  {
   "cell_type": "code",
   "execution_count": null,
   "metadata": {},
   "outputs": [],
   "source": [
    "meta_rna = adata_rna2.obs\n",
    "meta_atac = adata_atac_gam2.obs\n",
    "\n",
    "meta = pd.concat([meta_rna, meta_atac], axis=0)"
   ]
  },
  {
   "cell_type": "markdown",
   "metadata": {},
   "source": [
    "# Integration using Portal"
   ]
  },
  {
   "cell_type": "code",
   "execution_count": null,
   "metadata": {},
   "outputs": [],
   "source": [
    "import portal\n",
    "\n",
    "# Specify the GPU device\n",
    "os.environ[\"CUDA_VISIBLE_DEVICES\"] = \"0\"\n",
    "\n",
    "# Create a folder for saving results\n",
    "result_path = \"./result\"\n",
    "if not os.path.exists(result_path):\n",
    "    os.makedirs(result_path)"
   ]
  },
  {
   "cell_type": "code",
   "execution_count": null,
   "metadata": {
    "collapsed": true,
    "jupyter": {
     "outputs_hidden": true
    }
   },
   "outputs": [],
   "source": [
    "## standard portal pipeline\n",
    "\n",
    "model = portal.model.Model(training_steps=2000, \n",
    "                           lambdacos=10., lambdaAE=10., lambdaLA=10., lambdaGAN=1.0)\n",
    "model.preprocess(adata_rna2, adata_atac_gam2, hvg_num=4000, norm_pca=False) # perform preprocessing and PCA\n",
    "print('preprocessed feature dim: ', len(model.hvg_total))\n",
    "\n",
    "model.train() # train the model\n",
    "model.eval() # get integrated latent representation of cells\n",
    "\n",
    "# portal.utils.plot_UMAP(model.latent, meta, colors=[\"domain\", \"cell_type\"], save=False, result_path=result_path)"
   ]
  },
  {
   "cell_type": "code",
   "execution_count": null,
   "metadata": {},
   "outputs": [],
   "source": [
    "from portal.knn_classifier import knn_classifier_top_k, faiss_knn, knn_classifier_prob_concerto\n",
    "rna_lab = np.array(adata_rna2.obs.cell_type.values)\n",
    "atac_lab = np.array(adata_atac_gam2.obs.cell_type.values)\n",
    "\n",
    "feat_A, feat_B = model.latent[:len(rna_lab)], model.latent[len(rna_lab):]\n",
    "# feat_A, feat_B = normalize(feat_A, axis=1), normalize(feat_B, axis=1)\n",
    "\n",
    "# knn_classifier\n",
    "atac_pred, atac_prob = knn_classifier_prob_concerto(feat_A, feat_B, rna_lab, n_sample=None, knn=30, num_chunks=100)\n",
    "\n",
    "shr_mask = np.in1d(atac_lab, np.unique(rna_lab))\n",
    "(np.ravel(atac_pred)[shr_mask] == atac_lab[shr_mask]).mean() "
   ]
  },
  {
   "cell_type": "code",
   "execution_count": null,
   "metadata": {},
   "outputs": [],
   "source": [
    "from portal.metrics import osr_evaluator\n",
    "\n",
    "\n",
    "open_score = 1 - atac_prob\n",
    "\n",
    "kn_data_pr = atac_pred[shr_mask]\n",
    "kn_data_gt = atac_lab[shr_mask]\n",
    "kn_data_open_score = open_score[shr_mask]\n",
    "\n",
    "unk_data_open_score = open_score[np.logical_not(shr_mask)]\n",
    "\n",
    "closed_acc, os_auroc, os_aupr, oscr = osr_evaluator(kn_data_pr, kn_data_gt, kn_data_open_score, unk_data_open_score)\n",
    "closed_acc, os_auroc, os_aupr, oscr"
   ]
  }
 ],
 "metadata": {
  "kernelspec": {
   "display_name": "torch171",
   "language": "python",
   "name": "torch171"
  },
  "language_info": {
   "codemirror_mode": {
    "name": "ipython",
    "version": 3
   },
   "file_extension": ".py",
   "mimetype": "text/x-python",
   "name": "python",
   "nbconvert_exporter": "python",
   "pygments_lexer": "ipython3",
   "version": "3.6.5"
  }
 },
 "nbformat": 4,
 "nbformat_minor": 4
}
